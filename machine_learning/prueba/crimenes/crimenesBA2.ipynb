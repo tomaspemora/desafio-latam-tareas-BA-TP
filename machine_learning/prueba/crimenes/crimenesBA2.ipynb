{
 "cells": [
  {
   "cell_type": "markdown",
   "metadata": {},
   "source": [
    "# ***Machine Learning Prueba 2 - Analizando los crímenes en la Ciudad de Nueva York***.\n",
    "### Nombre(s): Thomas Peet, Braulio Águila, Camilo Ramírez\n",
    "### Generación: G47\n",
    "### Profesores: Alfonso Tobar - Sebastián Ulloa\n",
    "### Fecha: 06-10-2022"
   ]
  },
  {
   "cell_type": "markdown",
   "metadata": {},
   "source": [
    "### *Contexto*\n",
    "En esta ocasión trabajaremos con datos públicos del departamento de policía de New York.    \n",
    "El dataset es llamado stop_and_frisk_data y contiene información sobre interrogaciones    \n",
    "y detenciones realizadas por el departamento de policía de NY en la vía pública. El    \n",
    "diccionario de atributos se encuentra en el archivo 2009 SQF File Spec.xls.    \n",
    "Para todo nuestro estudio utilizaremos los datos correspondientes al año 2009 como    \n",
    "conjunto de entrenamiento y los datos del 2010 como conjunto de pruebas. Hay que hacer    \n",
    "notar que los datos que estamos utilizando son un muestreo del de la cantidad de registros    \n",
    "reales que contiene el dataset, esta decisión fue tomada debido a los largos tiempos de    \n",
    "entrenamiento y procesamiento que requiere el volumen de datos reales. "
   ]
  },
  {
   "cell_type": "markdown",
   "metadata": {},
   "source": [
    "### *Objetivos*\n",
    "Para alcanzar el objetivo general, su trabajo se puede desagregar en los siguientes puntos:  \n",
    "\n",
    "1. Debe analizar de forma exploratoria los atributos. Reporte la cantidad de datos    \n",
    "perdidos y presente su esquema de recodificación. Tenga presente que lo que    \n",
    "observe en el análisis exploratorio debe guiar su proceso de ingeniería de atributos,    \n",
    "por lo que se le recomienda que piense en aspectos de las variables involucradas     \n",
    "que puedan afectar el proceso mencionado.\n",
    "\n",
    "2. Reporte la probabilidad de que un individuo sea arrestado en uno de los cinco  \n",
    "barrios, condicional al género y a la raza. Concluya, ¿qué implicancias éticas tienen  \n",
    "algunas conclusiones de lo que observa?.\n",
    "\n",
    "3. Entregue un modelo predictivo que prediga efectivamente si un determinado  \n",
    "procedimiento concluirá en un arresto o no. Para ello, guíate por los siguientes  \n",
    "lineamientos:  \n",
    "    - Entrene por lo menos 3 modelos que sean capaces de predecir si se  \n",
    "producirá un arresto o no. Una vez que encuentre un modelo satisfactorio,  \n",
    "reporte al menos dos métricas de desempeño.  \n",
    "    - Refine aquellos atributos relevantes con alguna estrategia que crea  \n",
    "conveniente y reporte por lo menos 5 atributos relevantes para realizar la  \n",
    "predicción.\n",
    "\n",
    "4. Genere al menos cinco modelos predictivos que permitan determinar si el  \n",
    "procedimiento policial concluirá en alguna acción violenta.  \n",
    "○ Para ello, debe generar un nuevo atributo como vector objetivo que indique  \n",
    "cuándo hubo violencia o no. Éste debe ser creado a partir de atributos  \n",
    "existentes que indiquen el tipo de violencia.\n",
    "  \n",
    "5. Seleccione los 2 mejores modelos, serialicelos y envíalos a evaluación. Recuerde que  \n",
    "el modelo serializado debe ser posterior al fit, para poder ejecutar predict en los  \n",
    "nuevos datos"
   ]
  },
  {
   "cell_type": "markdown",
   "metadata": {},
   "source": [
    ">>>#### Tipo de problema a resolver:\n",
    "- De acuerdo con el enunciado y una revisión preliminar de los datos entregados, ambas problemáticas planteadas,  \n",
    "el hecho de que ocurra o no un arresto, y de que un procedimiento policial es o no violento, corresponden a   \n",
    "problemas de **clasificación**, ya que ambas variables objetivos son discretas."
   ]
  },
  {
   "cell_type": "markdown",
   "metadata": {},
   "source": [
    ">>>#### Tipo de métricas a implementar:\n",
    "- Las métricas que se utilizarán para la división de muestras corresponden a :\n",
    "- Tipo de preprocesamiento: "
   ]
  },
  {
   "cell_type": "markdown",
   "metadata": {},
   "source": [
    ">>>#### Modelos (5) con gridsearch e hiperparamétros tentativos/definitivos:\n",
    "- Modelo 1:\n",
    "- Modelo 2:\n",
    "- Modelo 3:\n",
    "- Modelo 4:\n",
    "- Modelo 5:"
   ]
  },
  {
   "cell_type": "markdown",
   "metadata": {},
   "source": [
    ">>>#### Comportamiento de variables objetivo (recodificados):\n",
    "- Variable objetivo 1: procedimiento policial en el que ocurre o no un arresto (\"arstmade\")\n",
    "- Variable objetivo 2: procedimiento policial "
   ]
  },
  {
   "cell_type": "code",
   "execution_count": 1,
   "metadata": {},
   "outputs": [],
   "source": [
    "import pandas as pd\n",
    "import numpy as np\n",
    "import matplotlib.pyplot as plt\n",
    "import seaborn as sns\n",
    "\n",
    "from sklearn.metrics import classification_report\n",
    "from sklearn.model_selection import train_test_split, GridSearchCV\n",
    "from sklearn.pipeline import Pipeline\n",
    "\n",
    "from feature_engine.imputation import CategoricalImputer, MeanMedianImputer\n",
    "from feature_engine.encoding import OrdinalEncoder, OneHotEncoder\n",
    "from feature_engine.wrappers import SklearnTransformerWrapper\n",
    "#from feature engine drop features ----> sacar features para el pipeline\n",
    "from sklearn.preprocessing import StandardScaler\n",
    "\n",
    "from sklearn.tree import DecisionTreeClassifier\n",
    "from sklearn.linear_model import LogisticRegression\n",
    "from sklearn.svm import SVC\n",
    "from sklearn.naive_bayes import GaussianNB\n",
    "from sklearn.neighbors import KNeighborsClassifier\n",
    "from sklearn.ensemble import VotingClassifier, RandomForestClassifier, GradientBoostingClassifier, AdaBoostClassifier\n",
    "\n",
    "from sklearn import set_config\n",
    "set_config(display='diagram')\n",
    "\n",
    "from pathlib import Path\n",
    "from pandas_profiling import ProfileReport\n",
    "\n",
    "import geopandas as gpd\n",
    "import contextily as cx\n",
    "#import shapely\n",
    "#import folium \n",
    "import pyproj\n",
    "import helpers as hp\n",
    "import preproc_nyc_sqf_V2 as preproc\n",
    "import contextily as cx\n",
    "#pd.set_option('display.max_colwidth', None)\n",
    "#pd.set_option('display.max_rows', None)\n",
    "#pd.set_option('display.max_columns', None)"
   ]
  },
  {
   "cell_type": "markdown",
   "metadata": {},
   "source": [
    "## ***Dataset interrogaciones/detenciones Policía de Nueva York - 2009***:"
   ]
  },
  {
   "cell_type": "markdown",
   "metadata": {},
   "source": [
    "## Preprocesamiento del dataframe"
   ]
  },
  {
   "cell_type": "code",
   "execution_count": 2,
   "metadata": {},
   "outputs": [],
   "source": [
    "from sklearn.preprocessing import FunctionTransformer\n",
    "import sys\n",
    "sys.path.append('..')\n",
    "\n",
    "from utils import CreateSuitableDataframeTransformer\n",
    "from utils import OrdinalEncoderFixedTransformer\n",
    "from utils import DropRowsTransformer\n",
    "from utils import CriterioExperto\n",
    "import utils"
   ]
  },
  {
   "cell_type": "markdown",
   "metadata": {},
   "source": [
    "## Definición de los datasets para los 2 problemas de clasificación"
   ]
  },
  {
   "cell_type": "code",
   "execution_count": 3,
   "metadata": {},
   "outputs": [],
   "source": [
    "# Considerar variables relevantes para modelos de procedimiento que concluye en arresto y/o procedimiento que concluye en situación violenta:\n",
    "# redefinir variable \"others\" (esta mál escrita con respecto a la planilla)\n",
    "\n",
    "mantener = [\"var_pf\", \"rf_vcrim\", \"rf_othsw\t\", \"cs_descr\", \"arstmade\", \"contrabn\",\n",
    "\"pistol\", \"riflshot\", \"asltweap\", \"knifcuti\", \"othrweap\", \"rf_vcact\", \"ac_evasv\", \"offshld\", \"cs_drgtr\",\"sb_outln\",\t\"sb_hdobj\", \"ac_time\", \"rf_knowl\", \"ac_assoc\", \"rf_rfcmp\", \"cs_vcrim\", \"ac_incid\", \"rf_verbl\", \"sex\", \"city\", \"race\", \"month\", \"xcoord\", \"ycoord\", \"sb_admis\"]\n",
    "\n",
    "var_eliminar_pf = [\"pf_baton\", \"pf_hcuff\", \"pf_pepsp\", \"pf_other\", \"pf_ptwep\", \"pf_drwep\", \"pf_wall\", \"pf_hands\", \"pf_grnd\"] #9 variables eliminadas\n",
    "\n",
    "var_eliminar_others = [\"ac_rept\", \"ac_inves\", \"ac_proxm\", \"cs_casng\", \"cs_lkout\", \"explnstp\", \n",
    "\"sumissue\", \"offunif\", \"officrid\", \"frisked\", \"searched\", \"cs_cloth\", \"offverb\", \"rf_furt\",\n",
    "\"sb_other\", \"ac_other\", \"rf_bulg\", \"cs_furtv\", \"recstat\", \"cs_bulge\", \"cs_other\", \"trhsloc\", \"build\", \"beat\", \"post\",\"rf_attir\", \"cs_objcs\",\"eyecolor\", \"haircolr\", \"sector\" ]\n",
    "\n",
    "pendientes = [\"radio\", \"inout\", \"othpers\", \"ac_stsnd\", \"ac_cgdir\", \"meters\", \"typeofid\"]\n"
   ]
  },
  {
   "cell_type": "code",
   "execution_count": 4,
   "metadata": {},
   "outputs": [
    {
     "data": {
      "text/plain": [
       "((5812, 110), (5812,), (5812, 102), (5812,))"
      ]
     },
     "execution_count": 4,
     "metadata": {},
     "output_type": "execute_result"
    }
   ],
   "source": [
    "df2009 = pd.read_csv('2009_1perc.csv', index_col=0)\n",
    "x_1, y_1, x_2, y_2 = utils.split_features_target(df2009)\n",
    "x_1.shape, y_1.shape, x_2.shape, y_2.shape"
   ]
  },
  {
   "cell_type": "markdown",
   "metadata": {},
   "source": [
    "* Se eliminan los datos sin xcoord o ycoord\n",
    "* Se eliminan los registros de detenidos menores de 18 años"
   ]
  },
  {
   "cell_type": "code",
   "execution_count": 5,
   "metadata": {},
   "outputs": [
    {
     "name": "stdout",
     "output_type": "stream",
     "text": [
      "El mismo dataframe aplicando los criterios de descartar datos sin xcoord/ycoord y registros de menores de 18 años\n"
     ]
    },
    {
     "data": {
      "text/plain": [
       "((4499, 111), (4499,), (4499, 103), (4499,))"
      ]
     },
     "execution_count": 5,
     "metadata": {},
     "output_type": "execute_result"
    }
   ],
   "source": [
    "drt = DropRowsTransformer() # Creo que la mejor idea sería serializar esto y el pipeline central y mandarle los 2 a Alfonso\n",
    "df2009_nonull = drt.transform(df2009)\n",
    "\n",
    "x_1_i, y_1_i, x_2_i, y_2_i = utils.split_features_target(df2009_nonull)\n",
    "print('El mismo dataframe aplicando los criterios de descartar datos sin xcoord/ycoord y registros de menores de 18 años')\n",
    "x_1_i.shape, y_1_i.shape, x_2_i.shape, y_2_i.shape\n"
   ]
  },
  {
   "cell_type": "code",
   "execution_count": 6,
   "metadata": {},
   "outputs": [
    {
     "data": {
      "text/plain": [
       "'BROOKLYN'"
      ]
     },
     "execution_count": 6,
     "metadata": {},
     "output_type": "execute_result"
    }
   ],
   "source": [
    "df2009_nonull.city.mode()[0]"
   ]
  },
  {
   "cell_type": "code",
   "execution_count": 7,
   "metadata": {},
   "outputs": [],
   "source": [
    "#Se utiliza función entregada para limpieza preliminar de la data, se obtiene un df nuevo procesado y dos listas:\n",
    "# proc_df #este nuevo dataframe, estas constituido de 69 variables categóricas y 2 númericas sintéticas (\"meters\", \"month\")\n",
    "\n",
    "csd = CreateSuitableDataframeTransformer()\n",
    "preprocess = Pipeline(steps=[\n",
    "    ('ce', CriterioExperto(columns = var_eliminar_others + var_eliminar_pf)),\n",
    "    ('csd', csd),\n",
    "    ('cat_imp', CategoricalImputer(imputation_method='frequent')),\n",
    "    ('num_imp', MeanMedianImputer(imputation_method='mean')),\n",
    "    ('oe', OrdinalEncoderFixedTransformer(encoding_method='ordered', csd=csd)),# aqui estoy pasando info desde el proceso csd (que son las columnas que seleccionamos como categoricas) para encodear.\n",
    "    ('sc', SklearnTransformerWrapper(StandardScaler()))\n",
    "])\n",
    "\n",
    "# X_train_1, X_test_1, y_train_1, y_test_1 = train_test_split(x_1, y_1, test_size=.2, random_state=42)\n",
    "# X_train_1_tr = preprocess.fit_transform(X_train_1, y_train_1)\n",
    "# X_test_1_tr = preprocess.transform(X_test_1)\n",
    "# X_train_1_tr\n",
    "# X_test_1_tr"
   ]
  },
  {
   "cell_type": "code",
   "execution_count": 8,
   "metadata": {},
   "outputs": [
    {
     "name": "stdout",
     "output_type": "stream",
     "text": [
      "train\n",
      "              precision    recall  f1-score   support\n",
      "\n",
      "           0     0.9627    1.0000    0.9810      4382\n",
      "           1     1.0000    0.3633    0.5330       267\n",
      "\n",
      "    accuracy                         0.9634      4649\n",
      "   macro avg     0.9813    0.6816    0.7570      4649\n",
      "weighted avg     0.9648    0.9634    0.9552      4649\n",
      "\n",
      "test\n",
      "              precision    recall  f1-score   support\n",
      "\n",
      "           0     0.9448    0.9963    0.9699      1082\n",
      "           1     0.8182    0.2222    0.3495        81\n",
      "\n",
      "    accuracy                         0.9424      1163\n",
      "   macro avg     0.8815    0.6093    0.6597      1163\n",
      "weighted avg     0.9360    0.9424    0.9267      1163\n",
      "\n"
     ]
    },
    {
     "data": {
      "text/html": [
       "<style>#sk-container-id-1 {color: black;background-color: white;}#sk-container-id-1 pre{padding: 0;}#sk-container-id-1 div.sk-toggleable {background-color: white;}#sk-container-id-1 label.sk-toggleable__label {cursor: pointer;display: block;width: 100%;margin-bottom: 0;padding: 0.3em;box-sizing: border-box;text-align: center;}#sk-container-id-1 label.sk-toggleable__label-arrow:before {content: \"▸\";float: left;margin-right: 0.25em;color: #696969;}#sk-container-id-1 label.sk-toggleable__label-arrow:hover:before {color: black;}#sk-container-id-1 div.sk-estimator:hover label.sk-toggleable__label-arrow:before {color: black;}#sk-container-id-1 div.sk-toggleable__content {max-height: 0;max-width: 0;overflow: hidden;text-align: left;background-color: #f0f8ff;}#sk-container-id-1 div.sk-toggleable__content pre {margin: 0.2em;color: black;border-radius: 0.25em;background-color: #f0f8ff;}#sk-container-id-1 input.sk-toggleable__control:checked~div.sk-toggleable__content {max-height: 200px;max-width: 100%;overflow: auto;}#sk-container-id-1 input.sk-toggleable__control:checked~label.sk-toggleable__label-arrow:before {content: \"▾\";}#sk-container-id-1 div.sk-estimator input.sk-toggleable__control:checked~label.sk-toggleable__label {background-color: #d4ebff;}#sk-container-id-1 div.sk-label input.sk-toggleable__control:checked~label.sk-toggleable__label {background-color: #d4ebff;}#sk-container-id-1 input.sk-hidden--visually {border: 0;clip: rect(1px 1px 1px 1px);clip: rect(1px, 1px, 1px, 1px);height: 1px;margin: -1px;overflow: hidden;padding: 0;position: absolute;width: 1px;}#sk-container-id-1 div.sk-estimator {font-family: monospace;background-color: #f0f8ff;border: 1px dotted black;border-radius: 0.25em;box-sizing: border-box;margin-bottom: 0.5em;}#sk-container-id-1 div.sk-estimator:hover {background-color: #d4ebff;}#sk-container-id-1 div.sk-parallel-item::after {content: \"\";width: 100%;border-bottom: 1px solid gray;flex-grow: 1;}#sk-container-id-1 div.sk-label:hover label.sk-toggleable__label {background-color: #d4ebff;}#sk-container-id-1 div.sk-serial::before {content: \"\";position: absolute;border-left: 1px solid gray;box-sizing: border-box;top: 0;bottom: 0;left: 50%;z-index: 0;}#sk-container-id-1 div.sk-serial {display: flex;flex-direction: column;align-items: center;background-color: white;padding-right: 0.2em;padding-left: 0.2em;position: relative;}#sk-container-id-1 div.sk-item {position: relative;z-index: 1;}#sk-container-id-1 div.sk-parallel {display: flex;align-items: stretch;justify-content: center;background-color: white;position: relative;}#sk-container-id-1 div.sk-item::before, #sk-container-id-1 div.sk-parallel-item::before {content: \"\";position: absolute;border-left: 1px solid gray;box-sizing: border-box;top: 0;bottom: 0;left: 50%;z-index: -1;}#sk-container-id-1 div.sk-parallel-item {display: flex;flex-direction: column;z-index: 1;position: relative;background-color: white;}#sk-container-id-1 div.sk-parallel-item:first-child::after {align-self: flex-end;width: 50%;}#sk-container-id-1 div.sk-parallel-item:last-child::after {align-self: flex-start;width: 50%;}#sk-container-id-1 div.sk-parallel-item:only-child::after {width: 0;}#sk-container-id-1 div.sk-dashed-wrapped {border: 1px dashed gray;margin: 0 0.4em 0.5em 0.4em;box-sizing: border-box;padding-bottom: 0.4em;background-color: white;}#sk-container-id-1 div.sk-label label {font-family: monospace;font-weight: bold;display: inline-block;line-height: 1.2em;}#sk-container-id-1 div.sk-label-container {text-align: center;}#sk-container-id-1 div.sk-container {/* jupyter's `normalize.less` sets `[hidden] { display: none; }` but bootstrap.min.css set `[hidden] { display: none !important; }` so we also need the `!important` here to be able to override the default hidden behavior on the sphinx rendered scikit-learn.org. See: https://github.com/scikit-learn/scikit-learn/issues/21755 */display: inline-block !important;position: relative;}#sk-container-id-1 div.sk-text-repr-fallback {display: none;}</style><div id=\"sk-container-id-1\" class=\"sk-top-container\"><div class=\"sk-text-repr-fallback\"><pre>Pipeline(steps=[(&#x27;preprocessing&#x27;,\n",
       "                 Pipeline(steps=[(&#x27;ce&#x27;,\n",
       "                                  CriterioExperto(columns=[&#x27;ac_rept&#x27;,\n",
       "                                                           &#x27;ac_inves&#x27;,\n",
       "                                                           &#x27;ac_proxm&#x27;,\n",
       "                                                           &#x27;cs_casng&#x27;,\n",
       "                                                           &#x27;cs_lkout&#x27;,\n",
       "                                                           &#x27;explnstp&#x27;,\n",
       "                                                           &#x27;sumissue&#x27;,\n",
       "                                                           &#x27;offunif&#x27;,\n",
       "                                                           &#x27;officrid&#x27;,\n",
       "                                                           &#x27;frisked&#x27;,\n",
       "                                                           &#x27;searched&#x27;,\n",
       "                                                           &#x27;cs_cloth&#x27;,\n",
       "                                                           &#x27;offverb&#x27;, &#x27;rf_furt&#x27;,\n",
       "                                                           &#x27;sb_other&#x27;,\n",
       "                                                           &#x27;ac_other&#x27;,\n",
       "                                                           &#x27;rf_bulg&#x27;,\n",
       "                                                           &#x27;cs_furtv&#x27;,\n",
       "                                                           &#x27;recstat&#x27;,\n",
       "                                                           &#x27;cs_bulge&#x27;,\n",
       "                                                           &#x27;cs_other&#x27;,\n",
       "                                                           &#x27;trhsloc&#x27;, &#x27;build&#x27;,\n",
       "                                                           &#x27;beat&#x27;, &#x27;post&#x27;,\n",
       "                                                           &#x27;rf_attir&#x27;,\n",
       "                                                           &#x27;cs...\n",
       "                                 (&#x27;cat_imp&#x27;,\n",
       "                                  CategoricalImputer(imputation_method=&#x27;frequent&#x27;)),\n",
       "                                 (&#x27;num_imp&#x27;,\n",
       "                                  MeanMedianImputer(imputation_method=&#x27;mean&#x27;)),\n",
       "                                 (&#x27;oe&#x27;,\n",
       "                                  OrdinalEncoderFixedTransformer(csd=CreateSuitableDataframeTransformer(),\n",
       "                                                                 encoding_method=&#x27;ordered&#x27;)),\n",
       "                                 (&#x27;sc&#x27;,\n",
       "                                  SklearnTransformerWrapper(transformer=StandardScaler()))])),\n",
       "                (&#x27;model&#x27;,\n",
       "                 RandomForestClassifier(max_depth=10, random_state=42))])</pre><b>In a Jupyter environment, please rerun this cell to show the HTML representation or trust the notebook. <br />On GitHub, the HTML representation is unable to render, please try loading this page with nbviewer.org.</b></div><div class=\"sk-container\" hidden><div class=\"sk-item sk-dashed-wrapped\"><div class=\"sk-label-container\"><div class=\"sk-label sk-toggleable\"><input class=\"sk-toggleable__control sk-hidden--visually\" id=\"sk-estimator-id-1\" type=\"checkbox\" ><label for=\"sk-estimator-id-1\" class=\"sk-toggleable__label sk-toggleable__label-arrow\">Pipeline</label><div class=\"sk-toggleable__content\"><pre>Pipeline(steps=[(&#x27;preprocessing&#x27;,\n",
       "                 Pipeline(steps=[(&#x27;ce&#x27;,\n",
       "                                  CriterioExperto(columns=[&#x27;ac_rept&#x27;,\n",
       "                                                           &#x27;ac_inves&#x27;,\n",
       "                                                           &#x27;ac_proxm&#x27;,\n",
       "                                                           &#x27;cs_casng&#x27;,\n",
       "                                                           &#x27;cs_lkout&#x27;,\n",
       "                                                           &#x27;explnstp&#x27;,\n",
       "                                                           &#x27;sumissue&#x27;,\n",
       "                                                           &#x27;offunif&#x27;,\n",
       "                                                           &#x27;officrid&#x27;,\n",
       "                                                           &#x27;frisked&#x27;,\n",
       "                                                           &#x27;searched&#x27;,\n",
       "                                                           &#x27;cs_cloth&#x27;,\n",
       "                                                           &#x27;offverb&#x27;, &#x27;rf_furt&#x27;,\n",
       "                                                           &#x27;sb_other&#x27;,\n",
       "                                                           &#x27;ac_other&#x27;,\n",
       "                                                           &#x27;rf_bulg&#x27;,\n",
       "                                                           &#x27;cs_furtv&#x27;,\n",
       "                                                           &#x27;recstat&#x27;,\n",
       "                                                           &#x27;cs_bulge&#x27;,\n",
       "                                                           &#x27;cs_other&#x27;,\n",
       "                                                           &#x27;trhsloc&#x27;, &#x27;build&#x27;,\n",
       "                                                           &#x27;beat&#x27;, &#x27;post&#x27;,\n",
       "                                                           &#x27;rf_attir&#x27;,\n",
       "                                                           &#x27;cs...\n",
       "                                 (&#x27;cat_imp&#x27;,\n",
       "                                  CategoricalImputer(imputation_method=&#x27;frequent&#x27;)),\n",
       "                                 (&#x27;num_imp&#x27;,\n",
       "                                  MeanMedianImputer(imputation_method=&#x27;mean&#x27;)),\n",
       "                                 (&#x27;oe&#x27;,\n",
       "                                  OrdinalEncoderFixedTransformer(csd=CreateSuitableDataframeTransformer(),\n",
       "                                                                 encoding_method=&#x27;ordered&#x27;)),\n",
       "                                 (&#x27;sc&#x27;,\n",
       "                                  SklearnTransformerWrapper(transformer=StandardScaler()))])),\n",
       "                (&#x27;model&#x27;,\n",
       "                 RandomForestClassifier(max_depth=10, random_state=42))])</pre></div></div></div><div class=\"sk-serial\"><div class=\"sk-item\"><div class=\"sk-label-container\"><div class=\"sk-label sk-toggleable\"><input class=\"sk-toggleable__control sk-hidden--visually\" id=\"sk-estimator-id-2\" type=\"checkbox\" ><label for=\"sk-estimator-id-2\" class=\"sk-toggleable__label sk-toggleable__label-arrow\">preprocessing: Pipeline</label><div class=\"sk-toggleable__content\"><pre>Pipeline(steps=[(&#x27;ce&#x27;,\n",
       "                 CriterioExperto(columns=[&#x27;ac_rept&#x27;, &#x27;ac_inves&#x27;, &#x27;ac_proxm&#x27;,\n",
       "                                          &#x27;cs_casng&#x27;, &#x27;cs_lkout&#x27;, &#x27;explnstp&#x27;,\n",
       "                                          &#x27;sumissue&#x27;, &#x27;offunif&#x27;, &#x27;officrid&#x27;,\n",
       "                                          &#x27;frisked&#x27;, &#x27;searched&#x27;, &#x27;cs_cloth&#x27;,\n",
       "                                          &#x27;offverb&#x27;, &#x27;rf_furt&#x27;, &#x27;sb_other&#x27;,\n",
       "                                          &#x27;ac_other&#x27;, &#x27;rf_bulg&#x27;, &#x27;cs_furtv&#x27;,\n",
       "                                          &#x27;recstat&#x27;, &#x27;cs_bulge&#x27;, &#x27;cs_other&#x27;,\n",
       "                                          &#x27;trhsloc&#x27;, &#x27;build&#x27;, &#x27;beat&#x27;, &#x27;post&#x27;,\n",
       "                                          &#x27;rf_attir&#x27;, &#x27;cs_objcs&#x27;, &#x27;eyecolor&#x27;,\n",
       "                                          &#x27;haircolr&#x27;, &#x27;sector&#x27;, ...])),\n",
       "                (&#x27;csd&#x27;, CreateSuitableDataframeTransformer()),\n",
       "                (&#x27;cat_imp&#x27;, CategoricalImputer(imputation_method=&#x27;frequent&#x27;)),\n",
       "                (&#x27;num_imp&#x27;, MeanMedianImputer(imputation_method=&#x27;mean&#x27;)),\n",
       "                (&#x27;oe&#x27;,\n",
       "                 OrdinalEncoderFixedTransformer(csd=CreateSuitableDataframeTransformer(),\n",
       "                                                encoding_method=&#x27;ordered&#x27;)),\n",
       "                (&#x27;sc&#x27;,\n",
       "                 SklearnTransformerWrapper(transformer=StandardScaler()))])</pre></div></div></div><div class=\"sk-serial\"><div class=\"sk-item\"><div class=\"sk-estimator sk-toggleable\"><input class=\"sk-toggleable__control sk-hidden--visually\" id=\"sk-estimator-id-3\" type=\"checkbox\" ><label for=\"sk-estimator-id-3\" class=\"sk-toggleable__label sk-toggleable__label-arrow\">CriterioExperto</label><div class=\"sk-toggleable__content\"><pre>CriterioExperto(columns=[&#x27;ac_rept&#x27;, &#x27;ac_inves&#x27;, &#x27;ac_proxm&#x27;, &#x27;cs_casng&#x27;,\n",
       "                         &#x27;cs_lkout&#x27;, &#x27;explnstp&#x27;, &#x27;sumissue&#x27;, &#x27;offunif&#x27;,\n",
       "                         &#x27;officrid&#x27;, &#x27;frisked&#x27;, &#x27;searched&#x27;, &#x27;cs_cloth&#x27;,\n",
       "                         &#x27;offverb&#x27;, &#x27;rf_furt&#x27;, &#x27;sb_other&#x27;, &#x27;ac_other&#x27;,\n",
       "                         &#x27;rf_bulg&#x27;, &#x27;cs_furtv&#x27;, &#x27;recstat&#x27;, &#x27;cs_bulge&#x27;,\n",
       "                         &#x27;cs_other&#x27;, &#x27;trhsloc&#x27;, &#x27;build&#x27;, &#x27;beat&#x27;, &#x27;post&#x27;,\n",
       "                         &#x27;rf_attir&#x27;, &#x27;cs_objcs&#x27;, &#x27;eyecolor&#x27;, &#x27;haircolr&#x27;,\n",
       "                         &#x27;sector&#x27;, ...])</pre></div></div></div><div class=\"sk-item\"><div class=\"sk-estimator sk-toggleable\"><input class=\"sk-toggleable__control sk-hidden--visually\" id=\"sk-estimator-id-4\" type=\"checkbox\" ><label for=\"sk-estimator-id-4\" class=\"sk-toggleable__label sk-toggleable__label-arrow\">CreateSuitableDataframeTransformer</label><div class=\"sk-toggleable__content\"><pre>CreateSuitableDataframeTransformer()</pre></div></div></div><div class=\"sk-item\"><div class=\"sk-estimator sk-toggleable\"><input class=\"sk-toggleable__control sk-hidden--visually\" id=\"sk-estimator-id-5\" type=\"checkbox\" ><label for=\"sk-estimator-id-5\" class=\"sk-toggleable__label sk-toggleable__label-arrow\">CategoricalImputer</label><div class=\"sk-toggleable__content\"><pre>CategoricalImputer(imputation_method=&#x27;frequent&#x27;)</pre></div></div></div><div class=\"sk-item\"><div class=\"sk-estimator sk-toggleable\"><input class=\"sk-toggleable__control sk-hidden--visually\" id=\"sk-estimator-id-6\" type=\"checkbox\" ><label for=\"sk-estimator-id-6\" class=\"sk-toggleable__label sk-toggleable__label-arrow\">MeanMedianImputer</label><div class=\"sk-toggleable__content\"><pre>MeanMedianImputer(imputation_method=&#x27;mean&#x27;)</pre></div></div></div><div class=\"sk-item sk-dashed-wrapped\"><div class=\"sk-label-container\"><div class=\"sk-label sk-toggleable\"><input class=\"sk-toggleable__control sk-hidden--visually\" id=\"sk-estimator-id-7\" type=\"checkbox\" ><label for=\"sk-estimator-id-7\" class=\"sk-toggleable__label sk-toggleable__label-arrow\">oe: OrdinalEncoderFixedTransformer</label><div class=\"sk-toggleable__content\"><pre>OrdinalEncoderFixedTransformer(csd=CreateSuitableDataframeTransformer(),\n",
       "                               encoding_method=&#x27;ordered&#x27;)</pre></div></div></div><div class=\"sk-parallel\"><div class=\"sk-parallel-item\"><div class=\"sk-item\"><div class=\"sk-label-container\"><div class=\"sk-label sk-toggleable\"><input class=\"sk-toggleable__control sk-hidden--visually\" id=\"sk-estimator-id-8\" type=\"checkbox\" ><label for=\"sk-estimator-id-8\" class=\"sk-toggleable__label sk-toggleable__label-arrow\">csd: CreateSuitableDataframeTransformer</label><div class=\"sk-toggleable__content\"><pre>CreateSuitableDataframeTransformer()</pre></div></div></div><div class=\"sk-serial\"><div class=\"sk-item\"><div class=\"sk-estimator sk-toggleable\"><input class=\"sk-toggleable__control sk-hidden--visually\" id=\"sk-estimator-id-9\" type=\"checkbox\" ><label for=\"sk-estimator-id-9\" class=\"sk-toggleable__label sk-toggleable__label-arrow\">CreateSuitableDataframeTransformer</label><div class=\"sk-toggleable__content\"><pre>CreateSuitableDataframeTransformer()</pre></div></div></div></div></div></div></div></div><div class=\"sk-item sk-dashed-wrapped\"><div class=\"sk-label-container\"><div class=\"sk-label sk-toggleable\"><input class=\"sk-toggleable__control sk-hidden--visually\" id=\"sk-estimator-id-10\" type=\"checkbox\" ><label for=\"sk-estimator-id-10\" class=\"sk-toggleable__label sk-toggleable__label-arrow\">sc: SklearnTransformerWrapper</label><div class=\"sk-toggleable__content\"><pre>SklearnTransformerWrapper(transformer=StandardScaler())</pre></div></div></div><div class=\"sk-parallel\"><div class=\"sk-parallel-item\"><div class=\"sk-item\"><div class=\"sk-label-container\"><div class=\"sk-label sk-toggleable\"><input class=\"sk-toggleable__control sk-hidden--visually\" id=\"sk-estimator-id-11\" type=\"checkbox\" ><label for=\"sk-estimator-id-11\" class=\"sk-toggleable__label sk-toggleable__label-arrow\">transformer: StandardScaler</label><div class=\"sk-toggleable__content\"><pre>StandardScaler()</pre></div></div></div><div class=\"sk-serial\"><div class=\"sk-item\"><div class=\"sk-estimator sk-toggleable\"><input class=\"sk-toggleable__control sk-hidden--visually\" id=\"sk-estimator-id-12\" type=\"checkbox\" ><label for=\"sk-estimator-id-12\" class=\"sk-toggleable__label sk-toggleable__label-arrow\">StandardScaler</label><div class=\"sk-toggleable__content\"><pre>StandardScaler()</pre></div></div></div></div></div></div></div></div></div></div><div class=\"sk-item\"><div class=\"sk-estimator sk-toggleable\"><input class=\"sk-toggleable__control sk-hidden--visually\" id=\"sk-estimator-id-13\" type=\"checkbox\" ><label for=\"sk-estimator-id-13\" class=\"sk-toggleable__label sk-toggleable__label-arrow\">RandomForestClassifier</label><div class=\"sk-toggleable__content\"><pre>RandomForestClassifier(max_depth=10, random_state=42)</pre></div></div></div></div></div></div></div>"
      ],
      "text/plain": [
       "Pipeline(steps=[('preprocessing',\n",
       "                 Pipeline(steps=[('ce',\n",
       "                                  CriterioExperto(columns=['ac_rept',\n",
       "                                                           'ac_inves',\n",
       "                                                           'ac_proxm',\n",
       "                                                           'cs_casng',\n",
       "                                                           'cs_lkout',\n",
       "                                                           'explnstp',\n",
       "                                                           'sumissue',\n",
       "                                                           'offunif',\n",
       "                                                           'officrid',\n",
       "                                                           'frisked',\n",
       "                                                           'searched',\n",
       "                                                           'cs_cloth',\n",
       "                                                           'offverb', 'rf_furt',\n",
       "                                                           'sb_other',\n",
       "                                                           'ac_other',\n",
       "                                                           'rf_bulg',\n",
       "                                                           'cs_furtv',\n",
       "                                                           'recstat',\n",
       "                                                           'cs_bulge',\n",
       "                                                           'cs_other',\n",
       "                                                           'trhsloc', 'build',\n",
       "                                                           'beat', 'post',\n",
       "                                                           'rf_attir',\n",
       "                                                           'cs...\n",
       "                                 ('cat_imp',\n",
       "                                  CategoricalImputer(imputation_method='frequent')),\n",
       "                                 ('num_imp',\n",
       "                                  MeanMedianImputer(imputation_method='mean')),\n",
       "                                 ('oe',\n",
       "                                  OrdinalEncoderFixedTransformer(csd=CreateSuitableDataframeTransformer(),\n",
       "                                                                 encoding_method='ordered')),\n",
       "                                 ('sc',\n",
       "                                  SklearnTransformerWrapper(transformer=StandardScaler()))])),\n",
       "                ('model',\n",
       "                 RandomForestClassifier(max_depth=10, random_state=42))])"
      ]
     },
     "execution_count": 8,
     "metadata": {},
     "output_type": "execute_result"
    }
   ],
   "source": [
    "from sklearn.ensemble import StackingClassifier\n",
    "from sklearn.naive_bayes import MultinomialNB\n",
    "\n",
    "mnnb = MultinomialNB()\n",
    "clf1 = GaussianNB()\n",
    "clf2 = KNeighborsClassifier()\n",
    "clf3 = SVC(random_state=42, probability=True)\n",
    "clf4 = GradientBoostingClassifier(random_state=42)\n",
    "meta0 = LogisticRegression(random_state=42) # funciona particularmente bien stackeando xgboost\n",
    "meta1 = RandomForestClassifier(random_state=42, n_estimators=100, max_depth=10)\n",
    "meta2 = GradientBoostingClassifier(random_state=42)\n",
    "\n",
    "X_train, X_test, y_train, y_test = train_test_split(x_1, y_1, test_size=.2, random_state=42)\n",
    "\n",
    "pipe = Pipeline(steps=[\n",
    "    ('preprocessing', preprocess),\n",
    "    ('model', meta1)\n",
    "])\n",
    "\n",
    "utils.train_function(pipe, X_train, X_test, y_train, y_test)\n",
    "\n",
    "# search = GridSearchCV(pipe, params, cv=5, scoring='accuracy', n_jobs=-1)\n",
    "# search.fit(X_train, y_train)\n",
    "# search.best_params_, search.best_score_\n"
   ]
  },
  {
   "cell_type": "markdown",
   "metadata": {},
   "source": [
    ">>>#### Exploración variable objetivo 1 (\"arstmade\")"
   ]
  },
  {
   "cell_type": "code",
   "execution_count": 9,
   "metadata": {},
   "outputs": [],
   "source": [
    "utils.save_bytes_variable({'preprocess':preprocess, 'pipe':pipe, 'drt': drt}, 'crimenes.pickle')"
   ]
  },
  {
   "cell_type": "code",
   "execution_count": null,
   "metadata": {},
   "outputs": [],
   "source": [
    "y_1.value_counts() #oversampling"
   ]
  },
  {
   "cell_type": "code",
   "execution_count": null,
   "metadata": {},
   "outputs": [],
   "source": [
    "#Visualización de el vector objetivo:\n",
    "sns.histplot(y_1, x=\"arstmade\"); # Categoría uno muchos menos casos que categoría 0.\n",
    "plt.title(\"Vector objetivo : arstmade\")\n",
    "plt.xlabel(\"clases\");"
   ]
  },
  {
   "cell_type": "markdown",
   "metadata": {},
   "source": [
    ">>>#### Exploración variable objetivo 2 (\"violencia física en arresto\") --- Necesita ser recodificada"
   ]
  },
  {
   "cell_type": "code",
   "execution_count": null,
   "metadata": {},
   "outputs": [],
   "source": [
    "#Recodificando variable objetivo 2:\n",
    "\n",
    "var_pf = proc_df.columns[np.where([i[0:2]=='pf' for i in proc_df.columns.tolist()])]. tolist()\n",
    "u = proc_df[var_pf]\n",
    "u[\"var_pf\"] = [int(np.isin([\"Y\"], u.iloc[i].values.tolist())[0]) for i in range(0,len(u))]\n",
    "\n",
    "proc_df.insert(proc_df.shape[1],\"var_pf\", u[\"var_pf\"])\n",
    "proc_df\n"
   ]
  },
  {
   "cell_type": "code",
   "execution_count": null,
   "metadata": {},
   "outputs": [],
   "source": [
    "# hp.cat_num_rate_analysis(proc_df)"
   ]
  },
  {
   "cell_type": "code",
   "execution_count": null,
   "metadata": {},
   "outputs": [],
   "source": [
    "proc_df.corr()"
   ]
  },
  {
   "cell_type": "code",
   "execution_count": null,
   "metadata": {},
   "outputs": [],
   "source": [
    "#variable \"sex\" necesita ser recodificada (random choice?) para tener una variable categórica binaria en ejercicio de probabilidades.\n",
    "#recodificar city?"
   ]
  },
  {
   "cell_type": "code",
   "execution_count": null,
   "metadata": {},
   "outputs": [],
   "source": [
    "#Eliminar variables (Considerar drop_features)\n",
    "#dropna(axis = 1, inplace= True)\n",
    "#df_na = df1.dropna(how=\"all\", axis=1)  \n",
    "#dfnan = df1.dropna(subset=[\"ID\"])"
   ]
  },
  {
   "cell_type": "code",
   "execution_count": null,
   "metadata": {},
   "outputs": [],
   "source": [
    "#Formato para definir variables elegidas posterior al filtro\n",
    "\n",
    "# # ***Listado de variables***:\n",
    "# * `age`: Edad del individuo.\n",
    "# * `workclass`: Naturaleza de la organización que emplea al individuo.\n",
    "# * `education`: Nivel educacional del individuo:\n",
    "#     | Variable          | Explicación                       |\n",
    "#     | ----------------- | ------------------                |\n",
    "#     | __Bachelors__     | (Licenciado)                      |\n",
    "#     | __Some-college__  | (Superior incompleta)             |\n",
    "#     | __11th__          | (3ro medio)                       |\n",
    "#     | __HS-grad__       | (Secundaria completa)             |\n",
    "#     | __Prof-school__   | (Escuela profesional)             |\n",
    "#     | __ssoc-acdm__     | (Técnico superior administrativo) |\n",
    "#     | __Assoc-voc__     | (Técnico superior vocacional)     |\n",
    "#     | __9th__           | (1ro medio)                       |\n",
    "#     | __7th-8th__       | (7mo-8vo)                         |\n",
    "#     | __12th__          | (4to medio)                       |\n",
    "#     | __Masters__       | (Maestría de postgrado)           |\n",
    "#     | __1st-4th__       | (1ro-4to básico)                  |\n",
    "#     | __10th__          | (2do medio)                       |\n",
    "#     | __Doctorate__     | (Doctorado)                       |\n",
    "#     | __5th-6th__       | (5to-6to)                         |\n",
    "#     | __Preschool__     | (Preescolar).                     |\n",
    "     \n",
    "#     <br>  \n",
    "    \n",
    "# * `capital-gains`: Ingresos generados por inversiones fuera del trabajo asalariado\n",
    "# * `capital-losses`: Pérdidas generadas por inversiones fuera del trabajo asalariado.\n",
    "# * `fnlwgt`: Ponderador muestral.\n",
    "# * `marital-status`: Estado civil del individuo: "
   ]
  },
  {
   "cell_type": "code",
   "execution_count": null,
   "metadata": {},
   "outputs": [],
   "source": [
    "# Mapa\n",
    "gdf = gpd.GeoDataFrame(proc_df, geometry=gpd.points_from_xy(proc_df.xcoord, proc_df.ycoord))\n",
    "df = gpd.read_file(gpd.datasets.get_path(\"nybb\"))\n",
    "df_wm = df.to_crs(epsg=3857)\n",
    "ax = df.plot(figsize=(15,10), alpha=0.5, edgecolor = \"k\")\n",
    "cx.add_basemap(ax,crs=df.crs, zoom =11, source=cx.providers.Stamen.TonerLite)\n",
    "#cx.add_basemap(ax, source=cx.providers.Stamen.TonerLabels)\n",
    "gdf.plot(ax=ax, color= \"red\", edgecolor = \"black\", markersize = 4)\n",
    "\n",
    "\n",
    "#Incorporar al código de arriba para poder plotear variable objetivo:\n",
    "# fig,ax = plt.subplots(1, 1) #plt.figure(figsize=(10,8))\n",
    "# fig.set_size_inches(25, 25)\n",
    "# df2009map[df2009map.arstmade == \"N\"].plot(color=\"red\", ax=ax, markersize = 1)\n",
    "# df2009map[df2009map.arstmade == \"Y\"].plot(ax=ax,  markersize = 12)\n",
    "# plt.show()"
   ]
  },
  {
   "cell_type": "code",
   "execution_count": null,
   "metadata": {},
   "outputs": [],
   "source": [
    "# función transformar x,y to lon, lat:\n",
    "def xy_to_latlon(x,y):\n",
    "    source_crs = 'epsg:2263' # Coordinate system of the file\n",
    "    target_crs = 'epsg:4326' # Global lat-lon coordinate system\n",
    "    polar_to_latlon = pyproj.Transformer.from_crs(source_crs, target_crs, always_xy=True)\n",
    "    lat, lon = polar_to_latlon.transform(x,y)\n",
    "    return lon, lat"
   ]
  },
  {
   "cell_type": "code",
   "execution_count": null,
   "metadata": {},
   "outputs": [],
   "source": [
    "#otra opción de crear mapa con folium:\n",
    "import folium\n",
    "def generateBaseMap(loc, zoom=11, tiles='OpenStreetMap', crs='ESPG3857'):\n",
    "    return folium.Map(location=loc,\n",
    "                   #control_scale=True, \n",
    "                   zoom_start=zoom,\n",
    "                   #tiles=tiles)\n",
    "    )\n",
    "base_map = generateBaseMap([40.7127837, -74.0059413])\n",
    "\n",
    "\n",
    "marker = list(range(len(df2009.xcoord)))\n",
    "counter = 0\n",
    "tooltip = \"Click Here For More Info\"\n",
    "icon = folium.features.CustomIcon('https://cdn-icons-png.flaticon.com/128/7500/7500224.png', icon_size=(40, 40))\n",
    "\n",
    "for x,y in zip(df2009.xcoord, df2009.ycoord):\n",
    "    lon, lat = xy_to_latlon(x,y)\n",
    "    marker[counter] = folium.Marker(icon=icon,\n",
    "    #     #location=[40.7127837, -74.0059413],\n",
    "    location=[lon, lat],\n",
    "    #     #popup=\"<stong>Allianz Arena</stong>\",\n",
    "    #     #tooltip=tooltip\n",
    "    )\n",
    "    marker[counter].add_to(base_map)\n",
    "    #print(f\"latitud {lat} y longitud {lon}\")\n",
    "    if counter>5 : \n",
    "        break\n",
    "    counter += 1\n",
    "base_map"
   ]
  },
  {
   "cell_type": "code",
   "execution_count": null,
   "metadata": {},
   "outputs": [],
   "source": [
    "#Conteo de nulos\n",
    "#proc_df.info(verbose=True, show_counts=True,memory_usage=False)"
   ]
  },
  {
   "cell_type": "code",
   "execution_count": null,
   "metadata": {},
   "outputs": [],
   "source": [
    "#Descripción de variables númericas:\n",
    "proc_df.describe().T"
   ]
  },
  {
   "cell_type": "code",
   "execution_count": null,
   "metadata": {},
   "outputs": [],
   "source": [
    "#Descripción de variables categóricas: \n",
    "proc_df.describe(include=\"O\").T\n"
   ]
  },
  {
   "cell_type": "code",
   "execution_count": null,
   "metadata": {},
   "outputs": [],
   "source": [
    "#cargar df2010\n",
    "# df2 = pd.read_csv('2010_1perc.csv', index_col='Unnamed: 0')\n",
    "# df2.head()"
   ]
  }
 ],
 "metadata": {
  "kernelspec": {
   "display_name": "Python 3.10.4 ('geopandas')",
   "language": "python",
   "name": "python3"
  },
  "language_info": {
   "codemirror_mode": {
    "name": "ipython",
    "version": 3
   },
   "file_extension": ".py",
   "mimetype": "text/x-python",
   "name": "python",
   "nbconvert_exporter": "python",
   "pygments_lexer": "ipython3",
   "version": "3.10.4"
  },
  "orig_nbformat": 4,
  "vscode": {
   "interpreter": {
    "hash": "3cfc4558a56c74004f66639ccbe2b85f126442f2f38d8bdd913543c2f1bf5fd6"
   }
  }
 },
 "nbformat": 4,
 "nbformat_minor": 2
}
