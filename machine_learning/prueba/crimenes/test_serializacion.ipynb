{
 "cells": [
  {
   "cell_type": "code",
   "execution_count": 1,
   "metadata": {},
   "outputs": [
    {
     "name": "stdout",
     "output_type": "stream",
     "text": [
      "Test para best_pipe_1\n",
      "test\n",
      "              precision    recall  f1-score   support\n",
      "\n",
      "           0     0.9693    0.9909    0.9800      4267\n",
      "           1     0.8030    0.5427    0.6477       293\n",
      "\n",
      "    accuracy                         0.9621      4560\n",
      "   macro avg     0.8862    0.7668    0.8138      4560\n",
      "weighted avg     0.9586    0.9621    0.9586      4560\n",
      "\n",
      "Test para best_pipe_2\n",
      "test\n",
      "              precision    recall  f1-score   support\n",
      "\n",
      "           0     0.9700    0.9920    0.9809      4267\n",
      "           1     0.8265    0.5529    0.6626       293\n",
      "\n",
      "    accuracy                         0.9638      4560\n",
      "   macro avg     0.8983    0.7725    0.8217      4560\n",
      "weighted avg     0.9608    0.9638    0.9604      4560\n",
      "\n"
     ]
    }
   ],
   "source": [
    "import utils\n",
    "import warnings\n",
    "import pickle\n",
    "from sklearn.model_selection import train_test_split\n",
    "import pandas as pd\n",
    "import sys\n",
    "sys.path.append('..')\n",
    "warnings.filterwarnings(\"ignore\")\n",
    "\n",
    "nombre_archivo = 'crimenes_best_models.pickle'\n",
    "dct = utils.load_bytes_variable(nombre_archivo)\n",
    "df2010 = pd.read_csv('2010_1perc.csv', index_col=0)\n",
    "\n",
    "df2010 = dct['data_row_drop'].transform(df2010)\n",
    "x_1, y_1, x_2, y_2 = utils.split_features_target(df2010, dct['var_pf'])\n",
    "\n",
    "print('Test para best_pipe_1')\n",
    "utils.test_function(dct['best_pipe_1'], x_1, y_1)\n",
    "print('Test para best_pipe_2')\n",
    "utils.test_function(dct['best_pipe_2'], x_1, y_1);\n"
   ]
  },
  {
   "cell_type": "code",
   "execution_count": 2,
   "metadata": {},
   "outputs": [
    {
     "name": "stdout",
     "output_type": "stream",
     "text": [
      "Test para best_pipe_1\n",
      "test\n",
      "              precision    recall  f1-score   support\n",
      "\n",
      "           0     0.7765    0.9741    0.8641      3477\n",
      "           1     0.5455    0.0997    0.1686      1083\n",
      "\n",
      "    accuracy                         0.7664      4560\n",
      "   macro avg     0.6610    0.5369    0.5164      4560\n",
      "weighted avg     0.7216    0.7664    0.6990      4560\n",
      "\n",
      "Test para best_pipe_2\n",
      "test\n",
      "              precision    recall  f1-score   support\n",
      "\n",
      "           0     0.7770    0.9753    0.8649      3477\n",
      "           1     0.5612    0.1016    0.1720      1083\n",
      "\n",
      "    accuracy                         0.7678      4560\n",
      "   macro avg     0.6691    0.5384    0.5185      4560\n",
      "weighted avg     0.7258    0.7678    0.7004      4560\n",
      "\n"
     ]
    }
   ],
   "source": [
    "nombre_archivo_v = 'crimenes_best_models.pickle'\n",
    "dct_v = utils.load_bytes_variable(nombre_archivo_v)\n",
    "\n",
    "print('Test para best_pipe_1')\n",
    "utils.test_function(dct_v['best_pipe_1'], x_2, y_2)\n",
    "print('Test para best_pipe_2')\n",
    "utils.test_function(dct_v['best_pipe_2'], x_2, y_2);\n"
   ]
  }
 ],
 "metadata": {
  "kernelspec": {
   "display_name": "Python 3.10.4 ('dl')",
   "language": "python",
   "name": "python3"
  },
  "language_info": {
   "codemirror_mode": {
    "name": "ipython",
    "version": 3
   },
   "file_extension": ".py",
   "mimetype": "text/x-python",
   "name": "python",
   "nbconvert_exporter": "python",
   "pygments_lexer": "ipython3",
   "version": "3.10.4"
  },
  "orig_nbformat": 4,
  "vscode": {
   "interpreter": {
    "hash": "c9ccd8639d7ac6d8ae46f08631d02de0d1c9f4a08850208985333be71082afd9"
   }
  }
 },
 "nbformat": 4,
 "nbformat_minor": 2
}
