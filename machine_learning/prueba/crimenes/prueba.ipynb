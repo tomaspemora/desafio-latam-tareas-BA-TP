{
 "cells": [
  {
   "cell_type": "code",
   "execution_count": 4,
   "metadata": {},
   "outputs": [],
   "source": [
    "import pickle\n",
    "from sklearn.model_selection import train_test_split\n",
    "import pandas as pd\n",
    "import sys\n",
    "sys.path.append('..')\n",
    "import utils\n",
    "\n",
    "nombre_archivo = 'crimenes.pickle'\n",
    "dct = utils.load_bytes_variable(nombre_archivo)\n",
    "df2010 = pd.read_csv('2010_1perc.csv', index_col=0)\n"
   ]
  },
  {
   "cell_type": "code",
   "execution_count": 5,
   "metadata": {},
   "outputs": [],
   "source": [
    "df2010 = dct['drt'].transform(df2010)\n",
    "x_1, y_1, x_2, y_2 = utils.split_features_target(df2010)"
   ]
  },
  {
   "cell_type": "code",
   "execution_count": 6,
   "metadata": {},
   "outputs": [
    {
     "name": "stdout",
     "output_type": "stream",
     "text": [
      "test\n",
      "              precision    recall  f1-score   support\n",
      "\n",
      "           0     0.9509    0.9977    0.9737      4267\n",
      "           1     0.8795    0.2491    0.3883       293\n",
      "\n",
      "    accuracy                         0.9496      4560\n",
      "   macro avg     0.9152    0.6234    0.6810      4560\n",
      "weighted avg     0.9463    0.9496    0.9361      4560\n",
      "\n"
     ]
    }
   ],
   "source": [
    "utils.test_function(dct['pipe'],x_1,y_1);"
   ]
  }
 ],
 "metadata": {
  "kernelspec": {
   "display_name": "Python 3.10.4 ('dl')",
   "language": "python",
   "name": "python3"
  },
  "language_info": {
   "codemirror_mode": {
    "name": "ipython",
    "version": 3
   },
   "file_extension": ".py",
   "mimetype": "text/x-python",
   "name": "python",
   "nbconvert_exporter": "python",
   "pygments_lexer": "ipython3",
   "version": "3.10.4"
  },
  "orig_nbformat": 4,
  "vscode": {
   "interpreter": {
    "hash": "c9ccd8639d7ac6d8ae46f08631d02de0d1c9f4a08850208985333be71082afd9"
   }
  }
 },
 "nbformat": 4,
 "nbformat_minor": 2
}
