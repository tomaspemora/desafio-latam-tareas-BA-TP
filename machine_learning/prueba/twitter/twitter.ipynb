{
 "cells": [
  {
   "cell_type": "code",
   "execution_count": 1,
   "metadata": {},
   "outputs": [],
   "source": [
    "import pandas as pd\n",
    "import numpy as np\n",
    "import matplotlib.pyplot as plt\n",
    "import seaborn as sns\n",
    "\n",
    "from sklearn.metrics import classification_report\n",
    "from sklearn.model_selection import train_test_split, GridSearchCV\n",
    "from sklearn.pipeline import Pipeline\n",
    "\n",
    "from feature_engine.imputation import CategoricalImputer, MeanMedianImputer\n",
    "from feature_engine.encoding import OrdinalEncoder, OneHotEncoder\n",
    "from feature_engine.wrappers import SklearnTransformerWrapper\n",
    "from sklearn.preprocessing import StandardScaler, LabelBinarizer\n",
    "\n",
    "from sklearn.tree import DecisionTreeClassifier\n",
    "from sklearn.linear_model import LogisticRegression\n",
    "from sklearn.svm import SVC\n",
    "from sklearn.naive_bayes import GaussianNB\n",
    "from sklearn.neighbors import KNeighborsClassifier\n",
    "from sklearn.ensemble import VotingClassifier, RandomForestClassifier, GradientBoostingClassifier, AdaBoostClassifier\n",
    "\n",
    "from sklearn.feature_extraction.text import CountVectorizer, TfidfVectorizer\n",
    "\n",
    "from sklearn.preprocessing import FunctionTransformer\n",
    "\n",
    "from sklearn import set_config\n",
    "set_config(display='diagram')\n",
    "# ------------------------------------------\n",
    "import nltk\n",
    "import sys\n",
    "import random\n",
    "\n",
    "from sklearn.feature_extraction.text import CountVectorizer\n",
    "from sklearn.feature_extraction.text import TfidfVectorizer\n",
    "from sklearn.compose import ColumnTransformer\n",
    "\n",
    "sys.path.append('..')\n",
    "import utils\n",
    "from sklearn.preprocessing import FunctionTransformer\n",
    "\n",
    "## PROPIAS\n",
    "from utils import RemoveStopWords\n",
    "from utils import FeatureExtractionTwitts\n",
    "from utils import LemmantizerTransformer\n",
    "from utils import Vectorizer\n",
    "from utils import ColumnSelectedTransformer"
   ]
  },
  {
   "cell_type": "markdown",
   "metadata": {},
   "source": [
    "https://scikit-learn.org/stable/modules/generated/sklearn.preprocessing.FunctionTransformer.html"
   ]
  },
  {
   "cell_type": "code",
   "execution_count": 2,
   "metadata": {},
   "outputs": [],
   "source": [
    "df = pd.read_csv('training_tweets.csv', index_col = 0)\n",
    "df;"
   ]
  },
  {
   "cell_type": "code",
   "execution_count": 3,
   "metadata": {},
   "outputs": [],
   "source": [
    "df.content.to_csv('raw_tweets.csv')"
   ]
  },
  {
   "cell_type": "code",
   "execution_count": 4,
   "metadata": {},
   "outputs": [],
   "source": [
    "groups_classes = {\n",
    "                    'happiness' : 'positiva',\n",
    "                    'surprise'  : 'positiva',\n",
    "                    'love'      : 'positiva',\n",
    "                    'fun'       : 'positiva',\n",
    "                    'relief'    : 'positiva',\n",
    "                    'enthusiasm': 'positiva',\n",
    "                    'worry'     : 'negativa',\n",
    "                    'hate'      : 'negativa',\n",
    "                    'sadness'   : 'negativa',\n",
    "                    'empty'     : 'negativa',\n",
    "                    'boredom'   : 'negativa',\n",
    "                    'anger'     : 'negativa',\n",
    "                    'neutral'   : 'neutral'\n",
    "                }\n",
    "neutral_class_name = 'neutral'\n",
    "target_var_name = 'sentiment'\n",
    "target_mapping = [('positiva',1),('negativa',0)]\n",
    "chars_to_replace = [\n",
    "                        ('ï¿½',''),\n",
    "                        ('&quot;',''),\n",
    "                        ('&lt;3','<3'), \n",
    "                        ('&lt;/3','</3'), \n",
    "                        ('&amp;','&'),\n",
    "                        ('&gt;','>'),\n",
    "                        ('&lt;','<')\n",
    "                    ]\n"
   ]
  },
  {
   "cell_type": "code",
   "execution_count": 5,
   "metadata": {},
   "outputs": [
    {
     "data": {
      "text/html": [
       "<div>\n",
       "<style scoped>\n",
       "    .dataframe tbody tr th:only-of-type {\n",
       "        vertical-align: middle;\n",
       "    }\n",
       "\n",
       "    .dataframe tbody tr th {\n",
       "        vertical-align: top;\n",
       "    }\n",
       "\n",
       "    .dataframe thead th {\n",
       "        text-align: right;\n",
       "    }\n",
       "</style>\n",
       "<table border=\"1\" class=\"dataframe\">\n",
       "  <thead>\n",
       "    <tr style=\"text-align: right;\">\n",
       "      <th></th>\n",
       "      <th>content</th>\n",
       "      <th>sentiment</th>\n",
       "      <th>sentiment_remapped</th>\n",
       "    </tr>\n",
       "  </thead>\n",
       "  <tbody>\n",
       "    <tr>\n",
       "      <th>34723</th>\n",
       "      <td>Happy Mama's day to all mothers</td>\n",
       "      <td>love</td>\n",
       "      <td>1</td>\n",
       "    </tr>\n",
       "    <tr>\n",
       "      <th>17493</th>\n",
       "      <td>@LysdelTellez I am lost. Please help me find a...</td>\n",
       "      <td>worry</td>\n",
       "      <td>0</td>\n",
       "    </tr>\n",
       "    <tr>\n",
       "      <th>20198</th>\n",
       "      <td>@BoomKatt yes yes I AM, networking whore to th...</td>\n",
       "      <td>happiness</td>\n",
       "      <td>1</td>\n",
       "    </tr>\n",
       "    <tr>\n",
       "      <th>6855</th>\n",
       "      <td>you@snapplynn Wish that would have been your t...</td>\n",
       "      <td>neutral</td>\n",
       "      <td>0</td>\n",
       "    </tr>\n",
       "    <tr>\n",
       "      <th>5924</th>\n",
       "      <td>now i am doing the MicroEconomics project  iha...</td>\n",
       "      <td>worry</td>\n",
       "      <td>0</td>\n",
       "    </tr>\n",
       "    <tr>\n",
       "      <th>...</th>\n",
       "      <td>...</td>\n",
       "      <td>...</td>\n",
       "      <td>...</td>\n",
       "    </tr>\n",
       "    <tr>\n",
       "      <th>16469</th>\n",
       "      <td>I  do not want to work tomorrow!</td>\n",
       "      <td>sadness</td>\n",
       "      <td>0</td>\n",
       "    </tr>\n",
       "    <tr>\n",
       "      <th>36006</th>\n",
       "      <td>@KandyBee we shuld do  a dance like that its s...</td>\n",
       "      <td>fun</td>\n",
       "      <td>1</td>\n",
       "    </tr>\n",
       "    <tr>\n",
       "      <th>22647</th>\n",
       "      <td>Photo: Got my prints a few days ago, ready for...</td>\n",
       "      <td>happiness</td>\n",
       "      <td>1</td>\n",
       "    </tr>\n",
       "    <tr>\n",
       "      <th>21478</th>\n",
       "      <td>@tove_liden Thanks for the follow Tove!</td>\n",
       "      <td>fun</td>\n",
       "      <td>1</td>\n",
       "    </tr>\n",
       "    <tr>\n",
       "      <th>39364</th>\n",
       "      <td>@esmeeworld thanks</td>\n",
       "      <td>neutral</td>\n",
       "      <td>1</td>\n",
       "    </tr>\n",
       "  </tbody>\n",
       "</table>\n",
       "<p>30000 rows × 3 columns</p>\n",
       "</div>"
      ],
      "text/plain": [
       "                                                 content  sentiment  \\\n",
       "34723                    Happy Mama's day to all mothers       love   \n",
       "17493  @LysdelTellez I am lost. Please help me find a...      worry   \n",
       "20198  @BoomKatt yes yes I AM, networking whore to th...  happiness   \n",
       "6855   you@snapplynn Wish that would have been your t...    neutral   \n",
       "5924   now i am doing the MicroEconomics project  iha...      worry   \n",
       "...                                                  ...        ...   \n",
       "16469                   I  do not want to work tomorrow!    sadness   \n",
       "36006  @KandyBee we shuld do  a dance like that its s...        fun   \n",
       "22647  Photo: Got my prints a few days ago, ready for...  happiness   \n",
       "21478            @tove_liden Thanks for the follow Tove!        fun   \n",
       "39364                                 @esmeeworld thanks    neutral   \n",
       "\n",
       "       sentiment_remapped  \n",
       "34723                   1  \n",
       "17493                   0  \n",
       "20198                   1  \n",
       "6855                    0  \n",
       "5924                    0  \n",
       "...                   ...  \n",
       "16469                   0  \n",
       "36006                   1  \n",
       "22647                   1  \n",
       "21478                   1  \n",
       "39364                   1  \n",
       "\n",
       "[30000 rows x 3 columns]"
      ]
     },
     "execution_count": 5,
     "metadata": {},
     "output_type": "execute_result"
    }
   ],
   "source": [
    "from sklearn.compose import TransformedTargetRegressor\n",
    "df_preprocess = Pipeline(steps=[\n",
    "                ('regroup_classes', \n",
    "                    FunctionTransformer(\n",
    "                        utils.multi_class_remapping, \n",
    "                        kw_args={\n",
    "                            'group_classes': groups_classes,\n",
    "                            'var_name': target_var_name,\n",
    "                            'neutral_class': neutral_class_name,\n",
    "                            'random_state': 42\n",
    "                            })),\n",
    "                ('encoding', FunctionTransformer(\n",
    "                        utils.target_encoding,\n",
    "                        kw_args={\n",
    "                            'column_to_encode': 'sentiment_remapped', 'mapping':target_mapping})),\n",
    "])\n",
    "\n",
    "df = df_preprocess.fit_transform(df) #\n",
    "df\n",
    "# Este debiese ser la primera transformación, no se si serializar esto o no pero habría que indicar que es necesario aplicarlo a df para poder continuar."
   ]
  },
  {
   "cell_type": "code",
   "execution_count": 6,
   "metadata": {},
   "outputs": [],
   "source": [
    "# Todos los pipelines siguientes deberían vivir en un solo pipeline y al final aplicar fit_transform. Se debe serializar ese ultimo pipeline\n",
    "\n",
    "# hiperparametros posibles:\n",
    "# usar o no STOPWORDS\n",
    "# stemmers = 'ps' | 'wnl' | 'sno'\n",
    "stemmer = 'sno'\n",
    "wether_or_not_sw = False\n",
    "preprocessing = Pipeline(steps=[\n",
    "                ('rc', FunctionTransformer(utils.remove_chars, kw_args={'var_name': 'content', 'char_list': chars_to_replace})),\n",
    "                ('ra', FunctionTransformer(utils.remove_arrobas, kw_args= {'var_name':'content_remchars'})),\n",
    "                ('rl', FunctionTransformer(utils.remove_links, kw_args={'var_name': 'content_remchars_remarroba'})),\n",
    "                ('rsw', RemoveStopWords(text_columns = ['content_remchars_remarroba_remlinks'], bool_trans = wether_or_not_sw)),\n",
    "                ('lt', LemmantizerTransformer(text_columns = [f\"content_remchars_remarroba_remlinks{'_sw' if wether_or_not_sw else ''}\"], stemmers=[stemmer])),\n",
    "                \n",
    "])\n",
    "\n",
    "# hiperparametros posibles:\n",
    "# min_df = 1,2,3...\n",
    "# vect_type = 'count' | 'tfid'\n",
    "\n",
    "# Si se quiere ver los resultados de las limpiezas de los textos, comentar la linea de ColumnSelectedTransformer y luego ver el dataframe. También se pueden ver los reportes generados en csv y txt en la carpeta raíz.\n",
    "\n",
    "feature_extraction = Pipeline(steps=[\n",
    "                ('fet_1', FeatureExtractionTwitts(text_column=\"content\",features_to_extract=[\"arrobas_count\", \"hashtag_count\", \"is_reply\", \"is_rt\", \"twitt_length\"])),\n",
    "                ('fet_2', FeatureExtractionTwitts(text_column=f\"content_remchars_remarroba_remlinks{'_sw' if wether_or_not_sw else ''}_{stemmer}\",features_to_extract = [\"subjectivity\", \"polarity\"])),\n",
    "                ('ctr', Vectorizer(vect_type='tfid', text_column=f\"content_remchars_remarroba_remlinks{'_sw' if wether_or_not_sw else ''}_{stemmer}\", min_df=15, max_df=0.7, ngram_range=(1,3))),\n",
    "                ('ds', ColumnSelectedTransformer(vars_prefix='var_'))\n",
    "                \n",
    "])\n",
    "\n",
    "# joblib.load\n"
   ]
  },
  {
   "cell_type": "code",
   "execution_count": 7,
   "metadata": {},
   "outputs": [],
   "source": [
    "from sklearn.ensemble import StackingClassifier\n",
    "from sklearn.naive_bayes import MultinomialNB\n",
    "\n",
    "mnnb = MultinomialNB()\n",
    "clf1 = GaussianNB()\n",
    "clf2 = KNeighborsClassifier()\n",
    "clf3 = SVC(random_state=42, probability=True)\n",
    "clf4 = GradientBoostingClassifier(random_state=42)\n",
    "\n",
    "meta0 = LogisticRegression(random_state=42)\n",
    "meta1 = RandomForestClassifier(random_state=42, n_estimators=100, max_depth=10)\n",
    "meta2 = GradientBoostingClassifier(random_state=42)\n",
    "\n",
    "estimators = [('gnb', clf1), ('gbc', clf4)]\n",
    "\n",
    "\n",
    "# final estimator: metaestimator\n",
    "st_1 = StackingClassifier(estimators=estimators,\n",
    "                        final_estimator=meta2,\n",
    "                        cv=5)\n",
    "\n",
    "params = {\n",
    "    'model__n_estimators': [50, 100, 200, 300, 500, 1000],\n",
    "    'model__max_depth': [1, 5, 8, 10, 20, 30, 40]\n",
    "}\n",
    "\n",
    "# model_and_scale = Pipeline(steps=[\n",
    "#     ('sc', StandardScaler()),\n",
    "#     ('model', meta1)\n",
    "#     # ('model', st_1)\n",
    "# ])\n",
    "\n",
    "# search = GridSearchCV(mnnb, params, cv=5, scoring='accuracy', n_jobs=-1)\n"
   ]
  },
  {
   "cell_type": "code",
   "execution_count": 8,
   "metadata": {},
   "outputs": [],
   "source": [
    "def train_function(pipe, X_train, X_test, y_train, y_test):\n",
    "    print('fit_train')\n",
    "    pipe.fit(X_train, y_train)\n",
    "    print('predict_train')\n",
    "    y_pred_train = pipe.predict(X_train)\n",
    "    print('predict_test')\n",
    "    y_pred = pipe.predict(X_test)\n",
    "    print('train')\n",
    "    print(classification_report(y_train, y_pred_train, digits=4))\n",
    "    print('test')\n",
    "    print(classification_report(y_test, y_pred, digits=4))\n",
    "    return pipe\n"
   ]
  },
  {
   "cell_type": "code",
   "execution_count": 9,
   "metadata": {},
   "outputs": [
    {
     "name": "stdout",
     "output_type": "stream",
     "text": [
      "fit_train\n",
      "fit\n"
     ]
    },
    {
     "data": {
      "text/plain": [
       "'X.shape (24000, 12)'"
      ]
     },
     "metadata": {},
     "output_type": "display_data"
    },
    {
     "data": {
      "text/plain": [
       "'len tokens 3584'"
      ]
     },
     "metadata": {},
     "output_type": "display_data"
    },
    {
     "name": "stdout",
     "output_type": "stream",
     "text": [
      "transform\n"
     ]
    },
    {
     "data": {
      "text/plain": [
       "(24000, 12)"
      ]
     },
     "metadata": {},
     "output_type": "display_data"
    },
    {
     "data": {
      "text/plain": [
       "'len tokens 3584'"
      ]
     },
     "metadata": {},
     "output_type": "display_data"
    },
    {
     "name": "stdout",
     "output_type": "stream",
     "text": [
      "predict_train\n",
      "transform\n"
     ]
    },
    {
     "data": {
      "text/plain": [
       "(24000, 12)"
      ]
     },
     "metadata": {},
     "output_type": "display_data"
    },
    {
     "data": {
      "text/plain": [
       "'len tokens 3584'"
      ]
     },
     "metadata": {},
     "output_type": "display_data"
    },
    {
     "name": "stdout",
     "output_type": "stream",
     "text": [
      "predict_test\n",
      "transform\n"
     ]
    },
    {
     "data": {
      "text/plain": [
       "(6000, 12)"
      ]
     },
     "metadata": {},
     "output_type": "display_data"
    },
    {
     "data": {
      "text/plain": [
       "'len tokens 3584'"
      ]
     },
     "metadata": {},
     "output_type": "display_data"
    },
    {
     "name": "stdout",
     "output_type": "stream",
     "text": [
      "train\n",
      "              precision    recall  f1-score   support\n",
      "\n",
      "           0     0.7295    0.7060    0.7176     12168\n",
      "           1     0.7074    0.7307    0.7189     11832\n",
      "\n",
      "    accuracy                         0.7182     24000\n",
      "   macro avg     0.7184    0.7184    0.7182     24000\n",
      "weighted avg     0.7186    0.7182    0.7182     24000\n",
      "\n",
      "test\n",
      "              precision    recall  f1-score   support\n",
      "\n",
      "           0     0.6542    0.6382    0.6461      3038\n",
      "           1     0.6380    0.6540    0.6459      2962\n",
      "\n",
      "    accuracy                         0.6460      6000\n",
      "   macro avg     0.6461    0.6461    0.6460      6000\n",
      "weighted avg     0.6462    0.6460    0.6460      6000\n",
      "\n"
     ]
    },
    {
     "data": {
      "text/html": [
       "<style>#sk-container-id-1 {color: black;background-color: white;}#sk-container-id-1 pre{padding: 0;}#sk-container-id-1 div.sk-toggleable {background-color: white;}#sk-container-id-1 label.sk-toggleable__label {cursor: pointer;display: block;width: 100%;margin-bottom: 0;padding: 0.3em;box-sizing: border-box;text-align: center;}#sk-container-id-1 label.sk-toggleable__label-arrow:before {content: \"▸\";float: left;margin-right: 0.25em;color: #696969;}#sk-container-id-1 label.sk-toggleable__label-arrow:hover:before {color: black;}#sk-container-id-1 div.sk-estimator:hover label.sk-toggleable__label-arrow:before {color: black;}#sk-container-id-1 div.sk-toggleable__content {max-height: 0;max-width: 0;overflow: hidden;text-align: left;background-color: #f0f8ff;}#sk-container-id-1 div.sk-toggleable__content pre {margin: 0.2em;color: black;border-radius: 0.25em;background-color: #f0f8ff;}#sk-container-id-1 input.sk-toggleable__control:checked~div.sk-toggleable__content {max-height: 200px;max-width: 100%;overflow: auto;}#sk-container-id-1 input.sk-toggleable__control:checked~label.sk-toggleable__label-arrow:before {content: \"▾\";}#sk-container-id-1 div.sk-estimator input.sk-toggleable__control:checked~label.sk-toggleable__label {background-color: #d4ebff;}#sk-container-id-1 div.sk-label input.sk-toggleable__control:checked~label.sk-toggleable__label {background-color: #d4ebff;}#sk-container-id-1 input.sk-hidden--visually {border: 0;clip: rect(1px 1px 1px 1px);clip: rect(1px, 1px, 1px, 1px);height: 1px;margin: -1px;overflow: hidden;padding: 0;position: absolute;width: 1px;}#sk-container-id-1 div.sk-estimator {font-family: monospace;background-color: #f0f8ff;border: 1px dotted black;border-radius: 0.25em;box-sizing: border-box;margin-bottom: 0.5em;}#sk-container-id-1 div.sk-estimator:hover {background-color: #d4ebff;}#sk-container-id-1 div.sk-parallel-item::after {content: \"\";width: 100%;border-bottom: 1px solid gray;flex-grow: 1;}#sk-container-id-1 div.sk-label:hover label.sk-toggleable__label {background-color: #d4ebff;}#sk-container-id-1 div.sk-serial::before {content: \"\";position: absolute;border-left: 1px solid gray;box-sizing: border-box;top: 0;bottom: 0;left: 50%;z-index: 0;}#sk-container-id-1 div.sk-serial {display: flex;flex-direction: column;align-items: center;background-color: white;padding-right: 0.2em;padding-left: 0.2em;position: relative;}#sk-container-id-1 div.sk-item {position: relative;z-index: 1;}#sk-container-id-1 div.sk-parallel {display: flex;align-items: stretch;justify-content: center;background-color: white;position: relative;}#sk-container-id-1 div.sk-item::before, #sk-container-id-1 div.sk-parallel-item::before {content: \"\";position: absolute;border-left: 1px solid gray;box-sizing: border-box;top: 0;bottom: 0;left: 50%;z-index: -1;}#sk-container-id-1 div.sk-parallel-item {display: flex;flex-direction: column;z-index: 1;position: relative;background-color: white;}#sk-container-id-1 div.sk-parallel-item:first-child::after {align-self: flex-end;width: 50%;}#sk-container-id-1 div.sk-parallel-item:last-child::after {align-self: flex-start;width: 50%;}#sk-container-id-1 div.sk-parallel-item:only-child::after {width: 0;}#sk-container-id-1 div.sk-dashed-wrapped {border: 1px dashed gray;margin: 0 0.4em 0.5em 0.4em;box-sizing: border-box;padding-bottom: 0.4em;background-color: white;}#sk-container-id-1 div.sk-label label {font-family: monospace;font-weight: bold;display: inline-block;line-height: 1.2em;}#sk-container-id-1 div.sk-label-container {text-align: center;}#sk-container-id-1 div.sk-container {/* jupyter's `normalize.less` sets `[hidden] { display: none; }` but bootstrap.min.css set `[hidden] { display: none !important; }` so we also need the `!important` here to be able to override the default hidden behavior on the sphinx rendered scikit-learn.org. See: https://github.com/scikit-learn/scikit-learn/issues/21755 */display: inline-block !important;position: relative;}#sk-container-id-1 div.sk-text-repr-fallback {display: none;}</style><div id=\"sk-container-id-1\" class=\"sk-top-container\"><div class=\"sk-text-repr-fallback\"><pre>Pipeline(steps=[(&#x27;preprocessing&#x27;,\n",
       "                 Pipeline(steps=[(&#x27;rc&#x27;,\n",
       "                                  FunctionTransformer(func=&lt;function remove_chars at 0x0000020A540328C0&gt;,\n",
       "                                                      kw_args={&#x27;char_list&#x27;: [(&#x27;ï¿½&#x27;,\n",
       "                                                                              &#x27;&#x27;),\n",
       "                                                                             (&#x27;&amp;quot;&#x27;,\n",
       "                                                                              &#x27;&#x27;),\n",
       "                                                                             (&#x27;&amp;lt;3&#x27;,\n",
       "                                                                              &#x27;&lt;3&#x27;),\n",
       "                                                                             (&#x27;&amp;lt;/3&#x27;,\n",
       "                                                                              &#x27;&lt;/3&#x27;),\n",
       "                                                                             (&#x27;&amp;amp;&#x27;,\n",
       "                                                                              &#x27;&amp;&#x27;),\n",
       "                                                                             (&#x27;&amp;gt;&#x27;,\n",
       "                                                                              &#x27;&gt;&#x27;),\n",
       "                                                                             (&#x27;&amp;lt;&#x27;,\n",
       "                                                                              &#x27;&lt;&#x27;)],\n",
       "                                                               &#x27;var_name&#x27;: &#x27;content&#x27;})),\n",
       "                                 (&#x27;ra&#x27;,\n",
       "                                  FunctionTransformer(func=&lt;function remove_arrobas at 0x0000020A54032710&gt;,\n",
       "                                                      kw_args...\n",
       "                                  FeatureExtractionTwitts(features_to_extract=[&#x27;subjectivity&#x27;,\n",
       "                                                                               &#x27;polarity&#x27;],\n",
       "                                                          text_column=&#x27;content_remchars_remarroba_remlinks_sno&#x27;)),\n",
       "                                 (&#x27;ctr&#x27;,\n",
       "                                  Vectorizer(max_df=0.7, min_df=15,\n",
       "                                             ngram_range=(1, 3),\n",
       "                                             text_column=&#x27;content_remchars_remarroba_remlinks_sno&#x27;,\n",
       "                                             vect_type=&#x27;tfid&#x27;)),\n",
       "                                 (&#x27;ds&#x27;,\n",
       "                                  &lt;utils.ColumnSelectedTransformer object at 0x0000020A53F89210&gt;)])),\n",
       "                (&#x27;model&#x27;, GaussianNB())])</pre><b>In a Jupyter environment, please rerun this cell to show the HTML representation or trust the notebook. <br />On GitHub, the HTML representation is unable to render, please try loading this page with nbviewer.org.</b></div><div class=\"sk-container\" hidden><div class=\"sk-item sk-dashed-wrapped\"><div class=\"sk-label-container\"><div class=\"sk-label sk-toggleable\"><input class=\"sk-toggleable__control sk-hidden--visually\" id=\"sk-estimator-id-1\" type=\"checkbox\" ><label for=\"sk-estimator-id-1\" class=\"sk-toggleable__label sk-toggleable__label-arrow\">Pipeline</label><div class=\"sk-toggleable__content\"><pre>Pipeline(steps=[(&#x27;preprocessing&#x27;,\n",
       "                 Pipeline(steps=[(&#x27;rc&#x27;,\n",
       "                                  FunctionTransformer(func=&lt;function remove_chars at 0x0000020A540328C0&gt;,\n",
       "                                                      kw_args={&#x27;char_list&#x27;: [(&#x27;ï¿½&#x27;,\n",
       "                                                                              &#x27;&#x27;),\n",
       "                                                                             (&#x27;&amp;quot;&#x27;,\n",
       "                                                                              &#x27;&#x27;),\n",
       "                                                                             (&#x27;&amp;lt;3&#x27;,\n",
       "                                                                              &#x27;&lt;3&#x27;),\n",
       "                                                                             (&#x27;&amp;lt;/3&#x27;,\n",
       "                                                                              &#x27;&lt;/3&#x27;),\n",
       "                                                                             (&#x27;&amp;amp;&#x27;,\n",
       "                                                                              &#x27;&amp;&#x27;),\n",
       "                                                                             (&#x27;&amp;gt;&#x27;,\n",
       "                                                                              &#x27;&gt;&#x27;),\n",
       "                                                                             (&#x27;&amp;lt;&#x27;,\n",
       "                                                                              &#x27;&lt;&#x27;)],\n",
       "                                                               &#x27;var_name&#x27;: &#x27;content&#x27;})),\n",
       "                                 (&#x27;ra&#x27;,\n",
       "                                  FunctionTransformer(func=&lt;function remove_arrobas at 0x0000020A54032710&gt;,\n",
       "                                                      kw_args...\n",
       "                                  FeatureExtractionTwitts(features_to_extract=[&#x27;subjectivity&#x27;,\n",
       "                                                                               &#x27;polarity&#x27;],\n",
       "                                                          text_column=&#x27;content_remchars_remarroba_remlinks_sno&#x27;)),\n",
       "                                 (&#x27;ctr&#x27;,\n",
       "                                  Vectorizer(max_df=0.7, min_df=15,\n",
       "                                             ngram_range=(1, 3),\n",
       "                                             text_column=&#x27;content_remchars_remarroba_remlinks_sno&#x27;,\n",
       "                                             vect_type=&#x27;tfid&#x27;)),\n",
       "                                 (&#x27;ds&#x27;,\n",
       "                                  &lt;utils.ColumnSelectedTransformer object at 0x0000020A53F89210&gt;)])),\n",
       "                (&#x27;model&#x27;, GaussianNB())])</pre></div></div></div><div class=\"sk-serial\"><div class=\"sk-item\"><div class=\"sk-label-container\"><div class=\"sk-label sk-toggleable\"><input class=\"sk-toggleable__control sk-hidden--visually\" id=\"sk-estimator-id-2\" type=\"checkbox\" ><label for=\"sk-estimator-id-2\" class=\"sk-toggleable__label sk-toggleable__label-arrow\">preprocessing: Pipeline</label><div class=\"sk-toggleable__content\"><pre>Pipeline(steps=[(&#x27;rc&#x27;,\n",
       "                 FunctionTransformer(func=&lt;function remove_chars at 0x0000020A540328C0&gt;,\n",
       "                                     kw_args={&#x27;char_list&#x27;: [(&#x27;ï¿½&#x27;, &#x27;&#x27;),\n",
       "                                                            (&#x27;&amp;quot;&#x27;, &#x27;&#x27;),\n",
       "                                                            (&#x27;&amp;lt;3&#x27;, &#x27;&lt;3&#x27;),\n",
       "                                                            (&#x27;&amp;lt;/3&#x27;, &#x27;&lt;/3&#x27;),\n",
       "                                                            (&#x27;&amp;amp;&#x27;, &#x27;&amp;&#x27;),\n",
       "                                                            (&#x27;&amp;gt;&#x27;, &#x27;&gt;&#x27;),\n",
       "                                                            (&#x27;&amp;lt;&#x27;, &#x27;&lt;&#x27;)],\n",
       "                                              &#x27;var_name&#x27;: &#x27;content&#x27;})),\n",
       "                (&#x27;ra&#x27;,\n",
       "                 FunctionTransformer(func=&lt;function remove_arrobas at 0x0000020A54032710&gt;,\n",
       "                                     kw_args={&#x27;var_name&#x27;: &#x27;content_remchars&#x27;})),\n",
       "                (&#x27;rl&#x27;,\n",
       "                 FunctionTransformer(func=&lt;function remove_links at 0x0000020A54032830&gt;,\n",
       "                                     kw_args={&#x27;var_name&#x27;: &#x27;content_remchars_remarroba&#x27;})),\n",
       "                (&#x27;rsw&#x27;,\n",
       "                 RemoveStopWords(bool_trans=False,\n",
       "                                 text_columns=[&#x27;content_remchars_remarroba_remlinks&#x27;])),\n",
       "                (&#x27;lt&#x27;,\n",
       "                 LemmantizerTransformer(stemmers=[&#x27;sno&#x27;],\n",
       "                                        text_columns=[&#x27;content_remchars_remarroba_remlinks&#x27;]))])</pre></div></div></div><div class=\"sk-serial\"><div class=\"sk-item\"><div class=\"sk-estimator sk-toggleable\"><input class=\"sk-toggleable__control sk-hidden--visually\" id=\"sk-estimator-id-3\" type=\"checkbox\" ><label for=\"sk-estimator-id-3\" class=\"sk-toggleable__label sk-toggleable__label-arrow\">FunctionTransformer</label><div class=\"sk-toggleable__content\"><pre>FunctionTransformer(func=&lt;function remove_chars at 0x0000020A540328C0&gt;,\n",
       "                    kw_args={&#x27;char_list&#x27;: [(&#x27;ï¿½&#x27;, &#x27;&#x27;), (&#x27;&amp;quot;&#x27;, &#x27;&#x27;),\n",
       "                                           (&#x27;&amp;lt;3&#x27;, &#x27;&lt;3&#x27;), (&#x27;&amp;lt;/3&#x27;, &#x27;&lt;/3&#x27;),\n",
       "                                           (&#x27;&amp;amp;&#x27;, &#x27;&amp;&#x27;), (&#x27;&amp;gt;&#x27;, &#x27;&gt;&#x27;),\n",
       "                                           (&#x27;&amp;lt;&#x27;, &#x27;&lt;&#x27;)],\n",
       "                             &#x27;var_name&#x27;: &#x27;content&#x27;})</pre></div></div></div><div class=\"sk-item\"><div class=\"sk-estimator sk-toggleable\"><input class=\"sk-toggleable__control sk-hidden--visually\" id=\"sk-estimator-id-4\" type=\"checkbox\" ><label for=\"sk-estimator-id-4\" class=\"sk-toggleable__label sk-toggleable__label-arrow\">FunctionTransformer</label><div class=\"sk-toggleable__content\"><pre>FunctionTransformer(func=&lt;function remove_arrobas at 0x0000020A54032710&gt;,\n",
       "                    kw_args={&#x27;var_name&#x27;: &#x27;content_remchars&#x27;})</pre></div></div></div><div class=\"sk-item\"><div class=\"sk-estimator sk-toggleable\"><input class=\"sk-toggleable__control sk-hidden--visually\" id=\"sk-estimator-id-5\" type=\"checkbox\" ><label for=\"sk-estimator-id-5\" class=\"sk-toggleable__label sk-toggleable__label-arrow\">FunctionTransformer</label><div class=\"sk-toggleable__content\"><pre>FunctionTransformer(func=&lt;function remove_links at 0x0000020A54032830&gt;,\n",
       "                    kw_args={&#x27;var_name&#x27;: &#x27;content_remchars_remarroba&#x27;})</pre></div></div></div><div class=\"sk-item\"><div class=\"sk-estimator sk-toggleable\"><input class=\"sk-toggleable__control sk-hidden--visually\" id=\"sk-estimator-id-6\" type=\"checkbox\" ><label for=\"sk-estimator-id-6\" class=\"sk-toggleable__label sk-toggleable__label-arrow\">RemoveStopWords</label><div class=\"sk-toggleable__content\"><pre>RemoveStopWords(bool_trans=False,\n",
       "                text_columns=[&#x27;content_remchars_remarroba_remlinks&#x27;])</pre></div></div></div><div class=\"sk-item\"><div class=\"sk-estimator sk-toggleable\"><input class=\"sk-toggleable__control sk-hidden--visually\" id=\"sk-estimator-id-7\" type=\"checkbox\" ><label for=\"sk-estimator-id-7\" class=\"sk-toggleable__label sk-toggleable__label-arrow\">LemmantizerTransformer</label><div class=\"sk-toggleable__content\"><pre>LemmantizerTransformer(stemmers=[&#x27;sno&#x27;],\n",
       "                       text_columns=[&#x27;content_remchars_remarroba_remlinks&#x27;])</pre></div></div></div></div></div><div class=\"sk-item\"><div class=\"sk-label-container\"><div class=\"sk-label sk-toggleable\"><input class=\"sk-toggleable__control sk-hidden--visually\" id=\"sk-estimator-id-8\" type=\"checkbox\" ><label for=\"sk-estimator-id-8\" class=\"sk-toggleable__label sk-toggleable__label-arrow\">feature_extraction: Pipeline</label><div class=\"sk-toggleable__content\"><pre>Pipeline(steps=[(&#x27;fet_1&#x27;,\n",
       "                 FeatureExtractionTwitts(features_to_extract=[&#x27;arrobas_count&#x27;,\n",
       "                                                              &#x27;hashtag_count&#x27;,\n",
       "                                                              &#x27;is_reply&#x27;,\n",
       "                                                              &#x27;is_rt&#x27;,\n",
       "                                                              &#x27;twitt_length&#x27;],\n",
       "                                         text_column=&#x27;content&#x27;)),\n",
       "                (&#x27;fet_2&#x27;,\n",
       "                 FeatureExtractionTwitts(features_to_extract=[&#x27;subjectivity&#x27;,\n",
       "                                                              &#x27;polarity&#x27;],\n",
       "                                         text_column=&#x27;content_remchars_remarroba_remlinks_sno&#x27;)),\n",
       "                (&#x27;ctr&#x27;,\n",
       "                 Vectorizer(max_df=0.7, min_df=15, ngram_range=(1, 3),\n",
       "                            text_column=&#x27;content_remchars_remarroba_remlinks_sno&#x27;,\n",
       "                            vect_type=&#x27;tfid&#x27;)),\n",
       "                (&#x27;ds&#x27;,\n",
       "                 &lt;utils.ColumnSelectedTransformer object at 0x0000020A53F89210&gt;)])</pre></div></div></div><div class=\"sk-serial\"><div class=\"sk-item\"><div class=\"sk-estimator sk-toggleable\"><input class=\"sk-toggleable__control sk-hidden--visually\" id=\"sk-estimator-id-9\" type=\"checkbox\" ><label for=\"sk-estimator-id-9\" class=\"sk-toggleable__label sk-toggleable__label-arrow\">FeatureExtractionTwitts</label><div class=\"sk-toggleable__content\"><pre>FeatureExtractionTwitts(features_to_extract=[&#x27;arrobas_count&#x27;, &#x27;hashtag_count&#x27;,\n",
       "                                             &#x27;is_reply&#x27;, &#x27;is_rt&#x27;,\n",
       "                                             &#x27;twitt_length&#x27;],\n",
       "                        text_column=&#x27;content&#x27;)</pre></div></div></div><div class=\"sk-item\"><div class=\"sk-estimator sk-toggleable\"><input class=\"sk-toggleable__control sk-hidden--visually\" id=\"sk-estimator-id-10\" type=\"checkbox\" ><label for=\"sk-estimator-id-10\" class=\"sk-toggleable__label sk-toggleable__label-arrow\">FeatureExtractionTwitts</label><div class=\"sk-toggleable__content\"><pre>FeatureExtractionTwitts(features_to_extract=[&#x27;subjectivity&#x27;, &#x27;polarity&#x27;],\n",
       "                        text_column=&#x27;content_remchars_remarroba_remlinks_sno&#x27;)</pre></div></div></div><div class=\"sk-item\"><div class=\"sk-estimator sk-toggleable\"><input class=\"sk-toggleable__control sk-hidden--visually\" id=\"sk-estimator-id-11\" type=\"checkbox\" ><label for=\"sk-estimator-id-11\" class=\"sk-toggleable__label sk-toggleable__label-arrow\">Vectorizer</label><div class=\"sk-toggleable__content\"><pre>Vectorizer(max_df=0.7, min_df=15, ngram_range=(1, 3),\n",
       "           text_column=&#x27;content_remchars_remarroba_remlinks_sno&#x27;,\n",
       "           vect_type=&#x27;tfid&#x27;)</pre></div></div></div><div class=\"sk-item\"><div class=\"sk-estimator sk-toggleable\"><input class=\"sk-toggleable__control sk-hidden--visually\" id=\"sk-estimator-id-12\" type=\"checkbox\" ><label for=\"sk-estimator-id-12\" class=\"sk-toggleable__label sk-toggleable__label-arrow\">ColumnSelectedTransformer</label><div class=\"sk-toggleable__content\"><pre>&lt;utils.ColumnSelectedTransformer object at 0x0000020A53F89210&gt;</pre></div></div></div></div></div><div class=\"sk-item\"><div class=\"sk-estimator sk-toggleable\"><input class=\"sk-toggleable__control sk-hidden--visually\" id=\"sk-estimator-id-13\" type=\"checkbox\" ><label for=\"sk-estimator-id-13\" class=\"sk-toggleable__label sk-toggleable__label-arrow\">GaussianNB</label><div class=\"sk-toggleable__content\"><pre>GaussianNB()</pre></div></div></div></div></div></div></div>"
      ],
      "text/plain": [
       "Pipeline(steps=[('preprocessing',\n",
       "                 Pipeline(steps=[('rc',\n",
       "                                  FunctionTransformer(func=<function remove_chars at 0x0000020A540328C0>,\n",
       "                                                      kw_args={'char_list': [('ï¿½',\n",
       "                                                                              ''),\n",
       "                                                                             ('&quot;',\n",
       "                                                                              ''),\n",
       "                                                                             ('&lt;3',\n",
       "                                                                              '<3'),\n",
       "                                                                             ('&lt;/3',\n",
       "                                                                              '</3'),\n",
       "                                                                             ('&amp;',\n",
       "                                                                              '&'),\n",
       "                                                                             ('&gt;',\n",
       "                                                                              '>'),\n",
       "                                                                             ('&lt;',\n",
       "                                                                              '<')],\n",
       "                                                               'var_name': 'content'})),\n",
       "                                 ('ra',\n",
       "                                  FunctionTransformer(func=<function remove_arrobas at 0x0000020A54032710>,\n",
       "                                                      kw_args...\n",
       "                                  FeatureExtractionTwitts(features_to_extract=['subjectivity',\n",
       "                                                                               'polarity'],\n",
       "                                                          text_column='content_remchars_remarroba_remlinks_sno')),\n",
       "                                 ('ctr',\n",
       "                                  Vectorizer(max_df=0.7, min_df=15,\n",
       "                                             ngram_range=(1, 3),\n",
       "                                             text_column='content_remchars_remarroba_remlinks_sno',\n",
       "                                             vect_type='tfid')),\n",
       "                                 ('ds',\n",
       "                                  <utils.ColumnSelectedTransformer object at 0x0000020A53F89210>)])),\n",
       "                ('model', GaussianNB())])"
      ]
     },
     "execution_count": 9,
     "metadata": {},
     "output_type": "execute_result"
    }
   ],
   "source": [
    "X = df[['content']]\n",
    "y = df.sentiment_remapped\n",
    "X_train, X_test, y_train, y_test = train_test_split(X, y, test_size=.2, random_state=42)\n",
    "\n",
    "pipe = Pipeline(steps=[\n",
    "    ('preprocessing', preprocessing),\n",
    "    ('feature_extraction', feature_extraction),\n",
    "    ('model', clf1)\n",
    "])\n",
    "\n",
    "# X_tr = pipe.fit(X,y)\n",
    "train_function(pipe, X_train, X_test, y_train, y_test)\n",
    "# display(f'shape of X {X_tr.shape}')\n",
    "\n",
    "\n",
    "    \n",
    "# train_function(clf1, X_train, X_test, y_train, y_test)\n",
    "# search = train_function(search, X_train, X_test, y_train, y_test)\n"
   ]
  },
  {
   "cell_type": "code",
   "execution_count": 10,
   "metadata": {},
   "outputs": [
    {
     "ename": "NameError",
     "evalue": "name 'search' is not defined",
     "output_type": "error",
     "traceback": [
      "\u001b[1;31m---------------------------------------------------------------------------\u001b[0m",
      "\u001b[1;31mNameError\u001b[0m                                 Traceback (most recent call last)",
      "\u001b[1;32mc:\\Users\\tomas\\Desktop\\Tareas Data Science - Desafío Latam\\machine_learning\\prueba\\twitter\\twitter.ipynb Celda 11\u001b[0m in \u001b[0;36m<cell line: 1>\u001b[1;34m()\u001b[0m\n\u001b[1;32m----> <a href='vscode-notebook-cell:/c%3A/Users/tomas/Desktop/Tareas%20Data%20Science%20-%20Desaf%C3%ADo%20Latam/machine_learning/prueba/twitter/twitter.ipynb#X12sZmlsZQ%3D%3D?line=0'>1</a>\u001b[0m search\u001b[39m.\u001b[39mbest_params_\n",
      "\u001b[1;31mNameError\u001b[0m: name 'search' is not defined"
     ]
    }
   ],
   "source": [
    "search.best_params_"
   ]
  },
  {
   "cell_type": "code",
   "execution_count": null,
   "metadata": {},
   "outputs": [],
   "source": [
    "plt.figure(figsize=(10, 8))\n",
    "plt.hist(X_tr['var_subjectivity'], bins=50, fc=(1, 0, 0, 0.5))\n",
    "plt.hist(X_tr['var_polarity'], bins=50, fc=(0, 0, 1, 0.5))\n",
    "plt.title('Sentiment analysis')\n",
    "plt.xlabel('Polarity')\n",
    "plt.ylabel('Subjectivity')\n",
    "plt.show()\n",
    "\n",
    "plt.figure(figsize=(10, 8))\n",
    "plt.hist(X_tr['var_twit_length'], bins=30, fc=(1, 0, 0, 0.5))\n",
    "plt.title('Twits length')\n",
    "plt.show()\n",
    "\n"
   ]
  }
 ],
 "metadata": {
  "kernelspec": {
   "display_name": "Python 3.10.4 ('dl')",
   "language": "python",
   "name": "python3"
  },
  "language_info": {
   "codemirror_mode": {
    "name": "ipython",
    "version": 3
   },
   "file_extension": ".py",
   "mimetype": "text/x-python",
   "name": "python",
   "nbconvert_exporter": "python",
   "pygments_lexer": "ipython3",
   "version": "3.10.4"
  },
  "orig_nbformat": 4,
  "vscode": {
   "interpreter": {
    "hash": "c9ccd8639d7ac6d8ae46f08631d02de0d1c9f4a08850208985333be71082afd9"
   }
  }
 },
 "nbformat": 4,
 "nbformat_minor": 2
}
