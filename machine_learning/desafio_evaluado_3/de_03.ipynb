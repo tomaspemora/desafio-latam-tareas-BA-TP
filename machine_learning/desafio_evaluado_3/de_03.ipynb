{
 "cells": [
  {
   "cell_type": "markdown",
   "metadata": {},
   "source": [
    "# Desafío - Inferencia de tópicos con EM"
   ]
  },
  {
   "cell_type": "markdown",
   "metadata": {},
   "source": [
    "### Nombre: Thomas Peet, Braulio Aguila, Camilo Ramírez   \n",
    "### Generación: G47   \n",
    "### Profesores: Alfonso Tobar - Sebastián Ulloa   \n",
    "### Fecha: 05-09-2022"
   ]
  },
  {
   "cell_type": "markdown",
   "metadata": {},
   "source": [
    "### Requerimientos\n",
    "* En esta sesión trabajaremos con una serie de base de datos sobre letras musicales de distintos artistas. Cada uno de los csv se encuentra en la carpeta dump.\n",
    "* Cada csv tiene el nombre del artista a analizar. Los archivos contienen el nombre del artista, el género musical del artista, el nombre de la canción y las letras.\n",
    "* En base a esta información, el objetivo del ejercicio es generar un modelo probabilístico que pueda identificar el género musical más probable dado la letra de una canción.\n",
    "* Para ello implementaremos un modelo conocido como Latent Dirichlet Allocation que hace uso de una variante del algoritmo EM para inferir clases latentes a partir de una matriz de documentos."
   ]
  },
  {
   "cell_type": "markdown",
   "metadata": {},
   "source": [
    "### Ejercicio 1: Preparar el ambiente de trabajo\n",
    "* Importe los módulos numpy, pandas, matplotlib, seaborn, glob y os siguiendo las buenas prácticas. Los últimos dos módulos permitirán realizar la importación de múltiples archivos dentro de la carpeta dump.\n",
    "* Para ello genere un objeto que guarde en una lista todos los archivos alojados en dump utilizando glob.glob y os.getcwd() para extraer las rutas absolutas. Posteriormente genere un objeto pd.DataFrame que contenga todos los csv.\n",
    "* Asegúrese de eliminar la columna Unnamed: 0 que se genera por defecto."
   ]
  },
  {
   "cell_type": "code",
   "execution_count": 1,
   "metadata": {},
   "outputs": [],
   "source": [
    "import pandas as pd\n",
    "import numpy as np\n",
    "import matplotlib.pyplot as plt\n",
    "import seaborn as sns\n",
    "import os \n",
    "import glob"
   ]
  },
  {
   "cell_type": "code",
   "execution_count": 2,
   "metadata": {},
   "outputs": [
    {
     "data": {
      "text/plain": [
       "['dump\\\\anthrax_scrape.csv',\n",
       " 'dump\\\\a_tribe_called_quest_scrape.csv',\n",
       " 'dump\\\\black_star_scrape.csv',\n",
       " 'dump\\\\bob_dylan_scrape.csv',\n",
       " 'dump\\\\britney_spears_scrape.csv',\n",
       " 'dump\\\\bruce_springsteen_scrape.csv',\n",
       " 'dump\\\\cannibal_corpse_scrape.csv',\n",
       " 'dump\\\\carly_rae_jepsen_scrape.csv',\n",
       " 'dump\\\\deicide_scrape.csv',\n",
       " 'dump\\\\de_la_soul_scrape.csv',\n",
       " 'dump\\\\dr._dre_scrape.csv',\n",
       " 'dump\\\\dua_lipa_scrape.csv',\n",
       " 'dump\\\\eminem_scrape.csv',\n",
       " 'dump\\\\faith_no_more_scrape.csv',\n",
       " 'dump\\\\ghostface_killah_scrape.csv',\n",
       " 'dump\\\\gorgoroth_scrape.csv',\n",
       " 'dump\\\\immortal_scrape.csv',\n",
       " 'dump\\\\incubus_scrape.csv',\n",
       " 'dump\\\\iron_maiden_scrape.csv',\n",
       " 'dump\\\\kanye_west_scrape.csv',\n",
       " 'dump\\\\kendrick_lamar_scrape.csv',\n",
       " 'dump\\\\killer_mike_scrape.csv',\n",
       " 'dump\\\\kiss_scrape.csv',\n",
       " 'dump\\\\led_zeppelin_scrape.csv',\n",
       " 'dump\\\\lorde_scrape.csv',\n",
       " 'dump\\\\mayhem_scrape.csv',\n",
       " 'dump\\\\megadeth_scrape.csv',\n",
       " 'dump\\\\meshuggah_scrape.csv',\n",
       " 'dump\\\\metallica_scrape.csv',\n",
       " 'dump\\\\method_man_scrape.csv',\n",
       " 'dump\\\\mf_doom_scrape.csv',\n",
       " 'dump\\\\michael_jackson_scrape.csv',\n",
       " 'dump\\\\mobb_deep_scrape.csv',\n",
       " 'dump\\\\modest_mouse_scrape.csv',\n",
       " 'dump\\\\mos_def_scrape.csv',\n",
       " 'dump\\\\necrophagist_scrape.csv',\n",
       " 'dump\\\\nickelback_scrape.csv',\n",
       " 'dump\\\\nicki_minaj_scrape.csv',\n",
       " 'dump\\\\nwa_scrape.csv',\n",
       " 'dump\\\\oasis_scrape.csv',\n",
       " 'dump\\\\opeth_scrape.csv',\n",
       " 'dump\\\\pink_floyd_scrape.csv',\n",
       " 'dump\\\\public_enemy_scrape.csv',\n",
       " 'dump\\\\queen_scrape.csv',\n",
       " 'dump\\\\radiohead_scrape.csv',\n",
       " 'dump\\\\raekwon_scrape.csv',\n",
       " 'dump\\\\rage_against_the_machine_scrape.csv',\n",
       " 'dump\\\\red_hot_chili_peppers_scrape.csv',\n",
       " 'dump\\\\rush_scrape.csv',\n",
       " 'dump\\\\sam_smith_scrape.csv',\n",
       " 'dump\\\\sia_scrape.csv',\n",
       " 'dump\\\\slayer_scrape.csv',\n",
       " 'dump\\\\spice_girls_scrape.csv',\n",
       " 'dump\\\\system_of_a_down_scrape.csv',\n",
       " 'dump\\\\the_beatles_scrape.csv',\n",
       " 'dump\\\\the_clash_scrape.csv',\n",
       " 'dump\\\\the_doors_scrape.csv',\n",
       " 'dump\\\\the_smashing_pumpkins_scrape.csv',\n",
       " 'dump\\\\the_smiths_scrape.csv',\n",
       " 'dump\\\\tool_scrape.csv',\n",
       " 'dump\\\\vital_remains_scrape.csv',\n",
       " 'dump\\\\weezer_scrape.csv']"
      ]
     },
     "execution_count": 2,
     "metadata": {},
     "output_type": "execute_result"
    }
   ],
   "source": [
    "files = glob.glob('dump/*.csv')\n",
    "files"
   ]
  },
  {
   "cell_type": "code",
   "execution_count": 3,
   "metadata": {},
   "outputs": [
    {
     "data": {
      "text/html": [
       "<div>\n",
       "<style scoped>\n",
       "    .dataframe tbody tr th:only-of-type {\n",
       "        vertical-align: middle;\n",
       "    }\n",
       "\n",
       "    .dataframe tbody tr th {\n",
       "        vertical-align: top;\n",
       "    }\n",
       "\n",
       "    .dataframe thead th {\n",
       "        text-align: right;\n",
       "    }\n",
       "</style>\n",
       "<table border=\"1\" class=\"dataframe\">\n",
       "  <thead>\n",
       "    <tr style=\"text-align: right;\">\n",
       "      <th></th>\n",
       "      <th>0</th>\n",
       "      <th>1</th>\n",
       "      <th>2</th>\n",
       "      <th>3</th>\n",
       "    </tr>\n",
       "  </thead>\n",
       "  <tbody>\n",
       "    <tr>\n",
       "      <th>0</th>\n",
       "      <td>Anthrax</td>\n",
       "      <td>metal</td>\n",
       "      <td>Deathrider</td>\n",
       "      <td>Riding hard, high in the saddle \\n Winged stee...</td>\n",
       "    </tr>\n",
       "    <tr>\n",
       "      <th>1</th>\n",
       "      <td>Anthrax</td>\n",
       "      <td>metal</td>\n",
       "      <td>Metal Thrashing Mad</td>\n",
       "      <td>Racing down the road \\n In a street machine of...</td>\n",
       "    </tr>\n",
       "    <tr>\n",
       "      <th>2</th>\n",
       "      <td>Anthrax</td>\n",
       "      <td>metal</td>\n",
       "      <td>I'm Eighteen</td>\n",
       "      <td>Lines form on my face and hands \\n Lines form ...</td>\n",
       "    </tr>\n",
       "    <tr>\n",
       "      <th>3</th>\n",
       "      <td>Anthrax</td>\n",
       "      <td>metal</td>\n",
       "      <td>Panic</td>\n",
       "      <td>Move it to the front \\n Reaching for the light...</td>\n",
       "    </tr>\n",
       "    <tr>\n",
       "      <th>4</th>\n",
       "      <td>Anthrax</td>\n",
       "      <td>metal</td>\n",
       "      <td>Subjugator</td>\n",
       "      <td>Out in the streets \\n We're fighting tonight \\...</td>\n",
       "    </tr>\n",
       "    <tr>\n",
       "      <th>...</th>\n",
       "      <td>...</td>\n",
       "      <td>...</td>\n",
       "      <td>...</td>\n",
       "      <td>...</td>\n",
       "    </tr>\n",
       "    <tr>\n",
       "      <th>246</th>\n",
       "      <td>Weezer</td>\n",
       "      <td>rock</td>\n",
       "      <td>Thief, You've Taken All That Was Me</td>\n",
       "      <td>Thief, of silent dreams \\n Of golden scenes \\n...</td>\n",
       "    </tr>\n",
       "    <tr>\n",
       "      <th>247</th>\n",
       "      <td>Weezer</td>\n",
       "      <td>rock</td>\n",
       "      <td>We Are All In Love</td>\n",
       "      <td>When your out with your friends \\n In your new...</td>\n",
       "    </tr>\n",
       "    <tr>\n",
       "      <th>248</th>\n",
       "      <td>Weezer</td>\n",
       "      <td>rock</td>\n",
       "      <td>We Go Together</td>\n",
       "      <td>We go together \\n And that's to stay \\n And in...</td>\n",
       "    </tr>\n",
       "    <tr>\n",
       "      <th>249</th>\n",
       "      <td>Weezer</td>\n",
       "      <td>rock</td>\n",
       "      <td>What Is This I Find?</td>\n",
       "      <td>[Jonas]: \\n What is this I find? \\n [Wuan]: \\n...</td>\n",
       "    </tr>\n",
       "    <tr>\n",
       "      <th>250</th>\n",
       "      <td>Weezer</td>\n",
       "      <td>rock</td>\n",
       "      <td>Zep Jamb</td>\n",
       "      <td>Alright \\n Say baby \\n Love me \\n Lay your mon...</td>\n",
       "    </tr>\n",
       "  </tbody>\n",
       "</table>\n",
       "<p>9489 rows × 4 columns</p>\n",
       "</div>"
      ],
      "text/plain": [
       "           0      1                                    2  \\\n",
       "0    Anthrax  metal                           Deathrider   \n",
       "1    Anthrax  metal                  Metal Thrashing Mad   \n",
       "2    Anthrax  metal                         I'm Eighteen   \n",
       "3    Anthrax  metal                                Panic   \n",
       "4    Anthrax  metal                           Subjugator   \n",
       "..       ...    ...                                  ...   \n",
       "246   Weezer   rock  Thief, You've Taken All That Was Me   \n",
       "247   Weezer   rock                   We Are All In Love   \n",
       "248   Weezer   rock                       We Go Together   \n",
       "249   Weezer   rock                 What Is This I Find?   \n",
       "250   Weezer   rock                             Zep Jamb   \n",
       "\n",
       "                                                     3  \n",
       "0    Riding hard, high in the saddle \\n Winged stee...  \n",
       "1    Racing down the road \\n In a street machine of...  \n",
       "2    Lines form on my face and hands \\n Lines form ...  \n",
       "3    Move it to the front \\n Reaching for the light...  \n",
       "4    Out in the streets \\n We're fighting tonight \\...  \n",
       "..                                                 ...  \n",
       "246  Thief, of silent dreams \\n Of golden scenes \\n...  \n",
       "247  When your out with your friends \\n In your new...  \n",
       "248  We go together \\n And that's to stay \\n And in...  \n",
       "249  [Jonas]: \\n What is this I find? \\n [Wuan]: \\n...  \n",
       "250  Alright \\n Say baby \\n Love me \\n Lay your mon...  \n",
       "\n",
       "[9489 rows x 4 columns]"
      ]
     },
     "execution_count": 3,
     "metadata": {},
     "output_type": "execute_result"
    }
   ],
   "source": [
    "df = pd.concat(pd.read_csv(file, header=0) for file in files).drop(columns='Unnamed: 0')\n",
    "df"
   ]
  },
  {
   "cell_type": "code",
   "execution_count": 17,
   "metadata": {},
   "outputs": [
    {
     "data": {
      "text/html": [
       "<div>\n",
       "<style scoped>\n",
       "    .dataframe tbody tr th:only-of-type {\n",
       "        vertical-align: middle;\n",
       "    }\n",
       "\n",
       "    .dataframe tbody tr th {\n",
       "        vertical-align: top;\n",
       "    }\n",
       "\n",
       "    .dataframe thead th {\n",
       "        text-align: right;\n",
       "    }\n",
       "</style>\n",
       "<table border=\"1\" class=\"dataframe\">\n",
       "  <thead>\n",
       "    <tr style=\"text-align: right;\">\n",
       "      <th></th>\n",
       "      <th>artist</th>\n",
       "      <th>genre</th>\n",
       "      <th>song</th>\n",
       "      <th>lyrics</th>\n",
       "    </tr>\n",
       "  </thead>\n",
       "  <tbody>\n",
       "    <tr>\n",
       "      <th>0</th>\n",
       "      <td>Anthrax</td>\n",
       "      <td>metal</td>\n",
       "      <td>Deathrider</td>\n",
       "      <td>Riding hard, high in the saddle \\n Winged stee...</td>\n",
       "    </tr>\n",
       "    <tr>\n",
       "      <th>1</th>\n",
       "      <td>Anthrax</td>\n",
       "      <td>metal</td>\n",
       "      <td>Metal Thrashing Mad</td>\n",
       "      <td>Racing down the road \\n In a street machine of...</td>\n",
       "    </tr>\n",
       "    <tr>\n",
       "      <th>2</th>\n",
       "      <td>Anthrax</td>\n",
       "      <td>metal</td>\n",
       "      <td>I'm Eighteen</td>\n",
       "      <td>Lines form on my face and hands \\n Lines form ...</td>\n",
       "    </tr>\n",
       "    <tr>\n",
       "      <th>3</th>\n",
       "      <td>Anthrax</td>\n",
       "      <td>metal</td>\n",
       "      <td>Panic</td>\n",
       "      <td>Move it to the front \\n Reaching for the light...</td>\n",
       "    </tr>\n",
       "    <tr>\n",
       "      <th>4</th>\n",
       "      <td>Anthrax</td>\n",
       "      <td>metal</td>\n",
       "      <td>Subjugator</td>\n",
       "      <td>Out in the streets \\n We're fighting tonight \\...</td>\n",
       "    </tr>\n",
       "    <tr>\n",
       "      <th>...</th>\n",
       "      <td>...</td>\n",
       "      <td>...</td>\n",
       "      <td>...</td>\n",
       "      <td>...</td>\n",
       "    </tr>\n",
       "    <tr>\n",
       "      <th>246</th>\n",
       "      <td>Weezer</td>\n",
       "      <td>rock</td>\n",
       "      <td>Thief, You've Taken All That Was Me</td>\n",
       "      <td>Thief, of silent dreams \\n Of golden scenes \\n...</td>\n",
       "    </tr>\n",
       "    <tr>\n",
       "      <th>247</th>\n",
       "      <td>Weezer</td>\n",
       "      <td>rock</td>\n",
       "      <td>We Are All In Love</td>\n",
       "      <td>When your out with your friends \\n In your new...</td>\n",
       "    </tr>\n",
       "    <tr>\n",
       "      <th>248</th>\n",
       "      <td>Weezer</td>\n",
       "      <td>rock</td>\n",
       "      <td>We Go Together</td>\n",
       "      <td>We go together \\n And that's to stay \\n And in...</td>\n",
       "    </tr>\n",
       "    <tr>\n",
       "      <th>249</th>\n",
       "      <td>Weezer</td>\n",
       "      <td>rock</td>\n",
       "      <td>What Is This I Find?</td>\n",
       "      <td>[Jonas]: \\n What is this I find? \\n [Wuan]: \\n...</td>\n",
       "    </tr>\n",
       "    <tr>\n",
       "      <th>250</th>\n",
       "      <td>Weezer</td>\n",
       "      <td>rock</td>\n",
       "      <td>Zep Jamb</td>\n",
       "      <td>Alright \\n Say baby \\n Love me \\n Lay your mon...</td>\n",
       "    </tr>\n",
       "  </tbody>\n",
       "</table>\n",
       "<p>9489 rows × 4 columns</p>\n",
       "</div>"
      ],
      "text/plain": [
       "      artist  genre                                 song  \\\n",
       "0    Anthrax  metal                           Deathrider   \n",
       "1    Anthrax  metal                  Metal Thrashing Mad   \n",
       "2    Anthrax  metal                         I'm Eighteen   \n",
       "3    Anthrax  metal                                Panic   \n",
       "4    Anthrax  metal                           Subjugator   \n",
       "..       ...    ...                                  ...   \n",
       "246   Weezer   rock  Thief, You've Taken All That Was Me   \n",
       "247   Weezer   rock                   We Are All In Love   \n",
       "248   Weezer   rock                       We Go Together   \n",
       "249   Weezer   rock                 What Is This I Find?   \n",
       "250   Weezer   rock                             Zep Jamb   \n",
       "\n",
       "                                                lyrics  \n",
       "0    Riding hard, high in the saddle \\n Winged stee...  \n",
       "1    Racing down the road \\n In a street machine of...  \n",
       "2    Lines form on my face and hands \\n Lines form ...  \n",
       "3    Move it to the front \\n Reaching for the light...  \n",
       "4    Out in the streets \\n We're fighting tonight \\...  \n",
       "..                                                 ...  \n",
       "246  Thief, of silent dreams \\n Of golden scenes \\n...  \n",
       "247  When your out with your friends \\n In your new...  \n",
       "248  We go together \\n And that's to stay \\n And in...  \n",
       "249  [Jonas]: \\n What is this I find? \\n [Wuan]: \\n...  \n",
       "250  Alright \\n Say baby \\n Love me \\n Lay your mon...  \n",
       "\n",
       "[9489 rows x 4 columns]"
      ]
     },
     "execution_count": 17,
     "metadata": {},
     "output_type": "execute_result"
    }
   ],
   "source": [
    "df.columns = ['artist', 'genre', 'song', 'lyrics']\n",
    "df"
   ]
  },
  {
   "cell_type": "markdown",
   "metadata": {},
   "source": [
    "### Ejercicio 2: Matriz de ocurrencias\n",
    "* Importe la clase CountVectorizer dentro de los módulos feature_extraction.text de la librería sklearn.\n",
    "* Aplique la clase para extraer las 5000 palabras más repetidas en toda la base de datos.\n",
    "* Con la clase inicializada, incorpore las letras con el método fit_transform y guarde los resultados en un nuevo objeto.\n"
   ]
  },
  {
   "cell_type": "code",
   "execution_count": 5,
   "metadata": {},
   "outputs": [],
   "source": [
    "from sklearn.feature_extraction.text import CountVectorizer"
   ]
  },
  {
   "cell_type": "code",
   "execution_count": 6,
   "metadata": {},
   "outputs": [
    {
     "data": {
      "text/plain": [
       "<9489x5000 sparse matrix of type '<class 'numpy.int64'>'\n",
       "\twith 701351 stored elements in Compressed Sparse Row format>"
      ]
     },
     "execution_count": 6,
     "metadata": {},
     "output_type": "execute_result"
    }
   ],
   "source": [
    "cv = CountVectorizer(stop_words='english', max_features=5000)\n",
    "df_ft= cv.fit_transform(df.lyrics)\n",
    "df_ft"
   ]
  },
  {
   "cell_type": "markdown",
   "metadata": {},
   "source": [
    "### Ejercicio 3: Entrenamiento del Modelo\n",
    "* Importe sklearn.decomposition.LatentDirichletAllocation y sklearn.model_selection.GridSearchCV.\n",
    "* Genere una búsqueda de grilla con los siguientes hiper parámetros:\n",
    "    * n_components: [5, 10, 15].\n",
    "    * learning_decay: [0.7, 0.5].\n",
    "* Entrene la búsqueda de grilla con las letras en un formato vectorizado con CountVectorizer.\n",
    "* Reporte brevemente cuál es la mejor combinación de hiper parámetros.  \n",
    "\n",
    "#### **Digresión: Latent Dirichlet Allocation**\n",
    "Latent Dirichlet Allocatio (LDA) es un modelo probabilístico generativo basado en Inferencia Variacional EM. La principal utilidad de esto es la identificación de tópicos en un corpus de texto. El proceso de inferencia se puede resumir en los siguientes pasos:\n",
    "* Cada documento dentro del corpus se puede entender como una mezcla de tópicos comunes a nivel de corpus.\n",
    "* Esta mezcla de tópicos es latente: sólo observamos los documentos registrados y sus palabras. \n",
    " \n",
    "    La API de sklearn.decomposition.LatentDirichletAllocation presenta la misma funcionalidad de todo modelo de sklearn. Algunos puntos a considerar en la inicialización de la clase son:\n",
    "    * n_components: Cantidad de tópicos a inferir en un corpus.\n",
    "    * learning_method: Forma en la que entran los datos en entrenamiento. Cuando es 'batch', se ingresa la matriz de entrenamiento completa. Cuando es 'online', la matriz de entrenamiento ingresa de manera secuencial en parcelas pequeñas.   \n",
    "     * learning_decay: Tasa de aprendizaje en la función de pérdida. Cuando se implementa con learning_method='online', el modelo se entrena con Gradiente Estocástico Descendente.\n",
    "    * Perplejidad: Busca aproximar el número óptimo de tópicos a inferir. Técnicamente evalúa qué tan bien predice una muestra específica. En función a un número de tópicos, define la distribución teórica de palabras representada por los tópicos y la compara con la ocurrencia empírica de palabras en tópicos"
   ]
  },
  {
   "cell_type": "code",
   "execution_count": 7,
   "metadata": {},
   "outputs": [],
   "source": [
    "from sklearn.decomposition import LatentDirichletAllocation\n",
    "from sklearn.model_selection import GridSearchCV"
   ]
  },
  {
   "cell_type": "code",
   "execution_count": 8,
   "metadata": {},
   "outputs": [
    {
     "name": "stderr",
     "output_type": "stream",
     "text": [
      "c:\\Users\\crami\\anaconda3\\lib\\site-packages\\sklearn\\model_selection\\_search.py:953: UserWarning: One or more of the test scores are non-finite: [nan nan nan nan nan nan]\n",
      "  warnings.warn(\n"
     ]
    },
    {
     "data": {
      "text/html": [
       "<style>#sk-container-id-1 {color: black;background-color: white;}#sk-container-id-1 pre{padding: 0;}#sk-container-id-1 div.sk-toggleable {background-color: white;}#sk-container-id-1 label.sk-toggleable__label {cursor: pointer;display: block;width: 100%;margin-bottom: 0;padding: 0.3em;box-sizing: border-box;text-align: center;}#sk-container-id-1 label.sk-toggleable__label-arrow:before {content: \"▸\";float: left;margin-right: 0.25em;color: #696969;}#sk-container-id-1 label.sk-toggleable__label-arrow:hover:before {color: black;}#sk-container-id-1 div.sk-estimator:hover label.sk-toggleable__label-arrow:before {color: black;}#sk-container-id-1 div.sk-toggleable__content {max-height: 0;max-width: 0;overflow: hidden;text-align: left;background-color: #f0f8ff;}#sk-container-id-1 div.sk-toggleable__content pre {margin: 0.2em;color: black;border-radius: 0.25em;background-color: #f0f8ff;}#sk-container-id-1 input.sk-toggleable__control:checked~div.sk-toggleable__content {max-height: 200px;max-width: 100%;overflow: auto;}#sk-container-id-1 input.sk-toggleable__control:checked~label.sk-toggleable__label-arrow:before {content: \"▾\";}#sk-container-id-1 div.sk-estimator input.sk-toggleable__control:checked~label.sk-toggleable__label {background-color: #d4ebff;}#sk-container-id-1 div.sk-label input.sk-toggleable__control:checked~label.sk-toggleable__label {background-color: #d4ebff;}#sk-container-id-1 input.sk-hidden--visually {border: 0;clip: rect(1px 1px 1px 1px);clip: rect(1px, 1px, 1px, 1px);height: 1px;margin: -1px;overflow: hidden;padding: 0;position: absolute;width: 1px;}#sk-container-id-1 div.sk-estimator {font-family: monospace;background-color: #f0f8ff;border: 1px dotted black;border-radius: 0.25em;box-sizing: border-box;margin-bottom: 0.5em;}#sk-container-id-1 div.sk-estimator:hover {background-color: #d4ebff;}#sk-container-id-1 div.sk-parallel-item::after {content: \"\";width: 100%;border-bottom: 1px solid gray;flex-grow: 1;}#sk-container-id-1 div.sk-label:hover label.sk-toggleable__label {background-color: #d4ebff;}#sk-container-id-1 div.sk-serial::before {content: \"\";position: absolute;border-left: 1px solid gray;box-sizing: border-box;top: 0;bottom: 0;left: 50%;z-index: 0;}#sk-container-id-1 div.sk-serial {display: flex;flex-direction: column;align-items: center;background-color: white;padding-right: 0.2em;padding-left: 0.2em;position: relative;}#sk-container-id-1 div.sk-item {position: relative;z-index: 1;}#sk-container-id-1 div.sk-parallel {display: flex;align-items: stretch;justify-content: center;background-color: white;position: relative;}#sk-container-id-1 div.sk-item::before, #sk-container-id-1 div.sk-parallel-item::before {content: \"\";position: absolute;border-left: 1px solid gray;box-sizing: border-box;top: 0;bottom: 0;left: 50%;z-index: -1;}#sk-container-id-1 div.sk-parallel-item {display: flex;flex-direction: column;z-index: 1;position: relative;background-color: white;}#sk-container-id-1 div.sk-parallel-item:first-child::after {align-self: flex-end;width: 50%;}#sk-container-id-1 div.sk-parallel-item:last-child::after {align-self: flex-start;width: 50%;}#sk-container-id-1 div.sk-parallel-item:only-child::after {width: 0;}#sk-container-id-1 div.sk-dashed-wrapped {border: 1px dashed gray;margin: 0 0.4em 0.5em 0.4em;box-sizing: border-box;padding-bottom: 0.4em;background-color: white;}#sk-container-id-1 div.sk-label label {font-family: monospace;font-weight: bold;display: inline-block;line-height: 1.2em;}#sk-container-id-1 div.sk-label-container {text-align: center;}#sk-container-id-1 div.sk-container {/* jupyter's `normalize.less` sets `[hidden] { display: none; }` but bootstrap.min.css set `[hidden] { display: none !important; }` so we also need the `!important` here to be able to override the default hidden behavior on the sphinx rendered scikit-learn.org. See: https://github.com/scikit-learn/scikit-learn/issues/21755 */display: inline-block !important;position: relative;}#sk-container-id-1 div.sk-text-repr-fallback {display: none;}</style><div id=\"sk-container-id-1\" class=\"sk-top-container\"><div class=\"sk-text-repr-fallback\"><pre>GridSearchCV(estimator=LatentDirichletAllocation(learning_method=&#x27;online&#x27;,\n",
       "                                                 n_jobs=-1, random_state=123),\n",
       "             n_jobs=-1,\n",
       "             param_grid={&#x27;learning_decay&#x27;: [0.7, 0.5],\n",
       "                         &#x27;n_components&#x27;: [5, 10, 15]},\n",
       "             scoring=&#x27;accuracy&#x27;)</pre><b>In a Jupyter environment, please rerun this cell to show the HTML representation or trust the notebook. <br />On GitHub, the HTML representation is unable to render, please try loading this page with nbviewer.org.</b></div><div class=\"sk-container\" hidden><div class=\"sk-item sk-dashed-wrapped\"><div class=\"sk-label-container\"><div class=\"sk-label sk-toggleable\"><input class=\"sk-toggleable__control sk-hidden--visually\" id=\"sk-estimator-id-1\" type=\"checkbox\" ><label for=\"sk-estimator-id-1\" class=\"sk-toggleable__label sk-toggleable__label-arrow\">GridSearchCV</label><div class=\"sk-toggleable__content\"><pre>GridSearchCV(estimator=LatentDirichletAllocation(learning_method=&#x27;online&#x27;,\n",
       "                                                 n_jobs=-1, random_state=123),\n",
       "             n_jobs=-1,\n",
       "             param_grid={&#x27;learning_decay&#x27;: [0.7, 0.5],\n",
       "                         &#x27;n_components&#x27;: [5, 10, 15]},\n",
       "             scoring=&#x27;accuracy&#x27;)</pre></div></div></div><div class=\"sk-parallel\"><div class=\"sk-parallel-item\"><div class=\"sk-item\"><div class=\"sk-label-container\"><div class=\"sk-label sk-toggleable\"><input class=\"sk-toggleable__control sk-hidden--visually\" id=\"sk-estimator-id-2\" type=\"checkbox\" ><label for=\"sk-estimator-id-2\" class=\"sk-toggleable__label sk-toggleable__label-arrow\">estimator: LatentDirichletAllocation</label><div class=\"sk-toggleable__content\"><pre>LatentDirichletAllocation(learning_method=&#x27;online&#x27;, n_jobs=-1, random_state=123)</pre></div></div></div><div class=\"sk-serial\"><div class=\"sk-item\"><div class=\"sk-estimator sk-toggleable\"><input class=\"sk-toggleable__control sk-hidden--visually\" id=\"sk-estimator-id-3\" type=\"checkbox\" ><label for=\"sk-estimator-id-3\" class=\"sk-toggleable__label sk-toggleable__label-arrow\">LatentDirichletAllocation</label><div class=\"sk-toggleable__content\"><pre>LatentDirichletAllocation(learning_method=&#x27;online&#x27;, n_jobs=-1, random_state=123)</pre></div></div></div></div></div></div></div></div></div></div>"
      ],
      "text/plain": [
       "GridSearchCV(estimator=LatentDirichletAllocation(learning_method='online',\n",
       "                                                 n_jobs=-1, random_state=123),\n",
       "             n_jobs=-1,\n",
       "             param_grid={'learning_decay': [0.7, 0.5],\n",
       "                         'n_components': [5, 10, 15]},\n",
       "             scoring='accuracy')"
      ]
     },
     "execution_count": 8,
     "metadata": {},
     "output_type": "execute_result"
    }
   ],
   "source": [
    "lda = LatentDirichletAllocation(n_jobs=-1, random_state=123, learning_method='online')\n",
    "params = {'learning_decay': [0.7, 0.5],\n",
    "          'n_components': [5,10,15]}\n",
    "search = GridSearchCV(lda, param_grid = params, scoring='accuracy', n_jobs=-1)\n",
    "search.fit(df_ft)\n",
    "search"
   ]
  },
  {
   "cell_type": "code",
   "execution_count": 9,
   "metadata": {},
   "outputs": [
    {
     "data": {
      "text/plain": [
       "{'learning_decay': 0.7, 'n_components': 5}"
      ]
     },
     "execution_count": 9,
     "metadata": {},
     "output_type": "execute_result"
    }
   ],
   "source": [
    "search.best_params_"
   ]
  },
  {
   "cell_type": "markdown",
   "metadata": {},
   "source": [
    "### Ejercicio 4 : Inferencia e Identificación de Tópicos\n",
    "* En base a la mejor combinación de hiper parámetros, entrene el modelo con la matriz de atributos de las letras.\n",
    "* Para identificar de qué se trata cada tópico, necesitamos identificar las principales 15 palabras asociadas con éste. Puede implementar la siguiente línea de código para identificar las principales palabras en un tópico:   \n",
    "```` PYTHON\n",
    "# mediante .components_ podemos extraer una matriz que entrega las distribución de palabras por cada tópico.\n",
    "for topic_id, topic_name in enumerate(fit_best_lda.components_):\n",
    "# para cada tópico\n",
    "    print(\"tópico: {}\".format(topic_id + 1))\n",
    "    # mediante argsort logramos ordenar los elementos por magnitud\n",
    "    # para los elementos más relevantes ordenados por argsort, buscamossu correlativo\n",
    "    # en la matriz dispersa y devolvemos el nombre.\n",
    "    # finalmente concatenamos las palabras\n",
    "    print(\" \".join([counter.get_feature_names()[i] for i in topic_name.argsort()[:-15 - 1: -1]]))\n",
    "````\n",
    "* Comente a qué tópicos está asociada cada clase inferida."
   ]
  },
  {
   "cell_type": "code",
   "execution_count": 20,
   "metadata": {},
   "outputs": [
    {
     "name": "stdout",
     "output_type": "stream",
     "text": [
      "tópico: 1\n",
      "life ll time away ve world day eyes just like heart light way feel come\n",
      "tópico: 2\n",
      "don love know oh yeah just baby got want let like ll say come gonna\n",
      "tópico: 3\n",
      "man night oh little rock got song tonight like hey gonna said home big old\n",
      "tópico: 4\n"
     ]
    },
    {
     "name": "stderr",
     "output_type": "stream",
     "text": [
      "c:\\Users\\crami\\anaconda3\\lib\\site-packages\\sklearn\\utils\\deprecation.py:87: FutureWarning: Function get_feature_names is deprecated; get_feature_names is deprecated in 1.0 and will be removed in 1.2. Please use get_feature_names_out instead.\n",
      "  warnings.warn(msg, category=FutureWarning)\n"
     ]
    },
    {
     "name": "stdout",
     "output_type": "stream",
     "text": [
      "like got shit ain don yo nigga know fuck em cause man just ya niggas\n",
      "tópico: 5\n",
      "la god die death dead blood kill war life hate soul fucking power man don\n"
     ]
    }
   ],
   "source": [
    "best_lda = LatentDirichletAllocation(n_components=5, learning_decay=0.7, n_jobs=-1, random_state=123, learning_method='online')\n",
    "fit_best_lda = best_lda.fit(df_ft)\n",
    "for topic_id, topic_name in enumerate(fit_best_lda.components_):\n",
    "    print(\"tópico: {}\".format(topic_id + 1))\n",
    "    print(\" \".join([cv.get_feature_names()[i] for i in topic_name.argsort()[:-15 - 1: -1]]))\n"
   ]
  },
  {
   "cell_type": "markdown",
   "metadata": {},
   "source": [
    ">> ### Comentarios:\n",
    "De acuerdo a las palabras representadas en cada uno de los tópicos, nos aventuramos en etiquetar cada uno de éstos con los siguientes géneros musicales:\n",
    "\n",
    "- Tópico 1: Rock/Proggresive\n",
    "- Tópico 2: Pop\n",
    "- Tópico 3: Pop/Rock\n",
    "- Tópico 4: Hip-Hop, R&B\n",
    "- Tópico 5: Metal"
   ]
  },
  {
   "cell_type": "markdown",
   "metadata": {},
   "source": [
    "### Ejercicio 5: Identificación de probabilidades\n",
    "* En base a la información generada, es posible identificar cuales van a ser los géneros más probables de ocurrir para un artista.\n",
    "* Para ello necesitamos guardar la probabilidad de cada canción en nuestra base de datos original. Podemos implementar esto de la siguiente manera:  \n",
    "```` PYTHON\n",
    "# generamos una transformación de los datos a distribución de tópico por palabra en el documento\n",
    "fit_best_lda = best_lda.transform(transformed_feats)\n",
    "# esta transformación la podemos coaccionar a un dataframe de la siguiente manera\n",
    "topics_for_each_doc = pd.DataFrame(\n",
    "# pasamos esta matriz y la redondeamos en 3 decimales\n",
    "np.round(fit_best_lda, 3),\n",
    "# agregamos un índice\n",
    "index=df_lyrics.index\n",
    ")\n",
    "#agregamos identificadores de columna\n",
    "topics_for_each_doc.columns = list(map(lambda x: \"T: {}\".format(x),\n",
    "range(1, best_lda.n_components + 1)))\n",
    "# concatenamos las probabilidades de tópico por documento a nuestra matriz original\n",
    "concatenated_df = pd.concat([df_lyrics, topics_for_each_doc], axis=1)\n",
    "# argmax en la matriz de tópicos\n",
    "concatenated_df['highest_topic'] = np.argmax(topics_for_each_doc.values, axis=1) + 1\n",
    "\n",
    "````\n",
    "* Genere una matriz de correlaciones entre la probabilidad de tópicos inferidos. Comente brevemente cuales son las principales asociaciones existentes.\n",
    "* Con esta nueva base de datos, identifique las probabilidades de pertenencia para un artista específico.\n",
    "* Grafique la distribución de las probabilidades para algún artista en específico"
   ]
  },
  {
   "cell_type": "code",
   "execution_count": 11,
   "metadata": {},
   "outputs": [],
   "source": [
    "fit_best_lda = best_lda.transform(df_ft)\n",
    "\n",
    "topics_for_each_doc = pd.DataFrame(np.round(fit_best_lda, 3), index=df.index)\n",
    "\n",
    "topics_for_each_doc.columns = list(map(lambda x: \"T: {}\".format(x), range(1, best_lda.n_components + 1)))\n",
    "\n",
    "concatenated_df = pd.concat([df, topics_for_each_doc], axis=1)\n",
    "\n",
    "concatenated_df['highest_topic'] = np.argmax(topics_for_each_doc.values, axis=1) + 1"
   ]
  },
  {
   "cell_type": "code",
   "execution_count": 168,
   "metadata": {},
   "outputs": [
    {
     "data": {
      "text/html": [
       "<div>\n",
       "<style scoped>\n",
       "    .dataframe tbody tr th:only-of-type {\n",
       "        vertical-align: middle;\n",
       "    }\n",
       "\n",
       "    .dataframe tbody tr th {\n",
       "        vertical-align: top;\n",
       "    }\n",
       "\n",
       "    .dataframe thead th {\n",
       "        text-align: right;\n",
       "    }\n",
       "</style>\n",
       "<table border=\"1\" class=\"dataframe\">\n",
       "  <thead>\n",
       "    <tr style=\"text-align: right;\">\n",
       "      <th></th>\n",
       "      <th>T: 1</th>\n",
       "      <th>T: 2</th>\n",
       "      <th>T: 3</th>\n",
       "      <th>T: 4</th>\n",
       "      <th>T: 5</th>\n",
       "      <th>highest_topic</th>\n",
       "    </tr>\n",
       "  </thead>\n",
       "  <tbody>\n",
       "    <tr>\n",
       "      <th>T: 1</th>\n",
       "      <td>1.000000</td>\n",
       "      <td>-0.329546</td>\n",
       "      <td>-0.221117</td>\n",
       "      <td>-0.450395</td>\n",
       "      <td>0.021488</td>\n",
       "      <td>-0.623758</td>\n",
       "    </tr>\n",
       "    <tr>\n",
       "      <th>T: 2</th>\n",
       "      <td>-0.329546</td>\n",
       "      <td>1.000000</td>\n",
       "      <td>-0.184518</td>\n",
       "      <td>-0.343878</td>\n",
       "      <td>-0.292046</td>\n",
       "      <td>-0.272526</td>\n",
       "    </tr>\n",
       "    <tr>\n",
       "      <th>T: 3</th>\n",
       "      <td>-0.221117</td>\n",
       "      <td>-0.184518</td>\n",
       "      <td>1.000000</td>\n",
       "      <td>-0.236344</td>\n",
       "      <td>-0.194231</td>\n",
       "      <td>0.017996</td>\n",
       "    </tr>\n",
       "    <tr>\n",
       "      <th>T: 4</th>\n",
       "      <td>-0.450395</td>\n",
       "      <td>-0.343878</td>\n",
       "      <td>-0.236344</td>\n",
       "      <td>1.000000</td>\n",
       "      <td>-0.171078</td>\n",
       "      <td>0.618167</td>\n",
       "    </tr>\n",
       "    <tr>\n",
       "      <th>T: 5</th>\n",
       "      <td>0.021488</td>\n",
       "      <td>-0.292046</td>\n",
       "      <td>-0.194231</td>\n",
       "      <td>-0.171078</td>\n",
       "      <td>1.000000</td>\n",
       "      <td>0.338443</td>\n",
       "    </tr>\n",
       "    <tr>\n",
       "      <th>highest_topic</th>\n",
       "      <td>-0.623758</td>\n",
       "      <td>-0.272526</td>\n",
       "      <td>0.017996</td>\n",
       "      <td>0.618167</td>\n",
       "      <td>0.338443</td>\n",
       "      <td>1.000000</td>\n",
       "    </tr>\n",
       "  </tbody>\n",
       "</table>\n",
       "</div>"
      ],
      "text/plain": [
       "                   T: 1      T: 2      T: 3      T: 4      T: 5  highest_topic\n",
       "T: 1           1.000000 -0.329546 -0.221117 -0.450395  0.021488      -0.623758\n",
       "T: 2          -0.329546  1.000000 -0.184518 -0.343878 -0.292046      -0.272526\n",
       "T: 3          -0.221117 -0.184518  1.000000 -0.236344 -0.194231       0.017996\n",
       "T: 4          -0.450395 -0.343878 -0.236344  1.000000 -0.171078       0.618167\n",
       "T: 5           0.021488 -0.292046 -0.194231 -0.171078  1.000000       0.338443\n",
       "highest_topic -0.623758 -0.272526  0.017996  0.618167  0.338443       1.000000"
      ]
     },
     "execution_count": 168,
     "metadata": {},
     "output_type": "execute_result"
    }
   ],
   "source": [
    "concatenated_df.corr()"
   ]
  },
  {
   "cell_type": "code",
   "execution_count": 169,
   "metadata": {},
   "outputs": [
    {
     "data": {
      "text/html": [
       "<div>\n",
       "<style scoped>\n",
       "    .dataframe tbody tr th:only-of-type {\n",
       "        vertical-align: middle;\n",
       "    }\n",
       "\n",
       "    .dataframe tbody tr th {\n",
       "        vertical-align: top;\n",
       "    }\n",
       "\n",
       "    .dataframe thead th {\n",
       "        text-align: right;\n",
       "    }\n",
       "</style>\n",
       "<table border=\"1\" class=\"dataframe\">\n",
       "  <thead>\n",
       "    <tr style=\"text-align: right;\">\n",
       "      <th></th>\n",
       "      <th>T: 1</th>\n",
       "      <th>T: 2</th>\n",
       "      <th>T: 3</th>\n",
       "      <th>T: 4</th>\n",
       "      <th>T: 5</th>\n",
       "      <th>highest_topic</th>\n",
       "    </tr>\n",
       "  </thead>\n",
       "  <tbody>\n",
       "    <tr>\n",
       "      <th>T: 1</th>\n",
       "      <td>1.000000</td>\n",
       "      <td>-0.206358</td>\n",
       "      <td>0.031816</td>\n",
       "      <td>-0.084349</td>\n",
       "      <td>-0.885360</td>\n",
       "      <td>-0.727899</td>\n",
       "    </tr>\n",
       "    <tr>\n",
       "      <th>T: 2</th>\n",
       "      <td>-0.206358</td>\n",
       "      <td>1.000000</td>\n",
       "      <td>0.356188</td>\n",
       "      <td>0.321713</td>\n",
       "      <td>-0.184169</td>\n",
       "      <td>-0.057124</td>\n",
       "    </tr>\n",
       "    <tr>\n",
       "      <th>T: 3</th>\n",
       "      <td>0.031816</td>\n",
       "      <td>0.356188</td>\n",
       "      <td>1.000000</td>\n",
       "      <td>0.392705</td>\n",
       "      <td>-0.358112</td>\n",
       "      <td>-0.117258</td>\n",
       "    </tr>\n",
       "    <tr>\n",
       "      <th>T: 4</th>\n",
       "      <td>-0.084349</td>\n",
       "      <td>0.321713</td>\n",
       "      <td>0.392705</td>\n",
       "      <td>1.000000</td>\n",
       "      <td>-0.267539</td>\n",
       "      <td>-0.046103</td>\n",
       "    </tr>\n",
       "    <tr>\n",
       "      <th>T: 5</th>\n",
       "      <td>-0.885360</td>\n",
       "      <td>-0.184169</td>\n",
       "      <td>-0.358112</td>\n",
       "      <td>-0.267539</td>\n",
       "      <td>1.000000</td>\n",
       "      <td>0.734348</td>\n",
       "    </tr>\n",
       "    <tr>\n",
       "      <th>highest_topic</th>\n",
       "      <td>-0.727899</td>\n",
       "      <td>-0.057124</td>\n",
       "      <td>-0.117258</td>\n",
       "      <td>-0.046103</td>\n",
       "      <td>0.734348</td>\n",
       "      <td>1.000000</td>\n",
       "    </tr>\n",
       "  </tbody>\n",
       "</table>\n",
       "</div>"
      ],
      "text/plain": [
       "                   T: 1      T: 2      T: 3      T: 4      T: 5  highest_topic\n",
       "T: 1           1.000000 -0.206358  0.031816 -0.084349 -0.885360      -0.727899\n",
       "T: 2          -0.206358  1.000000  0.356188  0.321713 -0.184169      -0.057124\n",
       "T: 3           0.031816  0.356188  1.000000  0.392705 -0.358112      -0.117258\n",
       "T: 4          -0.084349  0.321713  0.392705  1.000000 -0.267539      -0.046103\n",
       "T: 5          -0.885360 -0.184169 -0.358112 -0.267539  1.000000       0.734348\n",
       "highest_topic -0.727899 -0.057124 -0.117258 -0.046103  0.734348       1.000000"
      ]
     },
     "execution_count": 169,
     "metadata": {},
     "output_type": "execute_result"
    }
   ],
   "source": [
    "concatenated_df[concatenated_df['artist']=='Cannibal Corpse'].corr()"
   ]
  },
  {
   "cell_type": "markdown",
   "metadata": {},
   "source": [
    ">> ### Comentarios:\n",
    "De acuerdo a la información entregadas en la matriz de correlación para el general de nuestro DataSet:\n",
    "* En el caso de una correlación muy marcada, ya sea positiva o negativa, nos demuestra que es posible que esa letra este muy bien definida a un cierto tópico con respecto a otro. Para el caso una correlación cercana a 0, nos puede dar indicios de que composición de esa canción no tiene relación alguna frente a las otras caracteristicas que definen a los otros tópicos. "
   ]
  },
  {
   "cell_type": "code",
   "execution_count": 30,
   "metadata": {},
   "outputs": [
    {
     "data": {
      "text/html": [
       "<div>\n",
       "<style scoped>\n",
       "    .dataframe tbody tr th:only-of-type {\n",
       "        vertical-align: middle;\n",
       "    }\n",
       "\n",
       "    .dataframe tbody tr th {\n",
       "        vertical-align: top;\n",
       "    }\n",
       "\n",
       "    .dataframe thead th {\n",
       "        text-align: right;\n",
       "    }\n",
       "</style>\n",
       "<table border=\"1\" class=\"dataframe\">\n",
       "  <thead>\n",
       "    <tr style=\"text-align: right;\">\n",
       "      <th></th>\n",
       "      <th>artits</th>\n",
       "      <th>genre</th>\n",
       "      <th>song</th>\n",
       "      <th>lyrics</th>\n",
       "      <th>T: 1</th>\n",
       "      <th>T: 2</th>\n",
       "      <th>T: 3</th>\n",
       "      <th>T: 4</th>\n",
       "      <th>T: 5</th>\n",
       "      <th>highest_topic</th>\n",
       "    </tr>\n",
       "  </thead>\n",
       "  <tbody>\n",
       "    <tr>\n",
       "      <th>0</th>\n",
       "      <td>Tool</td>\n",
       "      <td>metal</td>\n",
       "      <td>Sweat</td>\n",
       "      <td>I'm sweating and breathing \\n And staring and ...</td>\n",
       "      <td>0.986</td>\n",
       "      <td>0.003</td>\n",
       "      <td>0.003</td>\n",
       "      <td>0.003</td>\n",
       "      <td>0.003</td>\n",
       "      <td>1</td>\n",
       "    </tr>\n",
       "    <tr>\n",
       "      <th>1</th>\n",
       "      <td>Tool</td>\n",
       "      <td>metal</td>\n",
       "      <td>Hush</td>\n",
       "      <td>Fuck you \\n I can't say what I want to \\n Even...</td>\n",
       "      <td>0.003</td>\n",
       "      <td>0.667</td>\n",
       "      <td>0.003</td>\n",
       "      <td>0.324</td>\n",
       "      <td>0.003</td>\n",
       "      <td>2</td>\n",
       "    </tr>\n",
       "    <tr>\n",
       "      <th>2</th>\n",
       "      <td>Tool</td>\n",
       "      <td>metal</td>\n",
       "      <td>Part Of Me</td>\n",
       "      <td>I know you well \\n You are a part of me \\n I k...</td>\n",
       "      <td>0.003</td>\n",
       "      <td>0.953</td>\n",
       "      <td>0.003</td>\n",
       "      <td>0.003</td>\n",
       "      <td>0.037</td>\n",
       "      <td>2</td>\n",
       "    </tr>\n",
       "    <tr>\n",
       "      <th>3</th>\n",
       "      <td>Tool</td>\n",
       "      <td>metal</td>\n",
       "      <td>Cold And Ugly</td>\n",
       "      <td>\"Throw that Bob Marley wanna-be motherfucker o...</td>\n",
       "      <td>0.771</td>\n",
       "      <td>0.135</td>\n",
       "      <td>0.003</td>\n",
       "      <td>0.089</td>\n",
       "      <td>0.003</td>\n",
       "      <td>1</td>\n",
       "    </tr>\n",
       "    <tr>\n",
       "      <th>4</th>\n",
       "      <td>Tool</td>\n",
       "      <td>metal</td>\n",
       "      <td>Jerk-Off</td>\n",
       "      <td>Someone told me once that \\n There's a right a...</td>\n",
       "      <td>0.003</td>\n",
       "      <td>0.598</td>\n",
       "      <td>0.003</td>\n",
       "      <td>0.003</td>\n",
       "      <td>0.391</td>\n",
       "      <td>2</td>\n",
       "    </tr>\n",
       "    <tr>\n",
       "      <th>...</th>\n",
       "      <td>...</td>\n",
       "      <td>...</td>\n",
       "      <td>...</td>\n",
       "      <td>...</td>\n",
       "      <td>...</td>\n",
       "      <td>...</td>\n",
       "      <td>...</td>\n",
       "      <td>...</td>\n",
       "      <td>...</td>\n",
       "      <td>...</td>\n",
       "    </tr>\n",
       "    <tr>\n",
       "      <th>57</th>\n",
       "      <td>Tool</td>\n",
       "      <td>metal</td>\n",
       "      <td>Stranglehold</td>\n",
       "      <td>Here I come again now, baby \\n Like a dog in h...</td>\n",
       "      <td>0.079</td>\n",
       "      <td>0.688</td>\n",
       "      <td>0.002</td>\n",
       "      <td>0.229</td>\n",
       "      <td>0.002</td>\n",
       "      <td>2</td>\n",
       "    </tr>\n",
       "    <tr>\n",
       "      <th>58</th>\n",
       "      <td>Tool</td>\n",
       "      <td>metal</td>\n",
       "      <td>Lateralus/Fibonacci</td>\n",
       "      <td>| \\n Syllable count for each line (see \\n Inte...</td>\n",
       "      <td>0.803</td>\n",
       "      <td>0.002</td>\n",
       "      <td>0.139</td>\n",
       "      <td>0.002</td>\n",
       "      <td>0.055</td>\n",
       "      <td>1</td>\n",
       "    </tr>\n",
       "    <tr>\n",
       "      <th>59</th>\n",
       "      <td>Tool</td>\n",
       "      <td>metal</td>\n",
       "      <td>Spasm</td>\n",
       "      <td>My, out of my mind \\n My life, I \\n My mind, o...</td>\n",
       "      <td>0.296</td>\n",
       "      <td>0.004</td>\n",
       "      <td>0.004</td>\n",
       "      <td>0.004</td>\n",
       "      <td>0.693</td>\n",
       "      <td>5</td>\n",
       "    </tr>\n",
       "    <tr>\n",
       "      <th>60</th>\n",
       "      <td>Tool</td>\n",
       "      <td>metal</td>\n",
       "      <td>Ticks And Leeches</td>\n",
       "      <td>Suck and suck. Suckin up all you can suckin up...</td>\n",
       "      <td>0.003</td>\n",
       "      <td>0.003</td>\n",
       "      <td>0.144</td>\n",
       "      <td>0.129</td>\n",
       "      <td>0.721</td>\n",
       "      <td>5</td>\n",
       "    </tr>\n",
       "    <tr>\n",
       "      <th>61</th>\n",
       "      <td>Tool</td>\n",
       "      <td>metal</td>\n",
       "      <td>Unreleased</td>\n",
       "      <td>(Maynard:) \\n Living on the street shores \\n H...</td>\n",
       "      <td>0.075</td>\n",
       "      <td>0.364</td>\n",
       "      <td>0.002</td>\n",
       "      <td>0.002</td>\n",
       "      <td>0.557</td>\n",
       "      <td>5</td>\n",
       "    </tr>\n",
       "  </tbody>\n",
       "</table>\n",
       "<p>62 rows × 10 columns</p>\n",
       "</div>"
      ],
      "text/plain": [
       "   artits  genre                 song  \\\n",
       "0    Tool  metal                Sweat   \n",
       "1    Tool  metal                 Hush   \n",
       "2    Tool  metal           Part Of Me   \n",
       "3    Tool  metal        Cold And Ugly   \n",
       "4    Tool  metal             Jerk-Off   \n",
       "..    ...    ...                  ...   \n",
       "57   Tool  metal         Stranglehold   \n",
       "58   Tool  metal  Lateralus/Fibonacci   \n",
       "59   Tool  metal                Spasm   \n",
       "60   Tool  metal    Ticks And Leeches   \n",
       "61   Tool  metal           Unreleased   \n",
       "\n",
       "                                               lyrics   T: 1   T: 2   T: 3  \\\n",
       "0   I'm sweating and breathing \\n And staring and ...  0.986  0.003  0.003   \n",
       "1   Fuck you \\n I can't say what I want to \\n Even...  0.003  0.667  0.003   \n",
       "2   I know you well \\n You are a part of me \\n I k...  0.003  0.953  0.003   \n",
       "3   \"Throw that Bob Marley wanna-be motherfucker o...  0.771  0.135  0.003   \n",
       "4   Someone told me once that \\n There's a right a...  0.003  0.598  0.003   \n",
       "..                                                ...    ...    ...    ...   \n",
       "57  Here I come again now, baby \\n Like a dog in h...  0.079  0.688  0.002   \n",
       "58  | \\n Syllable count for each line (see \\n Inte...  0.803  0.002  0.139   \n",
       "59  My, out of my mind \\n My life, I \\n My mind, o...  0.296  0.004  0.004   \n",
       "60  Suck and suck. Suckin up all you can suckin up...  0.003  0.003  0.144   \n",
       "61  (Maynard:) \\n Living on the street shores \\n H...  0.075  0.364  0.002   \n",
       "\n",
       "     T: 4   T: 5  highest_topic  \n",
       "0   0.003  0.003              1  \n",
       "1   0.324  0.003              2  \n",
       "2   0.003  0.037              2  \n",
       "3   0.089  0.003              1  \n",
       "4   0.003  0.391              2  \n",
       "..    ...    ...            ...  \n",
       "57  0.229  0.002              2  \n",
       "58  0.002  0.055              1  \n",
       "59  0.004  0.693              5  \n",
       "60  0.129  0.721              5  \n",
       "61  0.002  0.557              5  \n",
       "\n",
       "[62 rows x 10 columns]"
      ]
     },
     "execution_count": 30,
     "metadata": {},
     "output_type": "execute_result"
    }
   ],
   "source": [
    "concatenated_df[concatenated_df['artist']=='Tool']"
   ]
  },
  {
   "cell_type": "code",
   "execution_count": 149,
   "metadata": {},
   "outputs": [],
   "source": [
    "bands =['Dr. Dre', 'Opeth','Rage Against The Machine', 'Britney Spears', 'Cannibal Corpse']"
   ]
  },
  {
   "cell_type": "code",
   "execution_count": 150,
   "metadata": {},
   "outputs": [
    {
     "data": {
      "image/png": "[encoded data removed]",
      "text/plain": [
       "<Figure size 432x288 with 1 Axes>"
      ]
     },
     "metadata": {},
     "output_type": "display_data"
    },
    {
     "data": {
      "image/png": "[encoded data removed]",
      "text/plain": [
       "<Figure size 432x288 with 1 Axes>"
      ]
     },
     "metadata": {},
     "output_type": "display_data"
    },
    {
     "data": {
      "image/png": "[encoded data removed]",
      "text/plain": [
       "<Figure size 432x288 with 1 Axes>"
      ]
     },
     "metadata": {},
     "output_type": "display_data"
    },
    {
     "data": {
      "image/png": "[encoded data removed]",
      "text/plain": [
       "<Figure size 432x288 with 1 Axes>"
      ]
     },
     "metadata": {},
     "output_type": "display_data"
    },
    {
     "data": {
      "image/png": "[encoded data removed]",
      "text/plain": [
       "<Figure size 432x288 with 1 Axes>"
      ]
     },
     "metadata": {},
     "output_type": "display_data"
    }
   ],
   "source": [
    "def graf_band(name):\n",
    "    sns.histplot(x='T: 1', data= concatenated_df[concatenated_df['artist']== name], element ='step', color=\"skyblue\", alpha = 0.2, bins=np.linspace(0,1,20), label='Rock/Progressive')\n",
    "    sns.histplot(x='T: 2', data= concatenated_df[concatenated_df['artist']== name], element ='step', color=\"red\", alpha = 0.2, bins=np.linspace(0,1,20), label='Pop')\n",
    "    sns.histplot(x='T: 3', data= concatenated_df[concatenated_df['artist']== name], element ='step', color=\"orange\", alpha = 0.2, bins=np.linspace(0,1,20), label='Rock/Pop')\n",
    "    sns.histplot(x='T: 4', data= concatenated_df[concatenated_df['artist']== name], element ='step', color=\"lime\", alpha = 0.2, bins=np.linspace(0,1,20), label='Hip-Hop')\n",
    "    sns.histplot(x='T: 5', data= concatenated_df[concatenated_df['artist']== name], element ='step', color=\"grey\", alpha = 0.2, bins=np.linspace(0,1,20),label='Metal')\n",
    "    plt.title(name)\n",
    "    plt.legend()\n",
    "    plt.show()\n",
    "\n",
    "for band in bands:\n",
    "    graf_band(band)"
   ]
  },
  {
   "cell_type": "markdown",
   "metadata": {},
   "source": [
    ">> ### Comentarios:\n",
    "* Este tipo de gráficos nos sirve para identidicar mas claramente el estilo musical de una banda en cuestión ya que el modelo no entrega una sola opción, sino más bien nos expresa una probabilidad de cada tópico para cada canción. Dado que cada banda tiene un conjunto de canciones asociadas, cada una de éstas tendra una distribución asociada a cada tópico.\n",
    "* En la mayoría de las bandas analizadas en éste desafío es relativamente clara la predominancia de uno o más tópicos predominantes dentro de las letras de sus canciones.\n",
    "* La evaluación de ésta asignación a cada tópico es mirado de manera general o global. Si bien, puede existir una u otra canción con letras que se desmarcan de la identidad principal de la banda, existe una concordancia en el general de sus letras las cuales permiten atribibuirle un estilo o género musical.\n",
    "* No obtante, éste modelo carece de robustez al momento de analizar bandas en las cuales sus letras son un tanto difusas respecto a orientarse en un estilo en particular. Un ejemplo de ésto se puede apreciar en el gráfico de más abajo, en donde a  ***The Clash*** no es posible asociale un tópico predominante.\n"
   ]
  },
  {
   "cell_type": "code",
   "execution_count": 152,
   "metadata": {},
   "outputs": [
    {
     "data": {
      "image/png": "[encoded data removed]",
      "text/plain": [
       "<Figure size 432x288 with 1 Axes>"
      ]
     },
     "metadata": {},
     "output_type": "display_data"
    }
   ],
   "source": [
    "graf_band('The Clash')"
   ]
  }
 ],
 "metadata": {
  "kernelspec": {
   "display_name": "Python 3.10.4 ('dl')",
   "language": "python",
   "name": "python3"
  },
  "language_info": {
   "codemirror_mode": {
    "name": "ipython",
    "version": 3
   },
   "file_extension": ".py",
   "mimetype": "text/x-python",
   "name": "python",
   "nbconvert_exporter": "python",
   "pygments_lexer": "ipython3",
   "version": "3.10.4"
  },
  "orig_nbformat": 4,
  "vscode": {
   "interpreter": {
    "hash": "c9ccd8639d7ac6d8ae46f08631d02de0d1c9f4a08850208985333be71082afd9"
   }
  }
 },
 "nbformat": 4,
 "nbformat_minor": 2
}
