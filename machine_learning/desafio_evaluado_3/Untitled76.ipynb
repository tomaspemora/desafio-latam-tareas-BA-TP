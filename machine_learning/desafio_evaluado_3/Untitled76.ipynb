{
  "cells": [
    {
      "cell_type": "code",
      "execution_count": 6,
      "metadata": {
        "id": "QvF9o20BXCU8"
      },
      "outputs": [
        {
          "name": "stderr",
          "output_type": "stream",
          "text": [
            "\"jar\" no se reconoce como un comando interno o externo,\n",
            "programa o archivo por lotes ejecutable.\n"
          ]
        }
      ],
      "source": [
        "!jar xvf Archivo.zip\n"
      ]
    },
    {
      "cell_type": "code",
      "execution_count": 7,
      "metadata": {
        "id": "gBMz_Qhqc13q"
      },
      "outputs": [],
      "source": [
        "import warnings\n",
        "# warnings.filterwarnings{'ignore'}"
      ]
    },
    {
      "cell_type": "code",
      "execution_count": 8,
      "metadata": {
        "id": "jJ68_KpoekgH"
      },
      "outputs": [],
      "source": [
        "import os\n",
        "import glob\n",
        "import pandas as pd\n",
        "file_list=glob.glob(os.getcwd()+ '/dump/*.csv')\n",
        "append_csv=[]\n",
        "for f in file_list :\n",
        "  append_csv.append(pd.read_csv(f,index_col=None,header=0).drop(columns='Unnamed: 0'))"
      ]
    },
    {
      "cell_type": "code",
      "execution_count": 9,
      "metadata": {
        "id": "RVAIhjCwgWtg"
      },
      "outputs": [],
      "source": [
        "df_lyrics = pd.concat(append_csv)"
      ]
    },
    {
      "cell_type": "code",
      "execution_count": 10,
      "metadata": {
        "colab": {
          "base_uri": "https://localhost:8080/",
          "height": 419
        },
        "id": "6V0CNsz_gm5B",
        "outputId": "81718954-6681-489e-a933-a424582b4562"
      },
      "outputs": [
        {
          "data": {
            "text/html": [
              "<div>\n",
              "<style scoped>\n",
              "    .dataframe tbody tr th:only-of-type {\n",
              "        vertical-align: middle;\n",
              "    }\n",
              "\n",
              "    .dataframe tbody tr th {\n",
              "        vertical-align: top;\n",
              "    }\n",
              "\n",
              "    .dataframe thead th {\n",
              "        text-align: right;\n",
              "    }\n",
              "</style>\n",
              "<table border=\"1\" class=\"dataframe\">\n",
              "  <thead>\n",
              "    <tr style=\"text-align: right;\">\n",
              "      <th></th>\n",
              "      <th>artist</th>\n",
              "      <th>genre</th>\n",
              "      <th>song</th>\n",
              "      <th>lyrics</th>\n",
              "    </tr>\n",
              "  </thead>\n",
              "  <tbody>\n",
              "    <tr>\n",
              "      <th>0</th>\n",
              "      <td>Anthrax</td>\n",
              "      <td>metal</td>\n",
              "      <td>Deathrider</td>\n",
              "      <td>Riding hard, high in the saddle \\n Winged stee...</td>\n",
              "    </tr>\n",
              "    <tr>\n",
              "      <th>1</th>\n",
              "      <td>Anthrax</td>\n",
              "      <td>metal</td>\n",
              "      <td>Metal Thrashing Mad</td>\n",
              "      <td>Racing down the road \\n In a street machine of...</td>\n",
              "    </tr>\n",
              "    <tr>\n",
              "      <th>2</th>\n",
              "      <td>Anthrax</td>\n",
              "      <td>metal</td>\n",
              "      <td>I'm Eighteen</td>\n",
              "      <td>Lines form on my face and hands \\n Lines form ...</td>\n",
              "    </tr>\n",
              "    <tr>\n",
              "      <th>3</th>\n",
              "      <td>Anthrax</td>\n",
              "      <td>metal</td>\n",
              "      <td>Panic</td>\n",
              "      <td>Move it to the front \\n Reaching for the light...</td>\n",
              "    </tr>\n",
              "    <tr>\n",
              "      <th>4</th>\n",
              "      <td>Anthrax</td>\n",
              "      <td>metal</td>\n",
              "      <td>Subjugator</td>\n",
              "      <td>Out in the streets \\n We're fighting tonight \\...</td>\n",
              "    </tr>\n",
              "    <tr>\n",
              "      <th>...</th>\n",
              "      <td>...</td>\n",
              "      <td>...</td>\n",
              "      <td>...</td>\n",
              "      <td>...</td>\n",
              "    </tr>\n",
              "    <tr>\n",
              "      <th>246</th>\n",
              "      <td>Weezer</td>\n",
              "      <td>rock</td>\n",
              "      <td>Thief, You've Taken All That Was Me</td>\n",
              "      <td>Thief, of silent dreams \\n Of golden scenes \\n...</td>\n",
              "    </tr>\n",
              "    <tr>\n",
              "      <th>247</th>\n",
              "      <td>Weezer</td>\n",
              "      <td>rock</td>\n",
              "      <td>We Are All In Love</td>\n",
              "      <td>When your out with your friends \\n In your new...</td>\n",
              "    </tr>\n",
              "    <tr>\n",
              "      <th>248</th>\n",
              "      <td>Weezer</td>\n",
              "      <td>rock</td>\n",
              "      <td>We Go Together</td>\n",
              "      <td>We go together \\n And that's to stay \\n And in...</td>\n",
              "    </tr>\n",
              "    <tr>\n",
              "      <th>249</th>\n",
              "      <td>Weezer</td>\n",
              "      <td>rock</td>\n",
              "      <td>What Is This I Find?</td>\n",
              "      <td>[Jonas]: \\n What is this I find? \\n [Wuan]: \\n...</td>\n",
              "    </tr>\n",
              "    <tr>\n",
              "      <th>250</th>\n",
              "      <td>Weezer</td>\n",
              "      <td>rock</td>\n",
              "      <td>Zep Jamb</td>\n",
              "      <td>Alright \\n Say baby \\n Love me \\n Lay your mon...</td>\n",
              "    </tr>\n",
              "  </tbody>\n",
              "</table>\n",
              "<p>9489 rows × 4 columns</p>\n",
              "</div>"
            ],
            "text/plain": [
              "      artist  genre                                 song  \\\n",
              "0    Anthrax  metal                           Deathrider   \n",
              "1    Anthrax  metal                  Metal Thrashing Mad   \n",
              "2    Anthrax  metal                         I'm Eighteen   \n",
              "3    Anthrax  metal                                Panic   \n",
              "4    Anthrax  metal                           Subjugator   \n",
              "..       ...    ...                                  ...   \n",
              "246   Weezer   rock  Thief, You've Taken All That Was Me   \n",
              "247   Weezer   rock                   We Are All In Love   \n",
              "248   Weezer   rock                       We Go Together   \n",
              "249   Weezer   rock                 What Is This I Find?   \n",
              "250   Weezer   rock                             Zep Jamb   \n",
              "\n",
              "                                                lyrics  \n",
              "0    Riding hard, high in the saddle \\n Winged stee...  \n",
              "1    Racing down the road \\n In a street machine of...  \n",
              "2    Lines form on my face and hands \\n Lines form ...  \n",
              "3    Move it to the front \\n Reaching for the light...  \n",
              "4    Out in the streets \\n We're fighting tonight \\...  \n",
              "..                                                 ...  \n",
              "246  Thief, of silent dreams \\n Of golden scenes \\n...  \n",
              "247  When your out with your friends \\n In your new...  \n",
              "248  We go together \\n And that's to stay \\n And in...  \n",
              "249  [Jonas]: \\n What is this I find? \\n [Wuan]: \\n...  \n",
              "250  Alright \\n Say baby \\n Love me \\n Lay your mon...  \n",
              "\n",
              "[9489 rows x 4 columns]"
            ]
          },
          "execution_count": 10,
          "metadata": {},
          "output_type": "execute_result"
        }
      ],
      "source": [
        "df_lyrics.columns=['artist','genre','song','lyrics']\n",
        "df_lyrics"
      ]
    },
    {
      "cell_type": "code",
      "execution_count": 11,
      "metadata": {
        "id": "UCg2WOuEhX6i"
      },
      "outputs": [],
      "source": [
        "# 2\n",
        "from sklearn.feature_extraction.text import CountVectorizer\n",
        "counter=CountVectorizer(stop_words='english',max_df=.8,min_df=0.2,max_features=5000)\n",
        "transformed_feats=counter.fit_transform(df_lyrics['lyrics'].values)"
      ]
    },
    {
      "cell_type": "code",
      "execution_count": 12,
      "metadata": {
        "id": "JhVnomJXjHhU"
      },
      "outputs": [],
      "source": [
        "#3\n",
        "from sklearn.decomposition import LatentDirichletAllocation\n"
      ]
    },
    {
      "cell_type": "code",
      "execution_count": 13,
      "metadata": {
        "id": "Y1jFyDdZkIbE"
      },
      "outputs": [],
      "source": [
        "\n",
        "model=LatentDirichletAllocation(learning_method='online',n_components=5,learning_decay=0.7)\n"
      ]
    },
    {
      "cell_type": "code",
      "execution_count": 14,
      "metadata": {
        "colab": {
          "base_uri": "https://localhost:8080/"
        },
        "id": "7NtNz6-JlRLB",
        "outputId": "f4e01353-ca1d-43d7-e68f-845e685e0fde"
      },
      "outputs": [
        {
          "data": {
            "text/html": [
              "<style>#sk-container-id-1 {color: black;background-color: white;}#sk-container-id-1 pre{padding: 0;}#sk-container-id-1 div.sk-toggleable {background-color: white;}#sk-container-id-1 label.sk-toggleable__label {cursor: pointer;display: block;width: 100%;margin-bottom: 0;padding: 0.3em;box-sizing: border-box;text-align: center;}#sk-container-id-1 label.sk-toggleable__label-arrow:before {content: \"▸\";float: left;margin-right: 0.25em;color: #696969;}#sk-container-id-1 label.sk-toggleable__label-arrow:hover:before {color: black;}#sk-container-id-1 div.sk-estimator:hover label.sk-toggleable__label-arrow:before {color: black;}#sk-container-id-1 div.sk-toggleable__content {max-height: 0;max-width: 0;overflow: hidden;text-align: left;background-color: #f0f8ff;}#sk-container-id-1 div.sk-toggleable__content pre {margin: 0.2em;color: black;border-radius: 0.25em;background-color: #f0f8ff;}#sk-container-id-1 input.sk-toggleable__control:checked~div.sk-toggleable__content {max-height: 200px;max-width: 100%;overflow: auto;}#sk-container-id-1 input.sk-toggleable__control:checked~label.sk-toggleable__label-arrow:before {content: \"▾\";}#sk-container-id-1 div.sk-estimator input.sk-toggleable__control:checked~label.sk-toggleable__label {background-color: #d4ebff;}#sk-container-id-1 div.sk-label input.sk-toggleable__control:checked~label.sk-toggleable__label {background-color: #d4ebff;}#sk-container-id-1 input.sk-hidden--visually {border: 0;clip: rect(1px 1px 1px 1px);clip: rect(1px, 1px, 1px, 1px);height: 1px;margin: -1px;overflow: hidden;padding: 0;position: absolute;width: 1px;}#sk-container-id-1 div.sk-estimator {font-family: monospace;background-color: #f0f8ff;border: 1px dotted black;border-radius: 0.25em;box-sizing: border-box;margin-bottom: 0.5em;}#sk-container-id-1 div.sk-estimator:hover {background-color: #d4ebff;}#sk-container-id-1 div.sk-parallel-item::after {content: \"\";width: 100%;border-bottom: 1px solid gray;flex-grow: 1;}#sk-container-id-1 div.sk-label:hover label.sk-toggleable__label {background-color: #d4ebff;}#sk-container-id-1 div.sk-serial::before {content: \"\";position: absolute;border-left: 1px solid gray;box-sizing: border-box;top: 0;bottom: 0;left: 50%;z-index: 0;}#sk-container-id-1 div.sk-serial {display: flex;flex-direction: column;align-items: center;background-color: white;padding-right: 0.2em;padding-left: 0.2em;position: relative;}#sk-container-id-1 div.sk-item {position: relative;z-index: 1;}#sk-container-id-1 div.sk-parallel {display: flex;align-items: stretch;justify-content: center;background-color: white;position: relative;}#sk-container-id-1 div.sk-item::before, #sk-container-id-1 div.sk-parallel-item::before {content: \"\";position: absolute;border-left: 1px solid gray;box-sizing: border-box;top: 0;bottom: 0;left: 50%;z-index: -1;}#sk-container-id-1 div.sk-parallel-item {display: flex;flex-direction: column;z-index: 1;position: relative;background-color: white;}#sk-container-id-1 div.sk-parallel-item:first-child::after {align-self: flex-end;width: 50%;}#sk-container-id-1 div.sk-parallel-item:last-child::after {align-self: flex-start;width: 50%;}#sk-container-id-1 div.sk-parallel-item:only-child::after {width: 0;}#sk-container-id-1 div.sk-dashed-wrapped {border: 1px dashed gray;margin: 0 0.4em 0.5em 0.4em;box-sizing: border-box;padding-bottom: 0.4em;background-color: white;}#sk-container-id-1 div.sk-label label {font-family: monospace;font-weight: bold;display: inline-block;line-height: 1.2em;}#sk-container-id-1 div.sk-label-container {text-align: center;}#sk-container-id-1 div.sk-container {/* jupyter's `normalize.less` sets `[hidden] { display: none; }` but bootstrap.min.css set `[hidden] { display: none !important; }` so we also need the `!important` here to be able to override the default hidden behavior on the sphinx rendered scikit-learn.org. See: https://github.com/scikit-learn/scikit-learn/issues/21755 */display: inline-block !important;position: relative;}#sk-container-id-1 div.sk-text-repr-fallback {display: none;}</style><div id=\"sk-container-id-1\" class=\"sk-top-container\"><div class=\"sk-text-repr-fallback\"><pre>LatentDirichletAllocation(learning_method=&#x27;online&#x27;, n_components=5)</pre><b>In a Jupyter environment, please rerun this cell to show the HTML representation or trust the notebook. <br />On GitHub, the HTML representation is unable to render, please try loading this page with nbviewer.org.</b></div><div class=\"sk-container\" hidden><div class=\"sk-item\"><div class=\"sk-estimator sk-toggleable\"><input class=\"sk-toggleable__control sk-hidden--visually\" id=\"sk-estimator-id-1\" type=\"checkbox\" checked><label for=\"sk-estimator-id-1\" class=\"sk-toggleable__label sk-toggleable__label-arrow\">LatentDirichletAllocation</label><div class=\"sk-toggleable__content\"><pre>LatentDirichletAllocation(learning_method=&#x27;online&#x27;, n_components=5)</pre></div></div></div></div></div>"
            ],
            "text/plain": [
              "LatentDirichletAllocation(learning_method='online', n_components=5)"
            ]
          },
          "execution_count": 14,
          "metadata": {},
          "output_type": "execute_result"
        }
      ],
      "source": [
        "model.fit(transformed_feats)"
      ]
    },
    {
      "cell_type": "code",
      "execution_count": 15,
      "metadata": {
        "colab": {
          "base_uri": "https://localhost:8080/"
        },
        "id": "VGV24txela9N",
        "outputId": "82e62b6c-f018-42c5-9bd8-a58494db1d97"
      },
      "outputs": [
        {
          "data": {
            "text/plain": [
              "24.495501198498282"
            ]
          },
          "execution_count": 15,
          "metadata": {},
          "output_type": "execute_result"
        }
      ],
      "source": [
        "model.perplexity(transformed_feats)"
      ]
    },
    {
      "cell_type": "code",
      "execution_count": null,
      "metadata": {
        "id": "c0A6WFVMm72Q"
      },
      "outputs": [],
      "source": []
    },
    {
      "cell_type": "code",
      "execution_count": 16,
      "metadata": {
        "colab": {
          "base_uri": "https://localhost:8080/"
        },
        "id": "rpdGwZzblQMg",
        "outputId": "9d627fc3-da7d-4e26-d64d-33529249b68f"
      },
      "outputs": [
        {
          "name": "stdout",
          "output_type": "stream",
          "text": [
            "tópico: 1\n",
            "love oh baby come ll know make time just want tell feel let need cause\n",
            "tópico: 2\n",
            "like got ain cause just man come don time know baby look right say ll\n",
            "tópico: 3\n",
            "ll just want life time way say feel need don know think look ve day\n",
            "tópico: 4\n",
            "yeah ve right day oh know got just way let feel look think make life\n",
            "tópico: 5\n",
            "don know let man wanna make just tell right cause come say ll time need\n"
          ]
        },
        {
          "name": "stderr",
          "output_type": "stream",
          "text": [
            "c:\\ProgramData\\Anaconda3\\envs\\dl\\lib\\site-packages\\sklearn\\utils\\deprecation.py:87: FutureWarning: Function get_feature_names is deprecated; get_feature_names is deprecated in 1.0 and will be removed in 1.2. Please use get_feature_names_out instead.\n",
            "  warnings.warn(msg, category=FutureWarning)\n"
          ]
        }
      ],
      "source": [
        "\n",
        "for topic_id, topic_name in enumerate(model.components_):\n",
        "   print(\"tópico: {}\".format(topic_id + 1))\n",
        "   print(\" \".join([counter.get_feature_names()[i] for i in\n",
        "topic_name.argsort()[:-15 - 1: -1]]))"
      ]
    },
    {
      "cell_type": "code",
      "execution_count": 17,
      "metadata": {
        "id": "q-DJwzyMn4Yn"
      },
      "outputs": [],
      "source": [
        "#5 a"
      ]
    },
    {
      "cell_type": "code",
      "execution_count": 18,
      "metadata": {
        "id": "aBp5n2-Fn8qh"
      },
      "outputs": [],
      "source": [
        "fit_lda=model.transform(transformed_feats)"
      ]
    },
    {
      "cell_type": "code",
      "execution_count": 19,
      "metadata": {
        "id": "BzegWfHwopGK"
      },
      "outputs": [],
      "source": [
        "topics=list(map(lambda x: \"topic {}\".format(x),range(1,model.n_components+1)))"
      ]
    },
    {
      "cell_type": "code",
      "execution_count": 20,
      "metadata": {
        "id": "ZGFZ_kwbpNq6"
      },
      "outputs": [],
      "source": [
        "import numpy as np"
      ]
    },
    {
      "cell_type": "code",
      "execution_count": 21,
      "metadata": {
        "id": "QoUDbMz6pW4D"
      },
      "outputs": [],
      "source": [
        "docs_topics=pd.DataFrame(np.round(fit_lda,3),columns=topics,index=df_lyrics.index)"
      ]
    },
    {
      "cell_type": "code",
      "execution_count": 22,
      "metadata": {
        "colab": {
          "base_uri": "https://localhost:8080/",
          "height": 419
        },
        "id": "14eEkwROqLfQ",
        "outputId": "a19cc921-e29e-4137-e1f3-56f09fa63efc"
      },
      "outputs": [
        {
          "data": {
            "text/html": [
              "<div>\n",
              "<style scoped>\n",
              "    .dataframe tbody tr th:only-of-type {\n",
              "        vertical-align: middle;\n",
              "    }\n",
              "\n",
              "    .dataframe tbody tr th {\n",
              "        vertical-align: top;\n",
              "    }\n",
              "\n",
              "    .dataframe thead th {\n",
              "        text-align: right;\n",
              "    }\n",
              "</style>\n",
              "<table border=\"1\" class=\"dataframe\">\n",
              "  <thead>\n",
              "    <tr style=\"text-align: right;\">\n",
              "      <th></th>\n",
              "      <th>topic 1</th>\n",
              "      <th>topic 2</th>\n",
              "      <th>topic 3</th>\n",
              "      <th>topic 4</th>\n",
              "      <th>topic 5</th>\n",
              "    </tr>\n",
              "  </thead>\n",
              "  <tbody>\n",
              "    <tr>\n",
              "      <th>0</th>\n",
              "      <td>0.050</td>\n",
              "      <td>0.357</td>\n",
              "      <td>0.493</td>\n",
              "      <td>0.050</td>\n",
              "      <td>0.051</td>\n",
              "    </tr>\n",
              "    <tr>\n",
              "      <th>1</th>\n",
              "      <td>0.020</td>\n",
              "      <td>0.537</td>\n",
              "      <td>0.142</td>\n",
              "      <td>0.281</td>\n",
              "      <td>0.020</td>\n",
              "    </tr>\n",
              "    <tr>\n",
              "      <th>2</th>\n",
              "      <td>0.121</td>\n",
              "      <td>0.570</td>\n",
              "      <td>0.088</td>\n",
              "      <td>0.075</td>\n",
              "      <td>0.147</td>\n",
              "    </tr>\n",
              "    <tr>\n",
              "      <th>3</th>\n",
              "      <td>0.303</td>\n",
              "      <td>0.050</td>\n",
              "      <td>0.277</td>\n",
              "      <td>0.320</td>\n",
              "      <td>0.050</td>\n",
              "    </tr>\n",
              "    <tr>\n",
              "      <th>4</th>\n",
              "      <td>0.020</td>\n",
              "      <td>0.466</td>\n",
              "      <td>0.474</td>\n",
              "      <td>0.020</td>\n",
              "      <td>0.020</td>\n",
              "    </tr>\n",
              "    <tr>\n",
              "      <th>...</th>\n",
              "      <td>...</td>\n",
              "      <td>...</td>\n",
              "      <td>...</td>\n",
              "      <td>...</td>\n",
              "      <td>...</td>\n",
              "    </tr>\n",
              "    <tr>\n",
              "      <th>246</th>\n",
              "      <td>0.020</td>\n",
              "      <td>0.020</td>\n",
              "      <td>0.020</td>\n",
              "      <td>0.919</td>\n",
              "      <td>0.021</td>\n",
              "    </tr>\n",
              "    <tr>\n",
              "      <th>247</th>\n",
              "      <td>0.654</td>\n",
              "      <td>0.005</td>\n",
              "      <td>0.005</td>\n",
              "      <td>0.186</td>\n",
              "      <td>0.149</td>\n",
              "    </tr>\n",
              "    <tr>\n",
              "      <th>248</th>\n",
              "      <td>0.155</td>\n",
              "      <td>0.365</td>\n",
              "      <td>0.436</td>\n",
              "      <td>0.022</td>\n",
              "      <td>0.022</td>\n",
              "    </tr>\n",
              "    <tr>\n",
              "      <th>249</th>\n",
              "      <td>0.462</td>\n",
              "      <td>0.040</td>\n",
              "      <td>0.040</td>\n",
              "      <td>0.040</td>\n",
              "      <td>0.418</td>\n",
              "    </tr>\n",
              "    <tr>\n",
              "      <th>250</th>\n",
              "      <td>0.761</td>\n",
              "      <td>0.012</td>\n",
              "      <td>0.203</td>\n",
              "      <td>0.012</td>\n",
              "      <td>0.012</td>\n",
              "    </tr>\n",
              "  </tbody>\n",
              "</table>\n",
              "<p>9489 rows × 5 columns</p>\n",
              "</div>"
            ],
            "text/plain": [
              "     topic 1  topic 2  topic 3  topic 4  topic 5\n",
              "0      0.050    0.357    0.493    0.050    0.051\n",
              "1      0.020    0.537    0.142    0.281    0.020\n",
              "2      0.121    0.570    0.088    0.075    0.147\n",
              "3      0.303    0.050    0.277    0.320    0.050\n",
              "4      0.020    0.466    0.474    0.020    0.020\n",
              "..       ...      ...      ...      ...      ...\n",
              "246    0.020    0.020    0.020    0.919    0.021\n",
              "247    0.654    0.005    0.005    0.186    0.149\n",
              "248    0.155    0.365    0.436    0.022    0.022\n",
              "249    0.462    0.040    0.040    0.040    0.418\n",
              "250    0.761    0.012    0.203    0.012    0.012\n",
              "\n",
              "[9489 rows x 5 columns]"
            ]
          },
          "execution_count": 22,
          "metadata": {},
          "output_type": "execute_result"
        }
      ],
      "source": [
        "docs_topics"
      ]
    },
    {
      "cell_type": "code",
      "execution_count": 23,
      "metadata": {
        "colab": {
          "base_uri": "https://localhost:8080/",
          "height": 419
        },
        "id": "ZBkjP0qcqRKv",
        "outputId": "829aeaf2-a84a-478e-9636-931aca6991a5"
      },
      "outputs": [
        {
          "data": {
            "text/html": [
              "<div>\n",
              "<style scoped>\n",
              "    .dataframe tbody tr th:only-of-type {\n",
              "        vertical-align: middle;\n",
              "    }\n",
              "\n",
              "    .dataframe tbody tr th {\n",
              "        vertical-align: top;\n",
              "    }\n",
              "\n",
              "    .dataframe thead th {\n",
              "        text-align: right;\n",
              "    }\n",
              "</style>\n",
              "<table border=\"1\" class=\"dataframe\">\n",
              "  <thead>\n",
              "    <tr style=\"text-align: right;\">\n",
              "      <th></th>\n",
              "      <th>artist</th>\n",
              "      <th>genre</th>\n",
              "      <th>song</th>\n",
              "      <th>lyrics</th>\n",
              "    </tr>\n",
              "  </thead>\n",
              "  <tbody>\n",
              "    <tr>\n",
              "      <th>0</th>\n",
              "      <td>Anthrax</td>\n",
              "      <td>metal</td>\n",
              "      <td>Deathrider</td>\n",
              "      <td>Riding hard, high in the saddle \\n Winged stee...</td>\n",
              "    </tr>\n",
              "    <tr>\n",
              "      <th>1</th>\n",
              "      <td>Anthrax</td>\n",
              "      <td>metal</td>\n",
              "      <td>Metal Thrashing Mad</td>\n",
              "      <td>Racing down the road \\n In a street machine of...</td>\n",
              "    </tr>\n",
              "    <tr>\n",
              "      <th>2</th>\n",
              "      <td>Anthrax</td>\n",
              "      <td>metal</td>\n",
              "      <td>I'm Eighteen</td>\n",
              "      <td>Lines form on my face and hands \\n Lines form ...</td>\n",
              "    </tr>\n",
              "    <tr>\n",
              "      <th>3</th>\n",
              "      <td>Anthrax</td>\n",
              "      <td>metal</td>\n",
              "      <td>Panic</td>\n",
              "      <td>Move it to the front \\n Reaching for the light...</td>\n",
              "    </tr>\n",
              "    <tr>\n",
              "      <th>4</th>\n",
              "      <td>Anthrax</td>\n",
              "      <td>metal</td>\n",
              "      <td>Subjugator</td>\n",
              "      <td>Out in the streets \\n We're fighting tonight \\...</td>\n",
              "    </tr>\n",
              "    <tr>\n",
              "      <th>...</th>\n",
              "      <td>...</td>\n",
              "      <td>...</td>\n",
              "      <td>...</td>\n",
              "      <td>...</td>\n",
              "    </tr>\n",
              "    <tr>\n",
              "      <th>246</th>\n",
              "      <td>Weezer</td>\n",
              "      <td>rock</td>\n",
              "      <td>Thief, You've Taken All That Was Me</td>\n",
              "      <td>Thief, of silent dreams \\n Of golden scenes \\n...</td>\n",
              "    </tr>\n",
              "    <tr>\n",
              "      <th>247</th>\n",
              "      <td>Weezer</td>\n",
              "      <td>rock</td>\n",
              "      <td>We Are All In Love</td>\n",
              "      <td>When your out with your friends \\n In your new...</td>\n",
              "    </tr>\n",
              "    <tr>\n",
              "      <th>248</th>\n",
              "      <td>Weezer</td>\n",
              "      <td>rock</td>\n",
              "      <td>We Go Together</td>\n",
              "      <td>We go together \\n And that's to stay \\n And in...</td>\n",
              "    </tr>\n",
              "    <tr>\n",
              "      <th>249</th>\n",
              "      <td>Weezer</td>\n",
              "      <td>rock</td>\n",
              "      <td>What Is This I Find?</td>\n",
              "      <td>[Jonas]: \\n What is this I find? \\n [Wuan]: \\n...</td>\n",
              "    </tr>\n",
              "    <tr>\n",
              "      <th>250</th>\n",
              "      <td>Weezer</td>\n",
              "      <td>rock</td>\n",
              "      <td>Zep Jamb</td>\n",
              "      <td>Alright \\n Say baby \\n Love me \\n Lay your mon...</td>\n",
              "    </tr>\n",
              "  </tbody>\n",
              "</table>\n",
              "<p>9489 rows × 4 columns</p>\n",
              "</div>"
            ],
            "text/plain": [
              "      artist  genre                                 song  \\\n",
              "0    Anthrax  metal                           Deathrider   \n",
              "1    Anthrax  metal                  Metal Thrashing Mad   \n",
              "2    Anthrax  metal                         I'm Eighteen   \n",
              "3    Anthrax  metal                                Panic   \n",
              "4    Anthrax  metal                           Subjugator   \n",
              "..       ...    ...                                  ...   \n",
              "246   Weezer   rock  Thief, You've Taken All That Was Me   \n",
              "247   Weezer   rock                   We Are All In Love   \n",
              "248   Weezer   rock                       We Go Together   \n",
              "249   Weezer   rock                 What Is This I Find?   \n",
              "250   Weezer   rock                             Zep Jamb   \n",
              "\n",
              "                                                lyrics  \n",
              "0    Riding hard, high in the saddle \\n Winged stee...  \n",
              "1    Racing down the road \\n In a street machine of...  \n",
              "2    Lines form on my face and hands \\n Lines form ...  \n",
              "3    Move it to the front \\n Reaching for the light...  \n",
              "4    Out in the streets \\n We're fighting tonight \\...  \n",
              "..                                                 ...  \n",
              "246  Thief, of silent dreams \\n Of golden scenes \\n...  \n",
              "247  When your out with your friends \\n In your new...  \n",
              "248  We go together \\n And that's to stay \\n And in...  \n",
              "249  [Jonas]: \\n What is this I find? \\n [Wuan]: \\n...  \n",
              "250  Alright \\n Say baby \\n Love me \\n Lay your mon...  \n",
              "\n",
              "[9489 rows x 4 columns]"
            ]
          },
          "execution_count": 23,
          "metadata": {},
          "output_type": "execute_result"
        }
      ],
      "source": [
        "df_lyrics"
      ]
    },
    {
      "cell_type": "code",
      "execution_count": 24,
      "metadata": {
        "id": "loFXLqlqqkqv"
      },
      "outputs": [],
      "source": [
        "concat_cancion=pd.concat([df_lyrics,docs_topics],axis=1)"
      ]
    },
    {
      "cell_type": "code",
      "execution_count": 25,
      "metadata": {
        "id": "capSxUzLrKqd"
      },
      "outputs": [],
      "source": [
        "concat_cancion['mejor']=np.argmax(docs_topics.values,axis=1)+1"
      ]
    },
    {
      "cell_type": "code",
      "execution_count": 26,
      "metadata": {
        "colab": {
          "base_uri": "https://localhost:8080/",
          "height": 650
        },
        "id": "ZbK1BewDrb-H",
        "outputId": "e8588df1-ebfe-4f9d-cea9-b854e1e59ed8"
      },
      "outputs": [
        {
          "data": {
            "text/html": [
              "<div>\n",
              "<style scoped>\n",
              "    .dataframe tbody tr th:only-of-type {\n",
              "        vertical-align: middle;\n",
              "    }\n",
              "\n",
              "    .dataframe tbody tr th {\n",
              "        vertical-align: top;\n",
              "    }\n",
              "\n",
              "    .dataframe thead th {\n",
              "        text-align: right;\n",
              "    }\n",
              "</style>\n",
              "<table border=\"1\" class=\"dataframe\">\n",
              "  <thead>\n",
              "    <tr style=\"text-align: right;\">\n",
              "      <th></th>\n",
              "      <th>artist</th>\n",
              "      <th>genre</th>\n",
              "      <th>song</th>\n",
              "      <th>lyrics</th>\n",
              "      <th>topic 1</th>\n",
              "      <th>topic 2</th>\n",
              "      <th>topic 3</th>\n",
              "      <th>topic 4</th>\n",
              "      <th>topic 5</th>\n",
              "      <th>mejor</th>\n",
              "    </tr>\n",
              "  </thead>\n",
              "  <tbody>\n",
              "    <tr>\n",
              "      <th>0</th>\n",
              "      <td>Anthrax</td>\n",
              "      <td>metal</td>\n",
              "      <td>Deathrider</td>\n",
              "      <td>Riding hard, high in the saddle \\n Winged stee...</td>\n",
              "      <td>0.050</td>\n",
              "      <td>0.357</td>\n",
              "      <td>0.493</td>\n",
              "      <td>0.050</td>\n",
              "      <td>0.051</td>\n",
              "      <td>3</td>\n",
              "    </tr>\n",
              "    <tr>\n",
              "      <th>1</th>\n",
              "      <td>Anthrax</td>\n",
              "      <td>metal</td>\n",
              "      <td>Metal Thrashing Mad</td>\n",
              "      <td>Racing down the road \\n In a street machine of...</td>\n",
              "      <td>0.020</td>\n",
              "      <td>0.537</td>\n",
              "      <td>0.142</td>\n",
              "      <td>0.281</td>\n",
              "      <td>0.020</td>\n",
              "      <td>2</td>\n",
              "    </tr>\n",
              "    <tr>\n",
              "      <th>2</th>\n",
              "      <td>Anthrax</td>\n",
              "      <td>metal</td>\n",
              "      <td>I'm Eighteen</td>\n",
              "      <td>Lines form on my face and hands \\n Lines form ...</td>\n",
              "      <td>0.121</td>\n",
              "      <td>0.570</td>\n",
              "      <td>0.088</td>\n",
              "      <td>0.075</td>\n",
              "      <td>0.147</td>\n",
              "      <td>2</td>\n",
              "    </tr>\n",
              "    <tr>\n",
              "      <th>3</th>\n",
              "      <td>Anthrax</td>\n",
              "      <td>metal</td>\n",
              "      <td>Panic</td>\n",
              "      <td>Move it to the front \\n Reaching for the light...</td>\n",
              "      <td>0.303</td>\n",
              "      <td>0.050</td>\n",
              "      <td>0.277</td>\n",
              "      <td>0.320</td>\n",
              "      <td>0.050</td>\n",
              "      <td>4</td>\n",
              "    </tr>\n",
              "    <tr>\n",
              "      <th>4</th>\n",
              "      <td>Anthrax</td>\n",
              "      <td>metal</td>\n",
              "      <td>Subjugator</td>\n",
              "      <td>Out in the streets \\n We're fighting tonight \\...</td>\n",
              "      <td>0.020</td>\n",
              "      <td>0.466</td>\n",
              "      <td>0.474</td>\n",
              "      <td>0.020</td>\n",
              "      <td>0.020</td>\n",
              "      <td>3</td>\n",
              "    </tr>\n",
              "    <tr>\n",
              "      <th>...</th>\n",
              "      <td>...</td>\n",
              "      <td>...</td>\n",
              "      <td>...</td>\n",
              "      <td>...</td>\n",
              "      <td>...</td>\n",
              "      <td>...</td>\n",
              "      <td>...</td>\n",
              "      <td>...</td>\n",
              "      <td>...</td>\n",
              "      <td>...</td>\n",
              "    </tr>\n",
              "    <tr>\n",
              "      <th>246</th>\n",
              "      <td>Weezer</td>\n",
              "      <td>rock</td>\n",
              "      <td>Thief, You've Taken All That Was Me</td>\n",
              "      <td>Thief, of silent dreams \\n Of golden scenes \\n...</td>\n",
              "      <td>0.020</td>\n",
              "      <td>0.020</td>\n",
              "      <td>0.020</td>\n",
              "      <td>0.919</td>\n",
              "      <td>0.021</td>\n",
              "      <td>4</td>\n",
              "    </tr>\n",
              "    <tr>\n",
              "      <th>247</th>\n",
              "      <td>Weezer</td>\n",
              "      <td>rock</td>\n",
              "      <td>We Are All In Love</td>\n",
              "      <td>When your out with your friends \\n In your new...</td>\n",
              "      <td>0.654</td>\n",
              "      <td>0.005</td>\n",
              "      <td>0.005</td>\n",
              "      <td>0.186</td>\n",
              "      <td>0.149</td>\n",
              "      <td>1</td>\n",
              "    </tr>\n",
              "    <tr>\n",
              "      <th>248</th>\n",
              "      <td>Weezer</td>\n",
              "      <td>rock</td>\n",
              "      <td>We Go Together</td>\n",
              "      <td>We go together \\n And that's to stay \\n And in...</td>\n",
              "      <td>0.155</td>\n",
              "      <td>0.365</td>\n",
              "      <td>0.436</td>\n",
              "      <td>0.022</td>\n",
              "      <td>0.022</td>\n",
              "      <td>3</td>\n",
              "    </tr>\n",
              "    <tr>\n",
              "      <th>249</th>\n",
              "      <td>Weezer</td>\n",
              "      <td>rock</td>\n",
              "      <td>What Is This I Find?</td>\n",
              "      <td>[Jonas]: \\n What is this I find? \\n [Wuan]: \\n...</td>\n",
              "      <td>0.462</td>\n",
              "      <td>0.040</td>\n",
              "      <td>0.040</td>\n",
              "      <td>0.040</td>\n",
              "      <td>0.418</td>\n",
              "      <td>1</td>\n",
              "    </tr>\n",
              "    <tr>\n",
              "      <th>250</th>\n",
              "      <td>Weezer</td>\n",
              "      <td>rock</td>\n",
              "      <td>Zep Jamb</td>\n",
              "      <td>Alright \\n Say baby \\n Love me \\n Lay your mon...</td>\n",
              "      <td>0.761</td>\n",
              "      <td>0.012</td>\n",
              "      <td>0.203</td>\n",
              "      <td>0.012</td>\n",
              "      <td>0.012</td>\n",
              "      <td>1</td>\n",
              "    </tr>\n",
              "  </tbody>\n",
              "</table>\n",
              "<p>9489 rows × 10 columns</p>\n",
              "</div>"
            ],
            "text/plain": [
              "      artist  genre                                 song  \\\n",
              "0    Anthrax  metal                           Deathrider   \n",
              "1    Anthrax  metal                  Metal Thrashing Mad   \n",
              "2    Anthrax  metal                         I'm Eighteen   \n",
              "3    Anthrax  metal                                Panic   \n",
              "4    Anthrax  metal                           Subjugator   \n",
              "..       ...    ...                                  ...   \n",
              "246   Weezer   rock  Thief, You've Taken All That Was Me   \n",
              "247   Weezer   rock                   We Are All In Love   \n",
              "248   Weezer   rock                       We Go Together   \n",
              "249   Weezer   rock                 What Is This I Find?   \n",
              "250   Weezer   rock                             Zep Jamb   \n",
              "\n",
              "                                                lyrics  topic 1  topic 2  \\\n",
              "0    Riding hard, high in the saddle \\n Winged stee...    0.050    0.357   \n",
              "1    Racing down the road \\n In a street machine of...    0.020    0.537   \n",
              "2    Lines form on my face and hands \\n Lines form ...    0.121    0.570   \n",
              "3    Move it to the front \\n Reaching for the light...    0.303    0.050   \n",
              "4    Out in the streets \\n We're fighting tonight \\...    0.020    0.466   \n",
              "..                                                 ...      ...      ...   \n",
              "246  Thief, of silent dreams \\n Of golden scenes \\n...    0.020    0.020   \n",
              "247  When your out with your friends \\n In your new...    0.654    0.005   \n",
              "248  We go together \\n And that's to stay \\n And in...    0.155    0.365   \n",
              "249  [Jonas]: \\n What is this I find? \\n [Wuan]: \\n...    0.462    0.040   \n",
              "250  Alright \\n Say baby \\n Love me \\n Lay your mon...    0.761    0.012   \n",
              "\n",
              "     topic 3  topic 4  topic 5  mejor  \n",
              "0      0.493    0.050    0.051      3  \n",
              "1      0.142    0.281    0.020      2  \n",
              "2      0.088    0.075    0.147      2  \n",
              "3      0.277    0.320    0.050      4  \n",
              "4      0.474    0.020    0.020      3  \n",
              "..       ...      ...      ...    ...  \n",
              "246    0.020    0.919    0.021      4  \n",
              "247    0.005    0.186    0.149      1  \n",
              "248    0.436    0.022    0.022      3  \n",
              "249    0.040    0.040    0.418      1  \n",
              "250    0.203    0.012    0.012      1  \n",
              "\n",
              "[9489 rows x 10 columns]"
            ]
          },
          "execution_count": 26,
          "metadata": {},
          "output_type": "execute_result"
        }
      ],
      "source": [
        "concat_cancion"
      ]
    },
    {
      "cell_type": "code",
      "execution_count": 27,
      "metadata": {
        "id": "ePEomfOgsQH4"
      },
      "outputs": [],
      "source": [
        "def mixture(df,artist):\n",
        "  return df[df['artist']==artist].loc[:,'topic 1' : 'topic 5']\n",
        "\n",
        "Emminem = mixture (concat_cancion,'Britney Spears')\n",
        "\n"
      ]
    },
    {
      "cell_type": "code",
      "execution_count": 28,
      "metadata": {
        "colab": {
          "base_uri": "https://localhost:8080/",
          "height": 419
        },
        "id": "bFUWBbmjuRZQ",
        "outputId": "64f6122f-8d12-49c6-d4a3-f527423b85b3"
      },
      "outputs": [
        {
          "data": {
            "text/html": [
              "<div>\n",
              "<style scoped>\n",
              "    .dataframe tbody tr th:only-of-type {\n",
              "        vertical-align: middle;\n",
              "    }\n",
              "\n",
              "    .dataframe tbody tr th {\n",
              "        vertical-align: top;\n",
              "    }\n",
              "\n",
              "    .dataframe thead th {\n",
              "        text-align: right;\n",
              "    }\n",
              "</style>\n",
              "<table border=\"1\" class=\"dataframe\">\n",
              "  <thead>\n",
              "    <tr style=\"text-align: right;\">\n",
              "      <th></th>\n",
              "      <th>topic 1</th>\n",
              "      <th>topic 2</th>\n",
              "      <th>topic 3</th>\n",
              "      <th>topic 4</th>\n",
              "      <th>topic 5</th>\n",
              "    </tr>\n",
              "  </thead>\n",
              "  <tbody>\n",
              "    <tr>\n",
              "      <th>0</th>\n",
              "      <td>0.683</td>\n",
              "      <td>0.003</td>\n",
              "      <td>0.064</td>\n",
              "      <td>0.070</td>\n",
              "      <td>0.179</td>\n",
              "    </tr>\n",
              "    <tr>\n",
              "      <th>1</th>\n",
              "      <td>0.609</td>\n",
              "      <td>0.004</td>\n",
              "      <td>0.109</td>\n",
              "      <td>0.274</td>\n",
              "      <td>0.004</td>\n",
              "    </tr>\n",
              "    <tr>\n",
              "      <th>2</th>\n",
              "      <td>0.099</td>\n",
              "      <td>0.004</td>\n",
              "      <td>0.647</td>\n",
              "      <td>0.004</td>\n",
              "      <td>0.246</td>\n",
              "    </tr>\n",
              "    <tr>\n",
              "      <th>3</th>\n",
              "      <td>0.238</td>\n",
              "      <td>0.283</td>\n",
              "      <td>0.066</td>\n",
              "      <td>0.406</td>\n",
              "      <td>0.006</td>\n",
              "    </tr>\n",
              "    <tr>\n",
              "      <th>4</th>\n",
              "      <td>0.238</td>\n",
              "      <td>0.002</td>\n",
              "      <td>0.118</td>\n",
              "      <td>0.288</td>\n",
              "      <td>0.355</td>\n",
              "    </tr>\n",
              "    <tr>\n",
              "      <th>...</th>\n",
              "      <td>...</td>\n",
              "      <td>...</td>\n",
              "      <td>...</td>\n",
              "      <td>...</td>\n",
              "      <td>...</td>\n",
              "    </tr>\n",
              "    <tr>\n",
              "      <th>318</th>\n",
              "      <td>0.436</td>\n",
              "      <td>0.014</td>\n",
              "      <td>0.015</td>\n",
              "      <td>0.456</td>\n",
              "      <td>0.079</td>\n",
              "    </tr>\n",
              "    <tr>\n",
              "      <th>319</th>\n",
              "      <td>0.002</td>\n",
              "      <td>0.132</td>\n",
              "      <td>0.546</td>\n",
              "      <td>0.002</td>\n",
              "      <td>0.317</td>\n",
              "    </tr>\n",
              "    <tr>\n",
              "      <th>320</th>\n",
              "      <td>0.290</td>\n",
              "      <td>0.145</td>\n",
              "      <td>0.365</td>\n",
              "      <td>0.194</td>\n",
              "      <td>0.006</td>\n",
              "    </tr>\n",
              "    <tr>\n",
              "      <th>321</th>\n",
              "      <td>0.007</td>\n",
              "      <td>0.007</td>\n",
              "      <td>0.563</td>\n",
              "      <td>0.007</td>\n",
              "      <td>0.415</td>\n",
              "    </tr>\n",
              "    <tr>\n",
              "      <th>322</th>\n",
              "      <td>0.156</td>\n",
              "      <td>0.084</td>\n",
              "      <td>0.437</td>\n",
              "      <td>0.008</td>\n",
              "      <td>0.314</td>\n",
              "    </tr>\n",
              "  </tbody>\n",
              "</table>\n",
              "<p>323 rows × 5 columns</p>\n",
              "</div>"
            ],
            "text/plain": [
              "     topic 1  topic 2  topic 3  topic 4  topic 5\n",
              "0      0.683    0.003    0.064    0.070    0.179\n",
              "1      0.609    0.004    0.109    0.274    0.004\n",
              "2      0.099    0.004    0.647    0.004    0.246\n",
              "3      0.238    0.283    0.066    0.406    0.006\n",
              "4      0.238    0.002    0.118    0.288    0.355\n",
              "..       ...      ...      ...      ...      ...\n",
              "318    0.436    0.014    0.015    0.456    0.079\n",
              "319    0.002    0.132    0.546    0.002    0.317\n",
              "320    0.290    0.145    0.365    0.194    0.006\n",
              "321    0.007    0.007    0.563    0.007    0.415\n",
              "322    0.156    0.084    0.437    0.008    0.314\n",
              "\n",
              "[323 rows x 5 columns]"
            ]
          },
          "execution_count": 28,
          "metadata": {},
          "output_type": "execute_result"
        }
      ],
      "source": [
        "Emminem"
      ]
    },
    {
      "cell_type": "code",
      "execution_count": 31,
      "metadata": {
        "colab": {
          "base_uri": "https://localhost:8080/"
        },
        "id": "MXGzAbB2wX1K",
        "outputId": "180ad65c-cdb8-4707-a640-8462041c776a"
      },
      "outputs": [
        {
          "data": {
            "text/plain": [
              "topic 4    0.106009\n",
              "topic 2    0.147272\n",
              "topic 1    0.216539\n",
              "topic 5    0.262071\n",
              "topic 3    0.268080\n",
              "dtype: float64"
            ]
          },
          "execution_count": 31,
          "metadata": {},
          "output_type": "execute_result"
        }
      ],
      "source": [
        "Emminem.apply(np.mean,axis=0).sort_values()"
      ]
    },
    {
      "cell_type": "code",
      "execution_count": 30,
      "metadata": {
        "colab": {
          "base_uri": "https://localhost:8080/"
        },
        "id": "joC851nPv-gv",
        "outputId": "bf7b449d-644a-4a50-fe02-9a84ebc79ec9"
      },
      "outputs": [
        {
          "data": {
            "text/plain": [
              "Index(['A Tribe Called Quest', 'Anthrax', 'Black Star', 'Bob Dylan',\n",
              "       'Britney Spears', 'Bruce Springsteen', 'Cannibal Corpse',\n",
              "       'Carly Rae Jepsen', 'De La Soul', 'Deicide', 'Dr. Dre', 'Dua Lipa',\n",
              "       'Eminem', 'Faith No More', 'Ghostface Killah', 'Gorgoroth', 'Immortal',\n",
              "       'Incubus', 'Iron Maiden', 'Kanye West', 'Kendrick Lamar', 'Killer Mike',\n",
              "       'Kiss', 'Led Zeppelin', 'Lorde', 'MF Doom', 'Mayhem', 'Megadeth',\n",
              "       'Meshuggah', 'Metallica', 'Method Man', 'Michael Jackson', 'Mobb Deep',\n",
              "       'Modest Mouse', 'Mos Def', 'Necrophagist', 'Nickelback', 'Nicki Minaj',\n",
              "       'Oasis', 'Opeth', 'Pink Floyd', 'Public Enemy', 'Queen', 'Radiohead',\n",
              "       'Raekwon', 'Rage Against The Machine', 'Red Hot Chili Peppers', 'Rush',\n",
              "       'SIA', 'Sam Smith', 'Slayer', 'Spice Girls', 'System of a Down',\n",
              "       'The Beatles', 'The Clash', 'The Doors', 'The Smashing Pumpkins',\n",
              "       'The Smiths', 'Tool', 'Vital Remains', 'Weezer'],\n",
              "      dtype='object', name='artist')"
            ]
          },
          "execution_count": 30,
          "metadata": {},
          "output_type": "execute_result"
        }
      ],
      "source": [
        "df_lyrics.groupby('artist').count().index"
      ]
    }
  ],
  "metadata": {
    "colab": {
      "provenance": []
    },
    "kernelspec": {
      "display_name": "Python 3.10.4 ('dl')",
      "language": "python",
      "name": "python3"
    },
    "language_info": {
      "codemirror_mode": {
        "name": "ipython",
        "version": 3
      },
      "file_extension": ".py",
      "mimetype": "text/x-python",
      "name": "python",
      "nbconvert_exporter": "python",
      "pygments_lexer": "ipython3",
      "version": "3.10.4"
    },
    "vscode": {
      "interpreter": {
        "hash": "c9ccd8639d7ac6d8ae46f08631d02de0d1c9f4a08850208985333be71082afd9"
      }
    }
  },
  "nbformat": 4,
  "nbformat_minor": 0
}
