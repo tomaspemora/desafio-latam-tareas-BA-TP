{
 "cells": [
  {
   "cell_type": "code",
   "execution_count": 1,
   "metadata": {},
   "outputs": [],
   "source": [
    "import pandas as pd \n",
    "import numpy as np \n",
    "from sklearn.model_selection import train_test_split\n",
    "#from pygam.utils import generate_X_grid\n",
    "from sklearn.preprocessing import StandardScaler\n",
    "from sklearn.metrics import mean_squared_error, median_absolute_error, r2_score\n",
    "from pygam import LinearGAM\n",
    "import seaborn as sns\n",
    "import matplotlib.pyplot as plt \n",
    "df=pd.read_csv('compresive_strength_concrete.csv')"
   ]
  },
  {
   "cell_type": "code",
   "execution_count": 10,
   "metadata": {},
   "outputs": [
    {
     "data": {
      "text/plain": [
       "Index(['Cement (component 1)(kg in a m^3 mixture)',\n",
       "       'Blast Furnace Slag (component 2)(kg in a m^3 mixture)',\n",
       "       'Fly Ash (component 3)(kg in a m^3 mixture)',\n",
       "       'Water  (component 4)(kg in a m^3 mixture)',\n",
       "       'Superplasticizer (component 5)(kg in a m^3 mixture)',\n",
       "       'Coarse Aggregate  (component 6)(kg in a m^3 mixture)',\n",
       "       'Fine Aggregate (component 7)(kg in a m^3 mixture)', 'Age (day)',\n",
       "       'Concrete compressive strength(MPa, megapascals) '],\n",
       "      dtype='object')"
      ]
     },
     "execution_count": 10,
     "metadata": {},
     "output_type": "execute_result"
    }
   ],
   "source": [
    "df.columns"
   ]
  },
  {
   "cell_type": "code",
   "execution_count": 2,
   "metadata": {},
   "outputs": [],
   "source": [
    "df.columns=['Cement',\n",
    "       'Blast_Furnace_Slag',\n",
    "       'Fly_Ash',\n",
    "       'Water',\n",
    "       'Superplasticizer',\n",
    "       'Coarse_Aggregate',\n",
    "       'Fine_Aggregate', 'Age',\n",
    "       'Concrete_compressive_strength']"
   ]
  },
  {
   "cell_type": "code",
   "execution_count": 3,
   "metadata": {},
   "outputs": [
    {
     "name": "stdout",
     "output_type": "stream",
     "text": [
      "<class 'pandas.core.frame.DataFrame'>\n",
      "RangeIndex: 1030 entries, 0 to 1029\n",
      "Data columns (total 9 columns):\n",
      " #   Column                         Non-Null Count  Dtype  \n",
      "---  ------                         --------------  -----  \n",
      " 0   Cement                         1030 non-null   float64\n",
      " 1   Blast_Furnace_Slag             1030 non-null   float64\n",
      " 2   Fly_Ash                        1030 non-null   float64\n",
      " 3   Water                          1030 non-null   float64\n",
      " 4   Superplasticizer               1030 non-null   float64\n",
      " 5   Coarse_Aggregate               1030 non-null   float64\n",
      " 6   Fine_Aggregate                 1030 non-null   float64\n",
      " 7   Age                            1030 non-null   int64  \n",
      " 8   Concrete_compressive_strength  1030 non-null   float64\n",
      "dtypes: float64(8), int64(1)\n",
      "memory usage: 72.5 KB\n"
     ]
    }
   ],
   "source": [
    "df.info()"
   ]
  },
  {
   "cell_type": "code",
   "execution_count": 4,
   "metadata": {},
   "outputs": [
    {
     "data": {
      "text/html": [
       "<div>\n",
       "<style scoped>\n",
       "    .dataframe tbody tr th:only-of-type {\n",
       "        vertical-align: middle;\n",
       "    }\n",
       "\n",
       "    .dataframe tbody tr th {\n",
       "        vertical-align: top;\n",
       "    }\n",
       "\n",
       "    .dataframe thead th {\n",
       "        text-align: right;\n",
       "    }\n",
       "</style>\n",
       "<table border=\"1\" class=\"dataframe\">\n",
       "  <thead>\n",
       "    <tr style=\"text-align: right;\">\n",
       "      <th></th>\n",
       "      <th>Cement</th>\n",
       "      <th>Blast_Furnace_Slag</th>\n",
       "      <th>Fly_Ash</th>\n",
       "      <th>Water</th>\n",
       "      <th>Superplasticizer</th>\n",
       "      <th>Coarse_Aggregate</th>\n",
       "      <th>Fine_Aggregate</th>\n",
       "      <th>Age</th>\n",
       "      <th>Concrete_compressive_strength</th>\n",
       "    </tr>\n",
       "  </thead>\n",
       "  <tbody>\n",
       "    <tr>\n",
       "      <th>count</th>\n",
       "      <td>1030.000000</td>\n",
       "      <td>1030.000000</td>\n",
       "      <td>1030.000000</td>\n",
       "      <td>1030.000000</td>\n",
       "      <td>1030.000000</td>\n",
       "      <td>1030.000000</td>\n",
       "      <td>1030.000000</td>\n",
       "      <td>1030.000000</td>\n",
       "      <td>1030.000000</td>\n",
       "    </tr>\n",
       "    <tr>\n",
       "      <th>mean</th>\n",
       "      <td>281.167864</td>\n",
       "      <td>73.895825</td>\n",
       "      <td>54.188350</td>\n",
       "      <td>181.567282</td>\n",
       "      <td>6.204660</td>\n",
       "      <td>972.918932</td>\n",
       "      <td>773.580485</td>\n",
       "      <td>45.662136</td>\n",
       "      <td>35.817961</td>\n",
       "    </tr>\n",
       "    <tr>\n",
       "      <th>std</th>\n",
       "      <td>104.506364</td>\n",
       "      <td>86.279342</td>\n",
       "      <td>63.997004</td>\n",
       "      <td>21.354219</td>\n",
       "      <td>5.973841</td>\n",
       "      <td>77.753954</td>\n",
       "      <td>80.175980</td>\n",
       "      <td>63.169912</td>\n",
       "      <td>16.705742</td>\n",
       "    </tr>\n",
       "    <tr>\n",
       "      <th>min</th>\n",
       "      <td>102.000000</td>\n",
       "      <td>0.000000</td>\n",
       "      <td>0.000000</td>\n",
       "      <td>121.800000</td>\n",
       "      <td>0.000000</td>\n",
       "      <td>801.000000</td>\n",
       "      <td>594.000000</td>\n",
       "      <td>1.000000</td>\n",
       "      <td>2.330000</td>\n",
       "    </tr>\n",
       "    <tr>\n",
       "      <th>25%</th>\n",
       "      <td>192.375000</td>\n",
       "      <td>0.000000</td>\n",
       "      <td>0.000000</td>\n",
       "      <td>164.900000</td>\n",
       "      <td>0.000000</td>\n",
       "      <td>932.000000</td>\n",
       "      <td>730.950000</td>\n",
       "      <td>7.000000</td>\n",
       "      <td>23.710000</td>\n",
       "    </tr>\n",
       "    <tr>\n",
       "      <th>50%</th>\n",
       "      <td>272.900000</td>\n",
       "      <td>22.000000</td>\n",
       "      <td>0.000000</td>\n",
       "      <td>185.000000</td>\n",
       "      <td>6.400000</td>\n",
       "      <td>968.000000</td>\n",
       "      <td>779.500000</td>\n",
       "      <td>28.000000</td>\n",
       "      <td>34.445000</td>\n",
       "    </tr>\n",
       "    <tr>\n",
       "      <th>75%</th>\n",
       "      <td>350.000000</td>\n",
       "      <td>142.950000</td>\n",
       "      <td>118.300000</td>\n",
       "      <td>192.000000</td>\n",
       "      <td>10.200000</td>\n",
       "      <td>1029.400000</td>\n",
       "      <td>824.000000</td>\n",
       "      <td>56.000000</td>\n",
       "      <td>46.135000</td>\n",
       "    </tr>\n",
       "    <tr>\n",
       "      <th>max</th>\n",
       "      <td>540.000000</td>\n",
       "      <td>359.400000</td>\n",
       "      <td>200.100000</td>\n",
       "      <td>247.000000</td>\n",
       "      <td>32.200000</td>\n",
       "      <td>1145.000000</td>\n",
       "      <td>992.600000</td>\n",
       "      <td>365.000000</td>\n",
       "      <td>82.600000</td>\n",
       "    </tr>\n",
       "  </tbody>\n",
       "</table>\n",
       "</div>"
      ],
      "text/plain": [
       "            Cement  Blast_Furnace_Slag      Fly_Ash        Water  \\\n",
       "count  1030.000000         1030.000000  1030.000000  1030.000000   \n",
       "mean    281.167864           73.895825    54.188350   181.567282   \n",
       "std     104.506364           86.279342    63.997004    21.354219   \n",
       "min     102.000000            0.000000     0.000000   121.800000   \n",
       "25%     192.375000            0.000000     0.000000   164.900000   \n",
       "50%     272.900000           22.000000     0.000000   185.000000   \n",
       "75%     350.000000          142.950000   118.300000   192.000000   \n",
       "max     540.000000          359.400000   200.100000   247.000000   \n",
       "\n",
       "       Superplasticizer  Coarse_Aggregate  Fine_Aggregate          Age  \\\n",
       "count       1030.000000       1030.000000     1030.000000  1030.000000   \n",
       "mean           6.204660        972.918932      773.580485    45.662136   \n",
       "std            5.973841         77.753954       80.175980    63.169912   \n",
       "min            0.000000        801.000000      594.000000     1.000000   \n",
       "25%            0.000000        932.000000      730.950000     7.000000   \n",
       "50%            6.400000        968.000000      779.500000    28.000000   \n",
       "75%           10.200000       1029.400000      824.000000    56.000000   \n",
       "max           32.200000       1145.000000      992.600000   365.000000   \n",
       "\n",
       "       Concrete_compressive_strength  \n",
       "count                    1030.000000  \n",
       "mean                       35.817961  \n",
       "std                        16.705742  \n",
       "min                         2.330000  \n",
       "25%                        23.710000  \n",
       "50%                        34.445000  \n",
       "75%                        46.135000  \n",
       "max                        82.600000  "
      ]
     },
     "execution_count": 4,
     "metadata": {},
     "output_type": "execute_result"
    }
   ],
   "source": [
    "df.describe()"
   ]
  },
  {
   "cell_type": "code",
   "execution_count": 5,
   "metadata": {},
   "outputs": [
    {
     "data": {
      "text/plain": [
       "<generator object DataFrame.iteritems at 0x294af54d0>"
      ]
     },
     "execution_count": 5,
     "metadata": {},
     "output_type": "execute_result"
    }
   ],
   "source": [
    "df.iteritems()"
   ]
  },
  {
   "cell_type": "code",
   "execution_count": 6,
   "metadata": {},
   "outputs": [
    {
     "name": "stderr",
     "output_type": "stream",
     "text": [
      "/Library/Frameworks/Python.framework/Versions/3.10/lib/python3.10/site-packages/seaborn/distributions.py:2619: FutureWarning: `distplot` is a deprecated function and will be removed in a future version. Please adapt your code to use either `displot` (a figure-level function with similar flexibility) or `histplot` (an axes-level function for histograms).\n",
      "  warnings.warn(msg, FutureWarning)\n",
      "/Library/Frameworks/Python.framework/Versions/3.10/lib/python3.10/site-packages/seaborn/distributions.py:2103: FutureWarning: The `axis` variable is no longer used and will be removed. Instead, assign variables directly to `x` or `y`.\n",
      "  warnings.warn(msg, FutureWarning)\n"
     ]
    },
    {
     "data": {
      "text/plain": [
       "<AxesSubplot:ylabel='Density'>"
      ]
     },
     "execution_count": 6,
     "metadata": {},
     "output_type": "execute_result"
    },
    {
     "data": {
      "image/png": "[encoded data removed]",
      "text/plain": [
       "<Figure size 640x480 with 1 Axes>"
      ]
     },
     "metadata": {},
     "output_type": "display_data"
    }
   ],
   "source": [
    "sns.distplot(df.Age.values,rug=True)"
   ]
  },
  {
   "cell_type": "code",
   "execution_count": 8,
   "metadata": {},
   "outputs": [
    {
     "name": "stderr",
     "output_type": "stream",
     "text": [
      "/Library/Frameworks/Python.framework/Versions/3.10/lib/python3.10/site-packages/seaborn/distributions.py:2619: FutureWarning: `distplot` is a deprecated function and will be removed in a future version. Please adapt your code to use either `displot` (a figure-level function with similar flexibility) or `histplot` (an axes-level function for histograms).\n",
      "  warnings.warn(msg, FutureWarning)\n",
      "/Library/Frameworks/Python.framework/Versions/3.10/lib/python3.10/site-packages/seaborn/distributions.py:2103: FutureWarning: The `axis` variable is no longer used and will be removed. Instead, assign variables directly to `x` or `y`.\n",
      "  warnings.warn(msg, FutureWarning)\n",
      "/Library/Frameworks/Python.framework/Versions/3.10/lib/python3.10/site-packages/seaborn/distributions.py:2619: FutureWarning: `distplot` is a deprecated function and will be removed in a future version. Please adapt your code to use either `displot` (a figure-level function with similar flexibility) or `histplot` (an axes-level function for histograms).\n",
      "  warnings.warn(msg, FutureWarning)\n",
      "/Library/Frameworks/Python.framework/Versions/3.10/lib/python3.10/site-packages/seaborn/distributions.py:2103: FutureWarning: The `axis` variable is no longer used and will be removed. Instead, assign variables directly to `x` or `y`.\n",
      "  warnings.warn(msg, FutureWarning)\n",
      "/Library/Frameworks/Python.framework/Versions/3.10/lib/python3.10/site-packages/seaborn/distributions.py:2619: FutureWarning: `distplot` is a deprecated function and will be removed in a future version. Please adapt your code to use either `displot` (a figure-level function with similar flexibility) or `histplot` (an axes-level function for histograms).\n",
      "  warnings.warn(msg, FutureWarning)\n",
      "/Library/Frameworks/Python.framework/Versions/3.10/lib/python3.10/site-packages/seaborn/distributions.py:2103: FutureWarning: The `axis` variable is no longer used and will be removed. Instead, assign variables directly to `x` or `y`.\n",
      "  warnings.warn(msg, FutureWarning)\n",
      "/Library/Frameworks/Python.framework/Versions/3.10/lib/python3.10/site-packages/seaborn/distributions.py:2619: FutureWarning: `distplot` is a deprecated function and will be removed in a future version. Please adapt your code to use either `displot` (a figure-level function with similar flexibility) or `histplot` (an axes-level function for histograms).\n",
      "  warnings.warn(msg, FutureWarning)\n",
      "/Library/Frameworks/Python.framework/Versions/3.10/lib/python3.10/site-packages/seaborn/distributions.py:2103: FutureWarning: The `axis` variable is no longer used and will be removed. Instead, assign variables directly to `x` or `y`.\n",
      "  warnings.warn(msg, FutureWarning)\n",
      "/Library/Frameworks/Python.framework/Versions/3.10/lib/python3.10/site-packages/seaborn/distributions.py:2619: FutureWarning: `distplot` is a deprecated function and will be removed in a future version. Please adapt your code to use either `displot` (a figure-level function with similar flexibility) or `histplot` (an axes-level function for histograms).\n",
      "  warnings.warn(msg, FutureWarning)\n",
      "/Library/Frameworks/Python.framework/Versions/3.10/lib/python3.10/site-packages/seaborn/distributions.py:2103: FutureWarning: The `axis` variable is no longer used and will be removed. Instead, assign variables directly to `x` or `y`.\n",
      "  warnings.warn(msg, FutureWarning)\n",
      "/Library/Frameworks/Python.framework/Versions/3.10/lib/python3.10/site-packages/seaborn/distributions.py:2619: FutureWarning: `distplot` is a deprecated function and will be removed in a future version. Please adapt your code to use either `displot` (a figure-level function with similar flexibility) or `histplot` (an axes-level function for histograms).\n",
      "  warnings.warn(msg, FutureWarning)\n",
      "/Library/Frameworks/Python.framework/Versions/3.10/lib/python3.10/site-packages/seaborn/distributions.py:2103: FutureWarning: The `axis` variable is no longer used and will be removed. Instead, assign variables directly to `x` or `y`.\n",
      "  warnings.warn(msg, FutureWarning)\n",
      "/Library/Frameworks/Python.framework/Versions/3.10/lib/python3.10/site-packages/seaborn/distributions.py:2619: FutureWarning: `distplot` is a deprecated function and will be removed in a future version. Please adapt your code to use either `displot` (a figure-level function with similar flexibility) or `histplot` (an axes-level function for histograms).\n",
      "  warnings.warn(msg, FutureWarning)\n",
      "/Library/Frameworks/Python.framework/Versions/3.10/lib/python3.10/site-packages/seaborn/distributions.py:2103: FutureWarning: The `axis` variable is no longer used and will be removed. Instead, assign variables directly to `x` or `y`.\n",
      "  warnings.warn(msg, FutureWarning)\n",
      "/Library/Frameworks/Python.framework/Versions/3.10/lib/python3.10/site-packages/seaborn/distributions.py:2619: FutureWarning: `distplot` is a deprecated function and will be removed in a future version. Please adapt your code to use either `displot` (a figure-level function with similar flexibility) or `histplot` (an axes-level function for histograms).\n",
      "  warnings.warn(msg, FutureWarning)\n",
      "/Library/Frameworks/Python.framework/Versions/3.10/lib/python3.10/site-packages/seaborn/distributions.py:2103: FutureWarning: The `axis` variable is no longer used and will be removed. Instead, assign variables directly to `x` or `y`.\n",
      "  warnings.warn(msg, FutureWarning)\n",
      "/Library/Frameworks/Python.framework/Versions/3.10/lib/python3.10/site-packages/seaborn/distributions.py:2619: FutureWarning: `distplot` is a deprecated function and will be removed in a future version. Please adapt your code to use either `displot` (a figure-level function with similar flexibility) or `histplot` (an axes-level function for histograms).\n",
      "  warnings.warn(msg, FutureWarning)\n",
      "/Library/Frameworks/Python.framework/Versions/3.10/lib/python3.10/site-packages/seaborn/distributions.py:2103: FutureWarning: The `axis` variable is no longer used and will be removed. Instead, assign variables directly to `x` or `y`.\n",
      "  warnings.warn(msg, FutureWarning)\n"
     ]
    },
    {
     "data": {
      "image/png": "[encoded data removed]",
      "text/plain": [
       "<Figure size 640x480 with 9 Axes>"
      ]
     },
     "metadata": {},
     "output_type": "display_data"
    }
   ],
   "source": [
    "rows=3\n",
    "cols=3\n",
    "\n",
    "for index,(colsname,serie) in enumerate(df.iteritems()):\n",
    "    plt.subplot(rows,cols,index+1)\n",
    "    sns.distplot(serie,rug=True)\n",
    "    plt.axvline(np.mean(serie),color='tomato')\n",
    "    plt.tight_layout()"
   ]
  },
  {
   "cell_type": "code",
   "execution_count": 9,
   "metadata": {},
   "outputs": [
    {
     "data": {
      "text/html": [
       "<div>\n",
       "<style scoped>\n",
       "    .dataframe tbody tr th:only-of-type {\n",
       "        vertical-align: middle;\n",
       "    }\n",
       "\n",
       "    .dataframe tbody tr th {\n",
       "        vertical-align: top;\n",
       "    }\n",
       "\n",
       "    .dataframe thead th {\n",
       "        text-align: right;\n",
       "    }\n",
       "</style>\n",
       "<table border=\"1\" class=\"dataframe\">\n",
       "  <thead>\n",
       "    <tr style=\"text-align: right;\">\n",
       "      <th></th>\n",
       "      <th>Cement</th>\n",
       "      <th>Blast_Furnace_Slag</th>\n",
       "      <th>Fly_Ash</th>\n",
       "      <th>Water</th>\n",
       "      <th>Superplasticizer</th>\n",
       "      <th>Coarse_Aggregate</th>\n",
       "      <th>Fine_Aggregate</th>\n",
       "      <th>Age</th>\n",
       "      <th>Concrete_compressive_strength</th>\n",
       "    </tr>\n",
       "  </thead>\n",
       "  <tbody>\n",
       "    <tr>\n",
       "      <th>0</th>\n",
       "      <td>540.0</td>\n",
       "      <td>0.0</td>\n",
       "      <td>0.0</td>\n",
       "      <td>162.0</td>\n",
       "      <td>2.5</td>\n",
       "      <td>1040.0</td>\n",
       "      <td>676.0</td>\n",
       "      <td>28</td>\n",
       "      <td>79.99</td>\n",
       "    </tr>\n",
       "    <tr>\n",
       "      <th>1</th>\n",
       "      <td>540.0</td>\n",
       "      <td>0.0</td>\n",
       "      <td>0.0</td>\n",
       "      <td>162.0</td>\n",
       "      <td>2.5</td>\n",
       "      <td>1055.0</td>\n",
       "      <td>676.0</td>\n",
       "      <td>28</td>\n",
       "      <td>61.89</td>\n",
       "    </tr>\n",
       "    <tr>\n",
       "      <th>2</th>\n",
       "      <td>332.5</td>\n",
       "      <td>142.5</td>\n",
       "      <td>0.0</td>\n",
       "      <td>228.0</td>\n",
       "      <td>0.0</td>\n",
       "      <td>932.0</td>\n",
       "      <td>594.0</td>\n",
       "      <td>270</td>\n",
       "      <td>40.27</td>\n",
       "    </tr>\n",
       "    <tr>\n",
       "      <th>3</th>\n",
       "      <td>332.5</td>\n",
       "      <td>142.5</td>\n",
       "      <td>0.0</td>\n",
       "      <td>228.0</td>\n",
       "      <td>0.0</td>\n",
       "      <td>932.0</td>\n",
       "      <td>594.0</td>\n",
       "      <td>365</td>\n",
       "      <td>41.05</td>\n",
       "    </tr>\n",
       "    <tr>\n",
       "      <th>4</th>\n",
       "      <td>198.6</td>\n",
       "      <td>132.4</td>\n",
       "      <td>0.0</td>\n",
       "      <td>192.0</td>\n",
       "      <td>0.0</td>\n",
       "      <td>978.4</td>\n",
       "      <td>825.5</td>\n",
       "      <td>360</td>\n",
       "      <td>44.30</td>\n",
       "    </tr>\n",
       "  </tbody>\n",
       "</table>\n",
       "</div>"
      ],
      "text/plain": [
       "   Cement  Blast_Furnace_Slag  Fly_Ash  Water  Superplasticizer  \\\n",
       "0   540.0                 0.0      0.0  162.0               2.5   \n",
       "1   540.0                 0.0      0.0  162.0               2.5   \n",
       "2   332.5               142.5      0.0  228.0               0.0   \n",
       "3   332.5               142.5      0.0  228.0               0.0   \n",
       "4   198.6               132.4      0.0  192.0               0.0   \n",
       "\n",
       "   Coarse_Aggregate  Fine_Aggregate  Age  Concrete_compressive_strength  \n",
       "0            1040.0           676.0   28                          79.99  \n",
       "1            1055.0           676.0   28                          61.89  \n",
       "2             932.0           594.0  270                          40.27  \n",
       "3             932.0           594.0  365                          41.05  \n",
       "4             978.4           825.5  360                          44.30  "
      ]
     },
     "execution_count": 9,
     "metadata": {},
     "output_type": "execute_result"
    }
   ],
   "source": [
    "df.head(5)"
   ]
  },
  {
   "cell_type": "code",
   "execution_count": 10,
   "metadata": {},
   "outputs": [
    {
     "data": {
      "text/plain": [
       "Index(['Cement', 'Blast_Furnace_Slag', 'Fly_Ash', 'Water', 'Superplasticizer',\n",
       "       'Coarse_Aggregate', 'Fine_Aggregate', 'Age',\n",
       "       'Concrete_compressive_strength'],\n",
       "      dtype='object')"
      ]
     },
     "execution_count": 10,
     "metadata": {},
     "output_type": "execute_result"
    }
   ],
   "source": [
    "df.columns"
   ]
  },
  {
   "cell_type": "code",
   "execution_count": 11,
   "metadata": {},
   "outputs": [],
   "source": [
    "xcols=['Cement', 'Blast_Furnace_Slag', 'Fly_Ash', 'Water', 'Superplasticizer',\n",
    "       'Coarse_Aggregate', 'Fine_Aggregate', 'Age']\n",
    "X=df[xcols]\n",
    "y=df.Concrete_compressive_strength\n",
    "Xtrain,Xtest,ytrain,ytest=train_test_split(X,y,test_size=0.3,random_state=11238)\n",
    "scaler=StandardScaler()\n",
    "scaler.fit(Xtrain)\n",
    "Xtrain=scaler.transform(Xtrain)\n",
    "Xtest=scaler.transform(Xtest)\n",
    "linearGAM=LinearGAM().fit(Xtrain,ytrain)"
   ]
  },
  {
   "cell_type": "code",
   "execution_count": 12,
   "metadata": {},
   "outputs": [],
   "source": [
    "ypred=linearGAM.predict(Xtest)"
   ]
  },
  {
   "cell_type": "code",
   "execution_count": 13,
   "metadata": {},
   "outputs": [
    {
     "data": {
      "text/plain": [
       "5.544793213152419"
      ]
     },
     "execution_count": 13,
     "metadata": {},
     "output_type": "execute_result"
    }
   ],
   "source": [
    "np.sqrt(mean_squared_error(ytest,ypred))"
   ]
  },
  {
   "cell_type": "code",
   "execution_count": 14,
   "metadata": {},
   "outputs": [
    {
     "name": "stdout",
     "output_type": "stream",
     "text": [
      "LinearGAM                                                                                                 \n",
      "=============================================== ==========================================================\n",
      "Distribution:                        NormalDist Effective DoF:                                     80.2121\n",
      "Link Function:                     IdentityLink Log Likelihood:                                 -3043.3317\n",
      "Number of Samples:                          721 AIC:                                             6249.0876\n",
      "                                                AICc:                                            6269.9916\n",
      "                                                GCV:                                               33.3179\n",
      "                                                Scale:                                             26.7201\n",
      "                                                Pseudo R-Squared:                                   0.9151\n",
      "==========================================================================================================\n",
      "Feature Function                  Lambda               Rank         EDoF         P > x        Sig. Code   \n",
      "================================= ==================== ============ ============ ============ ============\n",
      "s(0)                              [0.6]                20           15.1         1.11e-16     ***         \n",
      "s(1)                              [0.6]                20           12.2         1.11e-16     ***         \n",
      "s(2)                              [0.6]                20           10.7         8.88e-16     ***         \n",
      "s(3)                              [0.6]                20           10.7         1.11e-16     ***         \n",
      "s(4)                              [0.6]                20           8.1          4.23e-13     ***         \n",
      "s(5)                              [0.6]                20           9.6          8.13e-06     ***         \n",
      "s(6)                              [0.6]                20           7.1          1.11e-16     ***         \n",
      "s(7)                              [0.6]                20           6.7          1.11e-16     ***         \n",
      "intercept                                              1            0.0          1.11e-16     ***         \n",
      "==========================================================================================================\n",
      "Significance codes:  0 '***' 0.001 '**' 0.01 '*' 0.05 '.' 0.1 ' ' 1\n",
      "\n",
      "WARNING: Fitting splines and a linear function to a feature introduces a model identifiability problem\n",
      "         which can cause p-values to appear significant when they are not.\n",
      "\n",
      "WARNING: p-values calculated in this manner behave correctly for un-penalized models or models with\n",
      "         known smoothing parameters, but when smoothing parameters have been estimated, the p-values\n",
      "         are typically lower than they should be, meaning that the tests reject the null too readily.\n"
     ]
    },
    {
     "name": "stderr",
     "output_type": "stream",
     "text": [
      "/var/folders/cv/gdb475fx4q9by26c926zrqmw0000gn/T/ipykernel_14655/474004105.py:1: UserWarning: KNOWN BUG: p-values computed in this summary are likely much smaller than they should be. \n",
      " \n",
      "Please do not make inferences based on these values! \n",
      "\n",
      "Collaborate on a solution, and stay up to date at: \n",
      "github.com/dswah/pyGAM/issues/163 \n",
      "\n",
      "  linearGAM.summary()\n"
     ]
    }
   ],
   "source": [
    "linearGAM.summary()"
   ]
  },
  {
   "cell_type": "code",
   "execution_count": 18,
   "metadata": {},
   "outputs": [
    {
     "name": "stderr",
     "output_type": "stream",
     "text": [
      "  0% (62 of 6561) |                      | Elapsed Time: 0:00:15 ETA:   0:26:52/Library/Frameworks/Python.framework/Versions/3.10/lib/python3.10/site-packages/pygam/pygam.py:225: SyntaxWarning: \"is not\" with a literal. Did you mean \"!=\"?\n",
      "  if (self.terms is not 'auto') and not (isinstance(self.terms, (TermList, Term, type(None)))):\n",
      "/Library/Frameworks/Python.framework/Versions/3.10/lib/python3.10/site-packages/pygam/pygam.py:276: SyntaxWarning: \"is\" with a literal. Did you mean \"==\"?\n",
      "  if self.terms is 'auto':\n",
      "/Library/Frameworks/Python.framework/Versions/3.10/lib/python3.10/site-packages/pygam/pygam.py:225: SyntaxWarning: \"is not\" with a literal. Did you mean \"!=\"?\n",
      "  if (self.terms is not 'auto') and not (isinstance(self.terms, (TermList, Term, type(None)))):\n",
      "/Library/Frameworks/Python.framework/Versions/3.10/lib/python3.10/site-packages/pygam/pygam.py:276: SyntaxWarning: \"is\" with a literal. Did you mean \"==\"?\n",
      "  if self.terms is 'auto':\n",
      "/Library/Frameworks/Python.framework/Versions/3.10/lib/python3.10/site-packages/pygam/pygam.py:225: SyntaxWarning: \"is not\" with a literal. Did you mean \"!=\"?\n",
      "  if (self.terms is not 'auto') and not (isinstance(self.terms, (TermList, Term, type(None)))):\n",
      "/Library/Frameworks/Python.framework/Versions/3.10/lib/python3.10/site-packages/pygam/pygam.py:276: SyntaxWarning: \"is\" with a literal. Did you mean \"==\"?\n",
      "  if self.terms is 'auto':\n",
      "/Library/Frameworks/Python.framework/Versions/3.10/lib/python3.10/site-packages/pygam/pygam.py:225: SyntaxWarning: \"is not\" with a literal. Did you mean \"!=\"?\n",
      "  if (self.terms is not 'auto') and not (isinstance(self.terms, (TermList, Term, type(None)))):\n",
      "/Library/Frameworks/Python.framework/Versions/3.10/lib/python3.10/site-packages/pygam/pygam.py:276: SyntaxWarning: \"is\" with a literal. Did you mean \"==\"?\n",
      "  if self.terms is 'auto':\n"
     ]
    },
    {
     "ename": "KeyboardInterrupt",
     "evalue": "",
     "output_type": "error",
     "traceback": [
      "\u001b[0;31m---------------------------------------------------------------------------\u001b[0m",
      "\u001b[0;31mKeyboardInterrupt\u001b[0m                         Traceback (most recent call last)",
      "\u001b[1;32m/Users/sightes/Desktop/desafiolatam/Desafio_1.ipynb Celda 15\u001b[0m in \u001b[0;36m<cell line: 3>\u001b[0;34m()\u001b[0m\n\u001b[1;32m      <a href='vscode-notebook-cell:/Users/sightes/Desktop/desafiolatam/Desafio_1.ipynb#X30sZmlsZQ%3D%3D?line=0'>1</a>\u001b[0m lam \u001b[39m=\u001b[39m np\u001b[39m.\u001b[39mlogspace(\u001b[39m-\u001b[39m\u001b[39m10\u001b[39m, \u001b[39m10\u001b[39m, \u001b[39m3\u001b[39m)\n\u001b[1;32m      <a href='vscode-notebook-cell:/Users/sightes/Desktop/desafiolatam/Desafio_1.ipynb#X30sZmlsZQ%3D%3D?line=1'>2</a>\u001b[0m lams \u001b[39m=\u001b[39m [lam] \u001b[39m*\u001b[39m \u001b[39m8\u001b[39m\n\u001b[0;32m----> <a href='vscode-notebook-cell:/Users/sightes/Desktop/desafiolatam/Desafio_1.ipynb#X30sZmlsZQ%3D%3D?line=2'>3</a>\u001b[0m linearGAM\u001b[39m.\u001b[39;49mgridsearch(Xtrain, ytrain, lam\u001b[39m=\u001b[39;49mlams)\n",
      "File \u001b[0;32m/Library/Frameworks/Python.framework/Versions/3.10/lib/python3.10/site-packages/pygam/pygam.py:1894\u001b[0m, in \u001b[0;36mGAM.gridsearch\u001b[0;34m(self, X, y, weights, return_scores, keep_best, objective, progress, **param_grids)\u001b[0m\n\u001b[1;32m   1892\u001b[0m         coef \u001b[39m=\u001b[39m models[\u001b[39m-\u001b[39m\u001b[39m1\u001b[39m]\u001b[39m.\u001b[39mcoef_\n\u001b[1;32m   1893\u001b[0m         gam\u001b[39m.\u001b[39mset_params(coef_\u001b[39m=\u001b[39mcoef, force\u001b[39m=\u001b[39m\u001b[39mTrue\u001b[39;00m, verbose\u001b[39m=\u001b[39m\u001b[39mFalse\u001b[39;00m)\n\u001b[0;32m-> 1894\u001b[0m     gam\u001b[39m.\u001b[39;49mfit(X, y, weights)\n\u001b[1;32m   1896\u001b[0m \u001b[39mexcept\u001b[39;00m \u001b[39mValueError\u001b[39;00m \u001b[39mas\u001b[39;00m error:\n\u001b[1;32m   1897\u001b[0m     msg \u001b[39m=\u001b[39m \u001b[39mstr\u001b[39m(error) \u001b[39m+\u001b[39m \u001b[39m'\u001b[39m\u001b[39m\\n\u001b[39;00m\u001b[39mon model with params:\u001b[39m\u001b[39m\\n\u001b[39;00m\u001b[39m'\u001b[39m \u001b[39m+\u001b[39m \u001b[39mstr\u001b[39m(param_grid)\n",
      "File \u001b[0;32m/Library/Frameworks/Python.framework/Versions/3.10/lib/python3.10/site-packages/pygam/pygam.py:920\u001b[0m, in \u001b[0;36mGAM.fit\u001b[0;34m(self, X, y, weights)\u001b[0m\n\u001b[1;32m    917\u001b[0m \u001b[39mself\u001b[39m\u001b[39m.\u001b[39mstatistics_[\u001b[39m'\u001b[39m\u001b[39mm_features\u001b[39m\u001b[39m'\u001b[39m] \u001b[39m=\u001b[39m X\u001b[39m.\u001b[39mshape[\u001b[39m1\u001b[39m]\n\u001b[1;32m    919\u001b[0m \u001b[39m# optimize\u001b[39;00m\n\u001b[0;32m--> 920\u001b[0m \u001b[39mself\u001b[39;49m\u001b[39m.\u001b[39;49m_pirls(X, y, weights)\n\u001b[1;32m    921\u001b[0m \u001b[39m# if self._opt == 0:\u001b[39;00m\n\u001b[1;32m    922\u001b[0m \u001b[39m#     self._pirls(X, y, weights)\u001b[39;00m\n\u001b[1;32m    923\u001b[0m \u001b[39m# if self._opt == 1:\u001b[39;00m\n\u001b[1;32m    924\u001b[0m \u001b[39m#     self._pirls_naive(X, y)\u001b[39;00m\n\u001b[1;32m    925\u001b[0m \u001b[39mreturn\u001b[39;00m \u001b[39mself\u001b[39m\n",
      "File \u001b[0;32m/Library/Frameworks/Python.framework/Versions/3.10/lib/python3.10/site-packages/pygam/pygam.py:769\u001b[0m, in \u001b[0;36mGAM._pirls\u001b[0;34m(self, X, Y, weights)\u001b[0m\n\u001b[1;32m    766\u001b[0m         \u001b[39mbreak\u001b[39;00m\n\u001b[1;32m    768\u001b[0m \u001b[39m# estimate statistics even if not converged\u001b[39;00m\n\u001b[0;32m--> 769\u001b[0m \u001b[39mself\u001b[39;49m\u001b[39m.\u001b[39;49m_estimate_model_statistics(Y, modelmat, inner\u001b[39m=\u001b[39;49m\u001b[39mNone\u001b[39;49;00m, BW\u001b[39m=\u001b[39;49mWB\u001b[39m.\u001b[39;49mT, B\u001b[39m=\u001b[39;49mB,\n\u001b[1;32m    770\u001b[0m                                 weights\u001b[39m=\u001b[39;49mweights, U1\u001b[39m=\u001b[39;49mU1)\n\u001b[1;32m    771\u001b[0m \u001b[39mif\u001b[39;00m diff \u001b[39m<\u001b[39m \u001b[39mself\u001b[39m\u001b[39m.\u001b[39mtol:\n\u001b[1;32m    772\u001b[0m     \u001b[39mreturn\u001b[39;00m\n",
      "File \u001b[0;32m/Library/Frameworks/Python.framework/Versions/3.10/lib/python3.10/site-packages/pygam/pygam.py:1017\u001b[0m, in \u001b[0;36mGAM._estimate_model_statistics\u001b[0;34m(self, y, modelmat, inner, BW, B, weights, U1)\u001b[0m\n\u001b[1;32m   1015\u001b[0m     \u001b[39mself\u001b[39m\u001b[39m.\u001b[39mdistribution\u001b[39m.\u001b[39mscale \u001b[39m=\u001b[39m \u001b[39mself\u001b[39m\u001b[39m.\u001b[39mdistribution\u001b[39m.\u001b[39mphi(y\u001b[39m=\u001b[39my, mu\u001b[39m=\u001b[39mmu, edof\u001b[39m=\u001b[39m\u001b[39mself\u001b[39m\u001b[39m.\u001b[39mstatistics_[\u001b[39m'\u001b[39m\u001b[39medof\u001b[39m\u001b[39m'\u001b[39m], weights\u001b[39m=\u001b[39mweights)\n\u001b[1;32m   1016\u001b[0m \u001b[39mself\u001b[39m\u001b[39m.\u001b[39mstatistics_[\u001b[39m'\u001b[39m\u001b[39mscale\u001b[39m\u001b[39m'\u001b[39m] \u001b[39m=\u001b[39m \u001b[39mself\u001b[39m\u001b[39m.\u001b[39mdistribution\u001b[39m.\u001b[39mscale\n\u001b[0;32m-> 1017\u001b[0m \u001b[39mself\u001b[39m\u001b[39m.\u001b[39mstatistics_[\u001b[39m'\u001b[39m\u001b[39mcov\u001b[39m\u001b[39m'\u001b[39m] \u001b[39m=\u001b[39m (B\u001b[39m.\u001b[39;49mdot(B\u001b[39m.\u001b[39;49mT)) \u001b[39m*\u001b[39m \u001b[39mself\u001b[39m\u001b[39m.\u001b[39mdistribution\u001b[39m.\u001b[39mscale \u001b[39m# parameter covariances. no need to remove a W because we are using W^2. Wood pg 184\u001b[39;00m\n\u001b[1;32m   1018\u001b[0m \u001b[39mself\u001b[39m\u001b[39m.\u001b[39mstatistics_[\u001b[39m'\u001b[39m\u001b[39mse\u001b[39m\u001b[39m'\u001b[39m] \u001b[39m=\u001b[39m \u001b[39mself\u001b[39m\u001b[39m.\u001b[39mstatistics_[\u001b[39m'\u001b[39m\u001b[39mcov\u001b[39m\u001b[39m'\u001b[39m]\u001b[39m.\u001b[39mdiagonal()\u001b[39m*\u001b[39m\u001b[39m*\u001b[39m\u001b[39m0.5\u001b[39m\n\u001b[1;32m   1019\u001b[0m \u001b[39mself\u001b[39m\u001b[39m.\u001b[39mstatistics_[\u001b[39m'\u001b[39m\u001b[39mAIC\u001b[39m\u001b[39m'\u001b[39m] \u001b[39m=\u001b[39m \u001b[39mself\u001b[39m\u001b[39m.\u001b[39m_estimate_AIC(y\u001b[39m=\u001b[39my, mu\u001b[39m=\u001b[39mmu, weights\u001b[39m=\u001b[39mweights)\n",
      "\u001b[0;31mKeyboardInterrupt\u001b[0m: "
     ]
    }
   ],
   "source": [
    "lam = np.logspace(-3, 3, 3)\n",
    "lams = [lam] * 8\n",
    "linearGAM.gridsearch(Xtrain, ytrain, lam=lams)"
   ]
  }
 ],
 "metadata": {
  "kernelspec": {
   "display_name": "Python 3.10.4 ('dl')",
   "language": "python",
   "name": "python3"
  },
  "language_info": {
   "codemirror_mode": {
    "name": "ipython",
    "version": 3
   },
   "file_extension": ".py",
   "mimetype": "text/x-python",
   "name": "python",
   "nbconvert_exporter": "python",
   "pygments_lexer": "ipython3",
   "version": "3.10.4"
  },
  "orig_nbformat": 4,
  "vscode": {
   "interpreter": {
    "hash": "c9ccd8639d7ac6d8ae46f08631d02de0d1c9f4a08850208985333be71082afd9"
   }
  }
 },
 "nbformat": 4,
 "nbformat_minor": 2
}
