{
 "cells": [
  {
   "cell_type": "code",
   "execution_count": 1,
   "metadata": {},
   "outputs": [],
   "source": [
    "import pandas as pd\n",
    "import numpy as np\n",
    "import matplotlib.pyplot as plt\n",
    "import seaborn as sns\n",
    "import scipy as sp\n",
    "import statsmodels as sm\n",
    "import sklearn as sk\n",
    "from sklearn.linear_model import LogisticRegression\n",
    "from sklearn.model_selection import train_test_split\n",
    "from sklearn.metrics import roc_curve, confusion_matrix, classification_report, recall_score, f1_score, precision_score, plot_roc_curve, RocCurveDisplay, auc, roc_auc_score, accuracy_score\n",
    "from sklearn.preprocessing import StandardScaler, OneHotEncoder, OrdinalEncoder\n",
    "from feature_engine.wrappers import SklearnTransformerWrapper\n",
    "from sklearn.pipeline import Pipeline\n",
    "\n",
    "from pygam import GAM, LinearGAM\n",
    "from pygam import GAM, s, te\n",
    "#librería para análisis exploratorio\n",
    "# import pandas_profiling\n",
    "from pandas_profiling import ProfileReport\n",
    "\n",
    "import sys\n",
    "sys.path.append(\"..\")\n",
    "import helpers as hp"
   ]
  },
  {
   "cell_type": "code",
   "execution_count": 2,
   "metadata": {},
   "outputs": [
    {
     "data": {
      "text/html": [
       "<div>\n",
       "<style scoped>\n",
       "    .dataframe tbody tr th:only-of-type {\n",
       "        vertical-align: middle;\n",
       "    }\n",
       "\n",
       "    .dataframe tbody tr th {\n",
       "        vertical-align: top;\n",
       "    }\n",
       "\n",
       "    .dataframe thead th {\n",
       "        text-align: right;\n",
       "    }\n",
       "</style>\n",
       "<table border=\"1\" class=\"dataframe\">\n",
       "  <thead>\n",
       "    <tr style=\"text-align: right;\">\n",
       "      <th></th>\n",
       "      <th>Cement (component 1)(kg in a m^3 mixture)</th>\n",
       "      <th>Blast Furnace Slag (component 2)(kg in a m^3 mixture)</th>\n",
       "      <th>Fly Ash (component 3)(kg in a m^3 mixture)</th>\n",
       "      <th>Water  (component 4)(kg in a m^3 mixture)</th>\n",
       "      <th>Superplasticizer (component 5)(kg in a m^3 mixture)</th>\n",
       "      <th>Coarse Aggregate  (component 6)(kg in a m^3 mixture)</th>\n",
       "      <th>Fine Aggregate (component 7)(kg in a m^3 mixture)</th>\n",
       "      <th>Age (day)</th>\n",
       "      <th>Concrete compressive strength(MPa, megapascals)</th>\n",
       "    </tr>\n",
       "  </thead>\n",
       "  <tbody>\n",
       "    <tr>\n",
       "      <th>0</th>\n",
       "      <td>540.0</td>\n",
       "      <td>0.0</td>\n",
       "      <td>0.0</td>\n",
       "      <td>162.0</td>\n",
       "      <td>2.5</td>\n",
       "      <td>1040.0</td>\n",
       "      <td>676.0</td>\n",
       "      <td>28</td>\n",
       "      <td>79.99</td>\n",
       "    </tr>\n",
       "    <tr>\n",
       "      <th>1</th>\n",
       "      <td>540.0</td>\n",
       "      <td>0.0</td>\n",
       "      <td>0.0</td>\n",
       "      <td>162.0</td>\n",
       "      <td>2.5</td>\n",
       "      <td>1055.0</td>\n",
       "      <td>676.0</td>\n",
       "      <td>28</td>\n",
       "      <td>61.89</td>\n",
       "    </tr>\n",
       "    <tr>\n",
       "      <th>2</th>\n",
       "      <td>332.5</td>\n",
       "      <td>142.5</td>\n",
       "      <td>0.0</td>\n",
       "      <td>228.0</td>\n",
       "      <td>0.0</td>\n",
       "      <td>932.0</td>\n",
       "      <td>594.0</td>\n",
       "      <td>270</td>\n",
       "      <td>40.27</td>\n",
       "    </tr>\n",
       "    <tr>\n",
       "      <th>3</th>\n",
       "      <td>332.5</td>\n",
       "      <td>142.5</td>\n",
       "      <td>0.0</td>\n",
       "      <td>228.0</td>\n",
       "      <td>0.0</td>\n",
       "      <td>932.0</td>\n",
       "      <td>594.0</td>\n",
       "      <td>365</td>\n",
       "      <td>41.05</td>\n",
       "    </tr>\n",
       "    <tr>\n",
       "      <th>4</th>\n",
       "      <td>198.6</td>\n",
       "      <td>132.4</td>\n",
       "      <td>0.0</td>\n",
       "      <td>192.0</td>\n",
       "      <td>0.0</td>\n",
       "      <td>978.4</td>\n",
       "      <td>825.5</td>\n",
       "      <td>360</td>\n",
       "      <td>44.30</td>\n",
       "    </tr>\n",
       "  </tbody>\n",
       "</table>\n",
       "</div>"
      ],
      "text/plain": [
       "   Cement (component 1)(kg in a m^3 mixture)  \\\n",
       "0                                      540.0   \n",
       "1                                      540.0   \n",
       "2                                      332.5   \n",
       "3                                      332.5   \n",
       "4                                      198.6   \n",
       "\n",
       "   Blast Furnace Slag (component 2)(kg in a m^3 mixture)  \\\n",
       "0                                                0.0       \n",
       "1                                                0.0       \n",
       "2                                              142.5       \n",
       "3                                              142.5       \n",
       "4                                              132.4       \n",
       "\n",
       "   Fly Ash (component 3)(kg in a m^3 mixture)  \\\n",
       "0                                         0.0   \n",
       "1                                         0.0   \n",
       "2                                         0.0   \n",
       "3                                         0.0   \n",
       "4                                         0.0   \n",
       "\n",
       "   Water  (component 4)(kg in a m^3 mixture)  \\\n",
       "0                                      162.0   \n",
       "1                                      162.0   \n",
       "2                                      228.0   \n",
       "3                                      228.0   \n",
       "4                                      192.0   \n",
       "\n",
       "   Superplasticizer (component 5)(kg in a m^3 mixture)  \\\n",
       "0                                                2.5     \n",
       "1                                                2.5     \n",
       "2                                                0.0     \n",
       "3                                                0.0     \n",
       "4                                                0.0     \n",
       "\n",
       "   Coarse Aggregate  (component 6)(kg in a m^3 mixture)  \\\n",
       "0                                             1040.0      \n",
       "1                                             1055.0      \n",
       "2                                              932.0      \n",
       "3                                              932.0      \n",
       "4                                              978.4      \n",
       "\n",
       "   Fine Aggregate (component 7)(kg in a m^3 mixture)  Age (day)  \\\n",
       "0                                              676.0         28   \n",
       "1                                              676.0         28   \n",
       "2                                              594.0        270   \n",
       "3                                              594.0        365   \n",
       "4                                              825.5        360   \n",
       "\n",
       "   Concrete compressive strength(MPa, megapascals)   \n",
       "0                                             79.99  \n",
       "1                                             61.89  \n",
       "2                                             40.27  \n",
       "3                                             41.05  \n",
       "4                                             44.30  "
      ]
     },
     "execution_count": 2,
     "metadata": {},
     "output_type": "execute_result"
    }
   ],
   "source": [
    "df = pd.read_csv('compresive_strength_concrete.csv')\n",
    "df.head()"
   ]
  },
  {
   "cell_type": "code",
   "execution_count": 3,
   "metadata": {},
   "outputs": [],
   "source": [
    "rename_variables = {\n",
    "    \"Cement (component 1)(kg in a m^3 mixture)\": \"cemento\",\n",
    "    \"Blast Furnace Slag (component 2)(kg in a m^3 mixture)\" : \"blast_furnace_slag\",\n",
    "    \"Fly Ash (component 3)(kg in a m^3 mixture)\" : \"ceniza_volatil\",\n",
    "    \"Water  (component 4)(kg in a m^3 mixture)\": \"agua\",\n",
    "    \"Superplasticizer (component 5)(kg in a m^3 mixture)\" : \"superplasticidad\",\n",
    "    \"Coarse Aggregate  (component 6)(kg in a m^3 mixture)\" : \"agregado_grueso\",\n",
    "    \"Fine Aggregate (component 7)(kg in a m^3 mixture)\" : \"agregado_fino\",\n",
    "    \"Age (day)\" : \"edad\",\n",
    "    \"Concrete compressive strength(MPa, megapascals) \" : \"concrete_compressive_strength\",\n",
    "}\n",
    "df.rename(columns=rename_variables, inplace=True)\n",
    "df.drop(columns = ['agua'], inplace=True)"
   ]
  },
  {
   "cell_type": "code",
   "execution_count": 4,
   "metadata": {},
   "outputs": [],
   "source": [
    "# hp.describe_variables(df)"
   ]
  },
  {
   "cell_type": "code",
   "execution_count": 5,
   "metadata": {},
   "outputs": [],
   "source": [
    "#ejecutamos pairplot\n",
    "# sns.pairplot(df)\n",
    "\n",
    "# profile = ProfileReport(df, title=\"Pandas Profiling Report\", explorative=True)\n",
    "# profile.to_notebook_iframe()"
   ]
  },
  {
   "cell_type": "code",
   "execution_count": 6,
   "metadata": {},
   "outputs": [],
   "source": [
    "X = df.drop(columns = [\"concrete_compressive_strength\"])\n",
    "y = df.concrete_compressive_strength\n",
    "\n",
    "X_train, X_test, y_train, y_test = train_test_split(X,y,test_size=0.3,random_state=42)"
   ]
  },
  {
   "cell_type": "code",
   "execution_count": 7,
   "metadata": {},
   "outputs": [],
   "source": [
    "from feature_engine.wrappers import SklearnTransformerWrapper\n",
    "\n",
    "# pre-processing transformers\n",
    "\n",
    "# imputar? No, no tenemos muestras nulas a priori\n",
    "\n",
    "# escalar? Si\n",
    "sc = SklearnTransformerWrapper(transformer = StandardScaler(), variables = X_train.columns.to_list())\n",
    "sc.fit(X_train,y_train)\n",
    "\n",
    "X_train = sc.transform(X_train)\n",
    "X_test = sc.transform(X_test)\n",
    "\n",
    "# encoding? No, no hay variables categoricas"
   ]
  },
  {
   "cell_type": "code",
   "execution_count": 8,
   "metadata": {},
   "outputs": [],
   "source": [
    "# Modelo sin regularización (Probablemente sobreajuste)\n",
    "gam_sin_reg = LinearGAM().fit(X_train, y_train)\n",
    "# y_pred_reg = gam_no_reg.predict(X_test)"
   ]
  },
  {
   "cell_type": "code",
   "execution_count": 9,
   "metadata": {},
   "outputs": [
    {
     "name": "stdout",
     "output_type": "stream",
     "text": [
      "LinearGAM                                                                                                 \n",
      "=============================================== ==========================================================\n",
      "Distribution:                        NormalDist Effective DoF:                                     87.8666\n",
      "Link Function:                     IdentityLink Log Likelihood:                                 -3036.4767\n",
      "Number of Samples:                          721 AIC:                                             6250.6866\n",
      "                                                AICc:                                            6275.9939\n",
      "                                                GCV:                                                33.789\n",
      "                                                Scale:                                             26.4684\n",
      "                                                Pseudo R-Squared:                                   0.9176\n",
      "==========================================================================================================\n",
      "Feature Function                  Lambda               Rank         EDoF         P > x        Sig. Code   \n",
      "================================= ==================== ============ ============ ============ ============\n",
      "s(0)                              [1.]                 20           14.6         1.11e-16     ***         \n",
      "s(1)                              [1.]                 20           11.9         1.11e-16     ***         \n",
      "s(2)                              [0.001]              20           14.1         1.11e-16     ***         \n",
      "s(3)                              [0.001]              20           13.9         6.31e-12     ***         \n",
      "s(4)                              [1.]                 20           10.7         3.49e-13     ***         \n",
      "s(5)                              [0.001]              20           12.2         1.11e-16     ***         \n",
      "s(6)                              [0.001]              20           10.4         1.11e-16     ***         \n",
      "intercept                                              1            0.0          1.11e-16     ***         \n",
      "==========================================================================================================\n",
      "Significance codes:  0 '***' 0.001 '**' 0.01 '*' 0.05 '.' 0.1 ' ' 1\n",
      "\n",
      "WARNING: Fitting splines and a linear function to a feature introduces a model identifiability problem\n",
      "         which can cause p-values to appear significant when they are not.\n",
      "\n",
      "WARNING: p-values calculated in this manner behave correctly for un-penalized models or models with\n",
      "         known smoothing parameters, but when smoothing parameters have been estimated, the p-values\n",
      "         are typically lower than they should be, meaning that the tests reject the null too readily.\n"
     ]
    },
    {
     "name": "stderr",
     "output_type": "stream",
     "text": [
      "C:\\Users\\tomas\\AppData\\Local\\Temp\\ipykernel_18776\\1724567365.py:11: UserWarning: KNOWN BUG: p-values computed in this summary are likely much smaller than they should be. \n",
      " \n",
      "Please do not make inferences based on these values! \n",
      "\n",
      "Collaborate on a solution, and stay up to date at: \n",
      "github.com/dswah/pyGAM/issues/163 \n",
      "\n",
      "  gam.summary()\n"
     ]
    }
   ],
   "source": [
    "# Modelo con regularización (Probablemente subajuste)\n",
    "# gam = LinearGAM(n_splines=25)\n",
    "# gam = LinearGAM(s(0) + s(1) + s(2)+ s(3) + s(4) + s(5) + s(6) + s(7), fit_intercept=True) # 8 vars\n",
    "gam = LinearGAM(s(0) + s(1) + s(2)+ s(3) + s(4) + s(5) + s(6), fit_intercept=True)\n",
    "\n",
    "lam = np.logspace(-3,3,3)\n",
    "lams = [lam] * len(X_train.columns)\n",
    "\n",
    "lams\n",
    "gam.gridsearch(X_train.values, y_train.values, lam=lams, progress=False)\n",
    "gam.summary()"
   ]
  },
  {
   "cell_type": "code",
   "execution_count": 10,
   "metadata": {},
   "outputs": [
    {
     "name": "stdout",
     "output_type": "stream",
     "text": [
      "Test R^2: 0.857\n",
      "Test RMSE: 6.228\n",
      "Test Median Absolute Error:3.865\n",
      "Test R^2: 0.855\n",
      "Test RMSE: 6.262\n",
      "Test Median Absolute Error:4.164\n"
     ]
    },
    {
     "data": {
      "text/html": [
       "<table><tr><th>Models</th><th>r2_score</th><th>rmse</th><th>mae</th></tr><tr><td>gam</td><td>0.8570</td><td>6.2280</td><td>3.8650</td></tr><tr><td>gam_sin_reg</td><td>0.8550</td><td>6.2620</td><td>4.1640</td></tr>"
      ],
      "text/plain": [
       "<IPython.core.display.HTML object>"
      ]
     },
     "metadata": {},
     "output_type": "display_data"
    }
   ],
   "source": [
    "gam_scores = hp.report_regression_metrics(gam, X_test, y_test)\n",
    "gam_sin_reg_scores = hp.report_regression_metrics(gam_sin_reg, X_test, y_test)\n",
    "\n",
    "models = {'gam':gam_scores,'gam_sin_reg':gam_sin_reg_scores}\n",
    "hp.reporte_modelos(models)\n",
    "\n",
    "\n",
    "# def reporte_modelos2(models_dict):\n",
    "#     # models_dict\n",
    "#     models = list(models_dict.keys())\n",
    "#     metrics = models_dict[models[0]].keys()\n",
    "#     table_str = '<table><tr><th>Models</th><th>' + '</th><th>'.join(metrics) + '</th><th>Nº de variables</th><th>fit time</th><th>score time</th></tr>'\n",
    "#     for model in models:\n",
    "#         table_str += '<tr>'\n",
    "#         table_str += f\"<td>{model}</td>\"\n",
    "#         for metric in metrics:\n",
    "#             table_str += f\"<td>{models_dict[model][metric]:.4f}</td>\"\n",
    "#         table_str += '</tr>'\n",
    "#     display(HTML(table_str))\n",
    "# reporte_modelos2(models)\n"
   ]
  },
  {
   "cell_type": "code",
   "execution_count": 11,
   "metadata": {},
   "outputs": [],
   "source": [
    "# XX = gam.generate_X_grid(term=0, n=500)\n",
    "\n",
    "# plt.plot(XX, gam.predict(XX), 'r--')\n",
    "# XX, \n",
    "# plt.plot(XX, gam.prediction_intervals(XX, width=.95), color='b', ls='--')\n",
    "# YY = gam.prediction_intervals(XX, width=.95)\n",
    "# plt.fill_between(XX, gam.prediction_intervals(XX, width=.95)[0], gam.prediction_intervals(XX, width=.95)[1],color='b',alpha=.1)\n",
    "\n",
    "# plt.scatter(X.values, y.values, facecolor='gray', edgecolors='none')\n",
    "# plt.title('95% prediction interval')\n"
   ]
  },
  {
   "cell_type": "code",
   "execution_count": 12,
   "metadata": {},
   "outputs": [
    {
     "data": {
      "text/plain": [
       "1       0.0\n",
       "2      -1.3\n",
       "3      -2.7\n",
       "4       0.0\n",
       "5      -2.7\n",
       "       ... \n",
       "129   -14.7\n",
       "130    -2.7\n",
       "131    10.7\n",
       "132    -2.7\n",
       "133    10.7\n",
       "Name: accel, Length: 133, dtype: float64"
      ]
     },
     "execution_count": 12,
     "metadata": {},
     "output_type": "execute_result"
    }
   ],
   "source": [
    "from pygam.datasets import mcycle\n",
    "\n",
    "X, y = mcycle(return_X_y=True)\n",
    "y"
   ]
  },
  {
   "cell_type": "code",
   "execution_count": null,
   "metadata": {},
   "outputs": [],
   "source": []
  }
 ],
 "metadata": {
  "kernelspec": {
   "display_name": "Python 3.10.4 ('dl')",
   "language": "python",
   "name": "python3"
  },
  "language_info": {
   "codemirror_mode": {
    "name": "ipython",
    "version": 3
   },
   "file_extension": ".py",
   "mimetype": "text/x-python",
   "name": "python",
   "nbconvert_exporter": "python",
   "pygments_lexer": "ipython3",
   "version": "3.10.4"
  },
  "orig_nbformat": 4,
  "vscode": {
   "interpreter": {
    "hash": "c9ccd8639d7ac6d8ae46f08631d02de0d1c9f4a08850208985333be71082afd9"
   }
  }
 },
 "nbformat": 4,
 "nbformat_minor": 2
}
