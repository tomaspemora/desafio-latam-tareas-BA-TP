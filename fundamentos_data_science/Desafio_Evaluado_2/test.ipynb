{
 "cells": [
  {
   "cell_type": "code",
   "execution_count": 1,
   "metadata": {},
   "outputs": [],
   "source": [
    "import pandas as pd\n",
    "import numpy as np\n",
    "\n",
    "def generate_pet(n):\n",
    "    pet = np.random.choice(['Perro', 'Gato'], n)\n",
    "    return pet\n",
    "\n",
    "\n",
    "def simulate_pets_prob(n):\n",
    "    np.random.seed(1)\n",
    "    contador_1 = 0\n",
    "    contador_2 = 0\n",
    "    contador_3 = 0\n",
    "\n",
    "    young_pet = generate_pet(n)\n",
    "    old_pet = generate_pet(n)\n",
    "\n",
    "    for ypet, opet in zip(young_pet,old_pet):\n",
    "        if ypet == 'Perro' or opet == 'Perro':\n",
    "            contador_1 += 1\n",
    "        if opet == 'Perro':\n",
    "            contador_2 += 1\n",
    "        if ypet == 'Perro' and opet == 'Perro':\n",
    "            contador_3 += 1\n",
    "\n",
    "print(f'La probabilidad de que al menos 1 de las mascotas sea perro es: {contador_1/n}')\n",
    "print(f'La probabilidad de que old_pet sea perro es: {contador_2/n}')\n",
    "print(f'La probabilidad de que ambas mascotas sean perro es: {contador_3/n}')\n"
   ]
  },
  {
   "cell_type": "code",
   "execution_count": null,
   "metadata": {},
   "outputs": [],
   "source": [
    "simulate_pets_prob(100000)"
   ]
  }
 ],
 "metadata": {
  "kernelspec": {
   "display_name": "Python 3.10.4 ('dl')",
   "language": "python",
   "name": "python3"
  },
  "language_info": {
   "codemirror_mode": {
    "name": "ipython",
    "version": 3
   },
   "file_extension": ".py",
   "mimetype": "text/x-python",
   "name": "python",
   "nbconvert_exporter": "python",
   "pygments_lexer": "ipython3",
   "version": "3.10.4"
  },
  "orig_nbformat": 4,
  "vscode": {
   "interpreter": {
    "hash": "c9ccd8639d7ac6d8ae46f08631d02de0d1c9f4a08850208985333be71082afd9"
   }
  }
 },
 "nbformat": 4,
 "nbformat_minor": 2
}
