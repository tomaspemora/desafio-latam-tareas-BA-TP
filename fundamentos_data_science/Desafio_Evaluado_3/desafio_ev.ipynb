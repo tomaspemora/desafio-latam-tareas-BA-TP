{
 "cells": [
  {
   "cell_type": "markdown",
   "metadata": {},
   "source": [
    "# Desafío Variables\n",
    "### Nombre: Thomas Peet, Braulio Aguila, Camilo Ramírez\n",
    "### Generación: G47\n",
    "### Profesores: Alfonso Tobar - Juan Pablo Ramírez\n",
    "### Fecha: 01-07-2022"
   ]
  },
  {
   "cell_type": "code",
   "execution_count": 5,
   "metadata": {},
   "outputs": [],
   "source": [
    "import numpy as np\n",
    "import pandas as pd\n",
    "import matplotlib.pyplot as plt\n",
    "import seaborn as sns"
   ]
  },
  {
   "cell_type": "markdown",
   "metadata": {},
   "source": [
    "### Descripción\n",
    "La empresa en la cual usted trabaja quedó muy satisfecha con su análisis anterior del Índice de Desarrollo Humano (IDH) de diversos países, el cual se elaboró para el Ministerio de Relaciones Exteriores a fin de poder contar con la data necesaria para poder comenzar a trabajar en relaciones diplomáticas más estrechas con diversos países. Por consiguiente, esta vez le solicitan que, a partir del trabajo hecho en el Desafío precedente, usted pueda seguir profundizando en la base de datos Quality of Government, de la Universidad de Gotemburgo.\n"
   ]
  },
  {
   "cell_type": "markdown",
   "metadata": {},
   "source": [
    "### Requerimiento\n",
    "\n",
    "**1) Importar un csv (2 puntos)**: Importe el set de datos creados por usted al final de la sesión pasada."
   ]
  },
  {
   "cell_type": "code",
   "execution_count": 6,
   "metadata": {},
   "outputs": [
    {
     "data": {
      "text/html": [
       "<div>\n",
       "<style scoped>\n",
       "    .dataframe tbody tr th:only-of-type {\n",
       "        vertical-align: middle;\n",
       "    }\n",
       "\n",
       "    .dataframe tbody tr th {\n",
       "        vertical-align: top;\n",
       "    }\n",
       "\n",
       "    .dataframe thead th {\n",
       "        text-align: right;\n",
       "    }\n",
       "</style>\n",
       "<table border=\"1\" class=\"dataframe\">\n",
       "  <thead>\n",
       "    <tr style=\"text-align: right;\">\n",
       "      <th></th>\n",
       "      <th>Unnamed: 0</th>\n",
       "      <th>undp_hdi</th>\n",
       "      <th>ccodealp</th>\n",
       "      <th>ht_region</th>\n",
       "      <th>gle_cgdpc</th>\n",
       "      <th>imf_pop</th>\n",
       "      <th>ffp_hf</th>\n",
       "      <th>wef_qes</th>\n",
       "      <th>wdi_expedu</th>\n",
       "      <th>wdi_ners</th>\n",
       "    </tr>\n",
       "  </thead>\n",
       "  <tbody>\n",
       "    <tr>\n",
       "      <th>0</th>\n",
       "      <td>49</td>\n",
       "      <td>0.724</td>\n",
       "      <td>DMA</td>\n",
       "      <td>Caribbean</td>\n",
       "      <td>12613.7200</td>\n",
       "      <td>NaN</td>\n",
       "      <td>NaN</td>\n",
       "      <td>NaN</td>\n",
       "      <td>NaN</td>\n",
       "      <td>86.320930</td>\n",
       "    </tr>\n",
       "    <tr>\n",
       "      <th>1</th>\n",
       "      <td>188</td>\n",
       "      <td>0.794</td>\n",
       "      <td>URY</td>\n",
       "      <td>LatAm</td>\n",
       "      <td>12804.8400</td>\n",
       "      <td>3.454000</td>\n",
       "      <td>4.4</td>\n",
       "      <td>2.903505</td>\n",
       "      <td>4.35694</td>\n",
       "      <td>76.348099</td>\n",
       "    </tr>\n",
       "    <tr>\n",
       "      <th>2</th>\n",
       "      <td>175</td>\n",
       "      <td>0.836</td>\n",
       "      <td>ARE</td>\n",
       "      <td>NorthAfrica</td>\n",
       "      <td>20310.1090</td>\n",
       "      <td>NaN</td>\n",
       "      <td>2.5</td>\n",
       "      <td>5.279841</td>\n",
       "      <td>NaN</td>\n",
       "      <td>NaN</td>\n",
       "    </tr>\n",
       "    <tr>\n",
       "      <th>3</th>\n",
       "      <td>25</td>\n",
       "      <td>0.552</td>\n",
       "      <td>MMR</td>\n",
       "      <td>SouthEastAsia</td>\n",
       "      <td>5733.3701</td>\n",
       "      <td>51.418999</td>\n",
       "      <td>5.7</td>\n",
       "      <td>2.659119</td>\n",
       "      <td>NaN</td>\n",
       "      <td>48.256439</td>\n",
       "    </tr>\n",
       "    <tr>\n",
       "      <th>4</th>\n",
       "      <td>115</td>\n",
       "      <td>0.645</td>\n",
       "      <td>MAR</td>\n",
       "      <td>NorthAfrica</td>\n",
       "      <td>3999.5601</td>\n",
       "      <td>33.179001</td>\n",
       "      <td>7.6</td>\n",
       "      <td>3.170891</td>\n",
       "      <td>NaN</td>\n",
       "      <td>56.142448</td>\n",
       "    </tr>\n",
       "    <tr>\n",
       "      <th>...</th>\n",
       "      <td>...</td>\n",
       "      <td>...</td>\n",
       "      <td>...</td>\n",
       "      <td>...</td>\n",
       "      <td>...</td>\n",
       "      <td>...</td>\n",
       "      <td>...</td>\n",
       "      <td>...</td>\n",
       "      <td>...</td>\n",
       "      <td>...</td>\n",
       "    </tr>\n",
       "    <tr>\n",
       "      <th>92</th>\n",
       "      <td>48</td>\n",
       "      <td>0.923</td>\n",
       "      <td>DNK</td>\n",
       "      <td>WesternDem</td>\n",
       "      <td>37406.7620</td>\n",
       "      <td>5.627000</td>\n",
       "      <td>1.9</td>\n",
       "      <td>4.812749</td>\n",
       "      <td>8.62711</td>\n",
       "      <td>89.817459</td>\n",
       "    </tr>\n",
       "    <tr>\n",
       "      <th>93</th>\n",
       "      <td>33</td>\n",
       "      <td>0.764</td>\n",
       "      <td>LKA</td>\n",
       "      <td>SouthAsia</td>\n",
       "      <td>5466.8701</td>\n",
       "      <td>20.541000</td>\n",
       "      <td>7.8</td>\n",
       "      <td>4.644127</td>\n",
       "      <td>1.92566</td>\n",
       "      <td>85.426140</td>\n",
       "    </tr>\n",
       "    <tr>\n",
       "      <th>94</th>\n",
       "      <td>57</td>\n",
       "      <td>0.734</td>\n",
       "      <td>FJI</td>\n",
       "      <td>Pacific</td>\n",
       "      <td>3848.7200</td>\n",
       "      <td>0.880000</td>\n",
       "      <td>7.6</td>\n",
       "      <td>NaN</td>\n",
       "      <td>3.88289</td>\n",
       "      <td>83.382111</td>\n",
       "    </tr>\n",
       "    <tr>\n",
       "      <th>95</th>\n",
       "      <td>34</td>\n",
       "      <td>0.394</td>\n",
       "      <td>TCD</td>\n",
       "      <td>SubSaharian</td>\n",
       "      <td>1651.0500</td>\n",
       "      <td>NaN</td>\n",
       "      <td>8.6</td>\n",
       "      <td>2.528029</td>\n",
       "      <td>2.84971</td>\n",
       "      <td>NaN</td>\n",
       "    </tr>\n",
       "    <tr>\n",
       "      <th>96</th>\n",
       "      <td>90</td>\n",
       "      <td>0.899</td>\n",
       "      <td>KOR</td>\n",
       "      <td>EastAsia</td>\n",
       "      <td>33181.8910</td>\n",
       "      <td>50.747002</td>\n",
       "      <td>3.5</td>\n",
       "      <td>3.615234</td>\n",
       "      <td>5.05211</td>\n",
       "      <td>96.776863</td>\n",
       "    </tr>\n",
       "  </tbody>\n",
       "</table>\n",
       "<p>97 rows × 10 columns</p>\n",
       "</div>"
      ],
      "text/plain": [
       "    Unnamed: 0  undp_hdi ccodealp      ht_region   gle_cgdpc    imf_pop  \\\n",
       "0           49     0.724      DMA      Caribbean  12613.7200        NaN   \n",
       "1          188     0.794      URY          LatAm  12804.8400   3.454000   \n",
       "2          175     0.836      ARE    NorthAfrica  20310.1090        NaN   \n",
       "3           25     0.552      MMR  SouthEastAsia   5733.3701  51.418999   \n",
       "4          115     0.645      MAR    NorthAfrica   3999.5601  33.179001   \n",
       "..         ...       ...      ...            ...         ...        ...   \n",
       "92          48     0.923      DNK     WesternDem  37406.7620   5.627000   \n",
       "93          33     0.764      LKA      SouthAsia   5466.8701  20.541000   \n",
       "94          57     0.734      FJI        Pacific   3848.7200   0.880000   \n",
       "95          34     0.394      TCD    SubSaharian   1651.0500        NaN   \n",
       "96          90     0.899      KOR       EastAsia  33181.8910  50.747002   \n",
       "\n",
       "    ffp_hf   wef_qes  wdi_expedu   wdi_ners  \n",
       "0      NaN       NaN         NaN  86.320930  \n",
       "1      4.4  2.903505     4.35694  76.348099  \n",
       "2      2.5  5.279841         NaN        NaN  \n",
       "3      5.7  2.659119         NaN  48.256439  \n",
       "4      7.6  3.170891         NaN  56.142448  \n",
       "..     ...       ...         ...        ...  \n",
       "92     1.9  4.812749     8.62711  89.817459  \n",
       "93     7.8  4.644127     1.92566  85.426140  \n",
       "94     7.6       NaN     3.88289  83.382111  \n",
       "95     8.6  2.528029     2.84971        NaN  \n",
       "96     3.5  3.615234     5.05211  96.776863  \n",
       "\n",
       "[97 rows x 10 columns]"
      ]
     },
     "execution_count": 6,
     "metadata": {},
     "output_type": "execute_result"
    }
   ],
   "source": [
    "df = pd.read_csv('subsample_tpm_demo.csv')\n",
    "df"
   ]
  },
  {
   "cell_type": "markdown",
   "metadata": {},
   "source": [
    "**2) Importar su conjunto de funciones (2 puntos).** Para ello deberás:\n",
    "- Generar un archivo `ancilliary_funcs.py` para guardar las funciones creadas\n",
    "en la sesión pasada e importe.\n",
    "- Utilizar las funciones creadas para inspeccionar la cantidad de casos perdidos\n",
    "de la muestra importada"
   ]
  },
  {
   "cell_type": "code",
   "execution_count": 7,
   "metadata": {},
   "outputs": [],
   "source": [
    "import ancilliary_funcs as func\n",
    "\n",
    "# TODO usar nullanalyzer para el segundo pto"
   ]
  },
  {
   "cell_type": "markdown",
   "metadata": {},
   "source": [
    "**3) Estimar el puntaje Z de una variable (2 puntos):** Se debe utilizar la que posea la menor cantidad de datos perdidos (o que no posea).\n",
    "- Generar una nueva columna en la tabla de datos que contenga el puntaje Z de\n",
    "dicha variable. Recuerde que para calcular el puntaje z de una observación se\n",
    "utiliza la fórmula: $z_i = ( x_i − x ) / \\sigma(x)$\n",
    "- Para ordenar los valores pueden utilizar la función `sort_values` del `DataFrame`\n",
    "analizado. Lean la documentación asociada al argumento `by`.\n",
    "- Asegúrense de eliminar las observaciones que tengan valores perdidos con\n",
    "`dropna`. Lean la documentación asociada al argumento `subset`.\n",
    "- Seleccionen las primeras y últimas 10 observaciones de la base reordenada.\n",
    "¿Qué características en común se encuentran?"
   ]
  },
  {
   "cell_type": "code",
   "execution_count": 9,
   "metadata": {},
   "outputs": [
    {
     "data": {
      "text/plain": [
       "\"\\nTODO:\\n- Crear función ptje Z en ancilliary_funcs\\n- Seleccionar una columna del df que contenga la menor cantidad de datos perdidos (Ver la salida de nullanalyzer)\\n- Modificar el dataframe `df` para agregarle el ptje Z de la columna seleccionada una cosa df['ptje_z'] = func.ptje_z(df, columna)\\n- Ordenar el dataframe `df` por el ptje Z de la columna seleccionada (Usar sort_values, by='ptje_z', ascending=False)\\n- Limpiar filas en que la columna Z tenga valor nulo. Usar dropna de df\\n- Seleccionar 10 primeras y 10 ultimas filas usando head y tail. \\n- Comentar resultados. Fue interesante en la clase la relación entre locación (ht_region) y ptje Z en el caso en que se eligio el pib per capita.\\n\""
      ]
     },
     "execution_count": 9,
     "metadata": {},
     "output_type": "execute_result"
    }
   ],
   "source": [
    "\"\"\"\n",
    "TODO:\n",
    "- Crear función ptje Z en ancilliary_funcs\n",
    "- Seleccionar una columna del df que contenga la menor cantidad de datos perdidos (Ver la salida de nullanalyzer)\n",
    "- Modificar el dataframe `df` para agregarle el ptje Z de la columna seleccionada una cosa df['ptje_z'] = func.ptje_z(df, columna)\n",
    "- Ordenar el dataframe `df` por el ptje Z de la columna seleccionada (Usar sort_values, by='ptje_z', ascending=False)\n",
    "- Limpiar filas en que la columna Z tenga valor nulo. Usar dropna de df\n",
    "- Seleccionar 10 primeras y 10 ultimas filas usando head y tail. \n",
    "- Comentar resultados. Fue interesante en la clase la relación entre locación (ht_region) y ptje Z en el caso en que se eligio el pib per capita.\n",
    "\"\"\""
   ]
  },
  {
   "cell_type": "markdown",
   "metadata": {},
   "source": [
    "**4. Estimar el puntaje z de las regiones (2 puntos).** Utilizando el resultado anterior,\n",
    "visualice su nueva variable estandarizada (es decir, luego de calcular el puntaje Z).\n",
    "- Para ello realice un `dotplot` que muestre el valor promedio de su variable por\n",
    "cada región.\n",
    "- Agregue además una línea que muestre el promedio total de la variable (es\n",
    "decir, antes de agrupar).\n"
   ]
  },
  {
   "cell_type": "code",
   "execution_count": 11,
   "metadata": {},
   "outputs": [
    {
     "data": {
      "image/png": "[encoded data removed]",
      "text/plain": [
       "<Figure size 432x288 with 1 Axes>"
      ]
     },
     "metadata": {
      "needs_background": "light"
     },
     "output_type": "display_data"
    }
   ],
   "source": [
    "\"\"\" TODO\n",
    "Como referencia:\n",
    "\n",
    "df = pd.read_csv('qog_std_cs_jan18.csv')\n",
    "hdi_group = df.loc[:, ['cname', 'ccode', 'undp_hdi', 'ht_region']]\n",
    "hdi_group['region_recod'] = hdi_group['ht_region'].replace([1, 2, 3, 4, 5, 6, 7, 8, 9, 10], [ 'EastEurope', 'LatAm', 'NorthAfrica', 'SubSaharian', 'WesternDem', 'EastAsia', 'SouthEastAsia', 'SouthAsia', 'Pacific', 'Caribbean'])\n",
    "group_mean = round(hdi_group.groupby('region_recod')['undp_hdi'].mean(),2)\n",
    "plt.title('Posición de distintas zonas geográficas en cuanto a HDI')\n",
    "plt.plot(group_mean.values, group_mean.index, 'o', color = 'grey')\n",
    "plt.axvline(hdi_group['undp_hdi'].mean(), color = 'tomato', linestyle = '--')\n",
    "\n",
    "\n",
    "- Reacomodar este codigo para mostrar el valor promedio de la variable por cada región\n",
    "- Completar el resto de las cosas del gráfico: (titulo, nombre de ejes, etc)\n",
    "\n",
    "\"\"\""
   ]
  },
  {
   "cell_type": "markdown",
   "metadata": {},
   "source": [
    "**5) Generar curvas de Densidad de Probabilidad (2 puntos).**\n",
    "\n",
    "- Cree una función que permita visualizar las curvas de Densidad de Probabilidad\n",
    "para las variables `imf_pop`, `gle_cgdpc` y `wdi_exph`.\n",
    "- La función debe contener como argumentos:\n",
    "    * `df`: Tabla de datos 1.\n",
    "    * `variable`: Variable a contrastar.\n"
   ]
  },
  {
   "cell_type": "code",
   "execution_count": null,
   "metadata": {},
   "outputs": [],
   "source": [
    "\"\"\"TODO\n",
    "- crear la función\n",
    "\n",
    "AUSPICIO COPILOT\n",
    "def curvas_densidad_probabilidad(df, variable):\n",
    "    sns.distplot(df[variable], bins=10, kde=True, color='blue', hist_kws={'linewidth': 15,'alpha':1})\n",
    "\"\"\"\n",
    "\n"
   ]
  }
 ],
 "metadata": {
  "kernelspec": {
   "display_name": "Python 3.10.4 ('dl')",
   "language": "python",
   "name": "python3"
  },
  "language_info": {
   "codemirror_mode": {
    "name": "ipython",
    "version": 3
   },
   "file_extension": ".py",
   "mimetype": "text/x-python",
   "name": "python",
   "nbconvert_exporter": "python",
   "pygments_lexer": "ipython3",
   "version": "3.10.4"
  },
  "orig_nbformat": 4,
  "vscode": {
   "interpreter": {
    "hash": "c9ccd8639d7ac6d8ae46f08631d02de0d1c9f4a08850208985333be71082afd9"
   }
  }
 },
 "nbformat": 4,
 "nbformat_minor": 2
}
