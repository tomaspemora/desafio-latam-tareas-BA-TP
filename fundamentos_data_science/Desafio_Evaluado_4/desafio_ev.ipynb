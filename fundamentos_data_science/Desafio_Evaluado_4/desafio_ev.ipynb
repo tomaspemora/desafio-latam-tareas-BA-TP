{
 "cells": [
  {
   "cell_type": "markdown",
   "metadata": {},
   "source": [
    "# Desafío - Prueba de Hipótesis\n",
    "### Nombre: Thomas Peet, Braulio Aguila, Camilo Ramírez\n",
    "### Generación: G47\n",
    "### Profesores: Alfonso Tobar - Juan Pablo Ramírez\n",
    "### Fecha: 11-07-2022"
   ]
  },
  {
   "cell_type": "code",
   "execution_count": 1,
   "metadata": {},
   "outputs": [],
   "source": [
    "import pandas as pd\n",
    "import numpy as np\n",
    "import matplotlib.pyplot as plt\n",
    "import seaborn as sns\n",
    "import scipy.stats as stats\n",
    "from scipy.stats import ttest_ind"
   ]
  },
  {
   "cell_type": "markdown",
   "metadata": {},
   "source": [
    "### Requerimiento 1:\n",
    "\n",
    "#### Evaluar juicios de hipótesis (2 puntos): para evaluar la pertinencia de diversas hipótesis, se te solicita discernir si es posible rechazar la hipótesis nula.  \n",
    "\n",
    "● 75 individuos elegidos al azar fueron alcanzados por activistas pro-LGTB que se identificaron como homosexuales, y 75 alcanzados por activistas pro-LGTB que se identificaron como heterosexuales. El objetivo era medir actitudes frente a la adopción homoparental. La organización encargada de procesar los datos obtuvo los siguientes resultados:  \n",
    "\n",
    " ○ El 67% de los encuestados por heterosexuales se mostró a favor de la adopción homoparental, mientras que un 72% de los encuestados por activistas que se identificaron como homosexuales se mostraron a favor de la adopción homoparental.  \n",
    " ○ Asumiendo que la hipótesis nula es que ambos porcentajes no son diferentes, y la hipótesis alternativa es que existe una diferencia substancial entre ambos.  \n",
    " ○ Con p-valor de 0.1183 ¿es posible rechazar la hipótesis nula en favor de la alternativa con una confianza de 95%?, ¿Cuanta es la confianza máxima con la que sería posible rechazar la hipótesis nula en favor de la alternativa con estos resultados?  "
   ]
  },
  {
   "cell_type": "markdown",
   "metadata": {},
   "source": [
    "$H_0$ = % adopción heterosexuales = % adopción homosexuales  \n",
    "$H_1$ = % adopción heterosexuales $\\neq$ % adopción homosexuales"
   ]
  },
  {
   "cell_type": "code",
   "execution_count": 2,
   "metadata": {},
   "outputs": [
    {
     "data": {
      "text/plain": [
       "True"
      ]
     },
     "execution_count": 2,
     "metadata": {},
     "output_type": "execute_result"
    }
   ],
   "source": [
    "pvalue=0.1183\n",
    "significancia=0.05\n",
    "pvalue > significancia"
   ]
  },
  {
   "cell_type": "markdown",
   "metadata": {},
   "source": [
    "### Requerimiento 2:\n",
    "\n",
    "#### Importar la base de datos utilizada la sesión presencial anterior (2 puntos):   \n",
    "\n",
    "- Agregue una serie de variables binarias por cada continente de la variable  \n",
    "region.  \n",
    "Tip: Utilice np.where para ello. \n",
    "\n",
    "- De manera similar a la sesión anterior, enfóquese en las siguientes variables:  \n",
    "    * Apellidos desde la A hasta la N: Enfocarse en las variables chldmort,  \n",
    "adfert y life.  \n",
    "    * Apellidos desde la N hasta la Z: Enfocarse en las variables femlab,  \n",
    "literacy y school. "
   ]
  },
  {
   "cell_type": "code",
   "execution_count": 3,
   "metadata": {},
   "outputs": [
    {
     "data": {
      "text/html": [
       "<div>\n",
       "<style scoped>\n",
       "    .dataframe tbody tr th:only-of-type {\n",
       "        vertical-align: middle;\n",
       "    }\n",
       "\n",
       "    .dataframe tbody tr th {\n",
       "        vertical-align: top;\n",
       "    }\n",
       "\n",
       "    .dataframe thead th {\n",
       "        text-align: right;\n",
       "    }\n",
       "</style>\n",
       "<table border=\"1\" class=\"dataframe\">\n",
       "  <thead>\n",
       "    <tr style=\"text-align: right;\">\n",
       "      <th></th>\n",
       "      <th>country</th>\n",
       "      <th>region</th>\n",
       "      <th>gdp</th>\n",
       "      <th>school</th>\n",
       "      <th>adfert</th>\n",
       "      <th>chldmort</th>\n",
       "      <th>life</th>\n",
       "      <th>pop</th>\n",
       "      <th>urban</th>\n",
       "      <th>femlab</th>\n",
       "      <th>literacy</th>\n",
       "      <th>co2</th>\n",
       "      <th>gini</th>\n",
       "    </tr>\n",
       "  </thead>\n",
       "  <tbody>\n",
       "    <tr>\n",
       "      <th>1</th>\n",
       "      <td>Algeria</td>\n",
       "      <td>Africa</td>\n",
       "      <td>7300.399902</td>\n",
       "      <td>6.716667</td>\n",
       "      <td>7.300000</td>\n",
       "      <td>34.75</td>\n",
       "      <td>72.316666</td>\n",
       "      <td>34172236</td>\n",
       "      <td>64.933334</td>\n",
       "      <td>0.4522</td>\n",
       "      <td>72.599998</td>\n",
       "      <td>15.00</td>\n",
       "      <td>NaN</td>\n",
       "    </tr>\n",
       "    <tr>\n",
       "      <th>2</th>\n",
       "      <td>Benin</td>\n",
       "      <td>Africa</td>\n",
       "      <td>1338.800049</td>\n",
       "      <td>3.100000</td>\n",
       "      <td>111.699997</td>\n",
       "      <td>122.75</td>\n",
       "      <td>54.733334</td>\n",
       "      <td>8237634</td>\n",
       "      <td>41.000000</td>\n",
       "      <td>0.8482</td>\n",
       "      <td>41.700001</td>\n",
       "      <td>1.20</td>\n",
       "      <td>NaN</td>\n",
       "    </tr>\n",
       "    <tr>\n",
       "      <th>3</th>\n",
       "      <td>Botswana</td>\n",
       "      <td>Africa</td>\n",
       "      <td>12307.400391</td>\n",
       "      <td>8.600000</td>\n",
       "      <td>52.099998</td>\n",
       "      <td>60.25</td>\n",
       "      <td>52.250000</td>\n",
       "      <td>1941233</td>\n",
       "      <td>59.250000</td>\n",
       "      <td>0.8870</td>\n",
       "      <td>84.099998</td>\n",
       "      <td>9.20</td>\n",
       "      <td>NaN</td>\n",
       "    </tr>\n",
       "    <tr>\n",
       "      <th>4</th>\n",
       "      <td>Burkina Faso</td>\n",
       "      <td>Africa</td>\n",
       "      <td>1063.400024</td>\n",
       "      <td>1.300000</td>\n",
       "      <td>124.800003</td>\n",
       "      <td>170.50</td>\n",
       "      <td>53.783333</td>\n",
       "      <td>15308383</td>\n",
       "      <td>23.583334</td>\n",
       "      <td>0.8584</td>\n",
       "      <td>23.600000</td>\n",
       "      <td>0.20</td>\n",
       "      <td>NaN</td>\n",
       "    </tr>\n",
       "    <tr>\n",
       "      <th>5</th>\n",
       "      <td>Burundi</td>\n",
       "      <td>Africa</td>\n",
       "      <td>349.200012</td>\n",
       "      <td>2.483333</td>\n",
       "      <td>18.600000</td>\n",
       "      <td>168.50</td>\n",
       "      <td>48.866665</td>\n",
       "      <td>7821783</td>\n",
       "      <td>10.250000</td>\n",
       "      <td>1.0344</td>\n",
       "      <td>66.599998</td>\n",
       "      <td>0.10</td>\n",
       "      <td>33.299999</td>\n",
       "    </tr>\n",
       "    <tr>\n",
       "      <th>...</th>\n",
       "      <td>...</td>\n",
       "      <td>...</td>\n",
       "      <td>...</td>\n",
       "      <td>...</td>\n",
       "      <td>...</td>\n",
       "      <td>...</td>\n",
       "      <td>...</td>\n",
       "      <td>...</td>\n",
       "      <td>...</td>\n",
       "      <td>...</td>\n",
       "      <td>...</td>\n",
       "      <td>...</td>\n",
       "      <td>...</td>\n",
       "    </tr>\n",
       "    <tr>\n",
       "      <th>190</th>\n",
       "      <td>Samoa</td>\n",
       "      <td>Oceania</td>\n",
       "      <td>4012.600098</td>\n",
       "      <td>10.300000</td>\n",
       "      <td>28.299999</td>\n",
       "      <td>26.75</td>\n",
       "      <td>71.533333</td>\n",
       "      <td>181600</td>\n",
       "      <td>20.666668</td>\n",
       "      <td>0.5010</td>\n",
       "      <td>98.800003</td>\n",
       "      <td>3.10</td>\n",
       "      <td>NaN</td>\n",
       "    </tr>\n",
       "    <tr>\n",
       "      <th>191</th>\n",
       "      <td>Solomon Islands</td>\n",
       "      <td>Oceania</td>\n",
       "      <td>2249.199951</td>\n",
       "      <td>4.500000</td>\n",
       "      <td>70.300003</td>\n",
       "      <td>36.00</td>\n",
       "      <td>66.500000</td>\n",
       "      <td>503617</td>\n",
       "      <td>17.766666</td>\n",
       "      <td>0.4858</td>\n",
       "      <td>NaN</td>\n",
       "      <td>1.40</td>\n",
       "      <td>NaN</td>\n",
       "    </tr>\n",
       "    <tr>\n",
       "      <th>192</th>\n",
       "      <td>Tonga</td>\n",
       "      <td>Oceania</td>\n",
       "      <td>4072.199951</td>\n",
       "      <td>10.133333</td>\n",
       "      <td>22.299999</td>\n",
       "      <td>19.25</td>\n",
       "      <td>71.833336</td>\n",
       "      <td>102550</td>\n",
       "      <td>23.266666</td>\n",
       "      <td>0.7150</td>\n",
       "      <td>99.000000</td>\n",
       "      <td>4.85</td>\n",
       "      <td>NaN</td>\n",
       "    </tr>\n",
       "    <tr>\n",
       "      <th>193</th>\n",
       "      <td>Tuvalu</td>\n",
       "      <td>Oceania</td>\n",
       "      <td>NaN</td>\n",
       "      <td>NaN</td>\n",
       "      <td>23.299999</td>\n",
       "      <td>36.50</td>\n",
       "      <td>66.033333</td>\n",
       "      <td>9767</td>\n",
       "      <td>49.233334</td>\n",
       "      <td>NaN</td>\n",
       "      <td>NaN</td>\n",
       "      <td>NaN</td>\n",
       "      <td>NaN</td>\n",
       "    </tr>\n",
       "    <tr>\n",
       "      <th>194</th>\n",
       "      <td>Vanuatu</td>\n",
       "      <td>Oceania</td>\n",
       "      <td>3809.800049</td>\n",
       "      <td>6.700000</td>\n",
       "      <td>54.000000</td>\n",
       "      <td>17.75</td>\n",
       "      <td>69.966667</td>\n",
       "      <td>225317</td>\n",
       "      <td>24.500000</td>\n",
       "      <td>0.8988</td>\n",
       "      <td>82.000000</td>\n",
       "      <td>1.50</td>\n",
       "      <td>NaN</td>\n",
       "    </tr>\n",
       "  </tbody>\n",
       "</table>\n",
       "<p>194 rows × 13 columns</p>\n",
       "</div>"
      ],
      "text/plain": [
       "             country   region           gdp     school      adfert  chldmort  \\\n",
       "1            Algeria   Africa   7300.399902   6.716667    7.300000     34.75   \n",
       "2              Benin   Africa   1338.800049   3.100000  111.699997    122.75   \n",
       "3           Botswana   Africa  12307.400391   8.600000   52.099998     60.25   \n",
       "4       Burkina Faso   Africa   1063.400024   1.300000  124.800003    170.50   \n",
       "5            Burundi   Africa    349.200012   2.483333   18.600000    168.50   \n",
       "..               ...      ...           ...        ...         ...       ...   \n",
       "190            Samoa  Oceania   4012.600098  10.300000   28.299999     26.75   \n",
       "191  Solomon Islands  Oceania   2249.199951   4.500000   70.300003     36.00   \n",
       "192            Tonga  Oceania   4072.199951  10.133333   22.299999     19.25   \n",
       "193           Tuvalu  Oceania           NaN        NaN   23.299999     36.50   \n",
       "194          Vanuatu  Oceania   3809.800049   6.700000   54.000000     17.75   \n",
       "\n",
       "          life       pop      urban  femlab   literacy    co2       gini  \n",
       "1    72.316666  34172236  64.933334  0.4522  72.599998  15.00        NaN  \n",
       "2    54.733334   8237634  41.000000  0.8482  41.700001   1.20        NaN  \n",
       "3    52.250000   1941233  59.250000  0.8870  84.099998   9.20        NaN  \n",
       "4    53.783333  15308383  23.583334  0.8584  23.600000   0.20        NaN  \n",
       "5    48.866665   7821783  10.250000  1.0344  66.599998   0.10  33.299999  \n",
       "..         ...       ...        ...     ...        ...    ...        ...  \n",
       "190  71.533333    181600  20.666668  0.5010  98.800003   3.10        NaN  \n",
       "191  66.500000    503617  17.766666  0.4858        NaN   1.40        NaN  \n",
       "192  71.833336    102550  23.266666  0.7150  99.000000   4.85        NaN  \n",
       "193  66.033333      9767  49.233334     NaN        NaN    NaN        NaN  \n",
       "194  69.966667    225317  24.500000  0.8988  82.000000   1.50        NaN  \n",
       "\n",
       "[194 rows x 13 columns]"
      ]
     },
     "execution_count": 3,
     "metadata": {},
     "output_type": "execute_result"
    }
   ],
   "source": [
    "df = pd.read_csv('nations.csv',encoding='ISO-8859-1', index_col=[\"Unnamed: 0\"])\n",
    "df"
   ]
  },
  {
   "cell_type": "code",
   "execution_count": 4,
   "metadata": {},
   "outputs": [
    {
     "data": {
      "text/html": [
       "<div>\n",
       "<style scoped>\n",
       "    .dataframe tbody tr th:only-of-type {\n",
       "        vertical-align: middle;\n",
       "    }\n",
       "\n",
       "    .dataframe tbody tr th {\n",
       "        vertical-align: top;\n",
       "    }\n",
       "\n",
       "    .dataframe thead th {\n",
       "        text-align: right;\n",
       "    }\n",
       "</style>\n",
       "<table border=\"1\" class=\"dataframe\">\n",
       "  <thead>\n",
       "    <tr style=\"text-align: right;\">\n",
       "      <th></th>\n",
       "      <th>country</th>\n",
       "      <th>region</th>\n",
       "      <th>Africa</th>\n",
       "      <th>Americas</th>\n",
       "      <th>Asia</th>\n",
       "      <th>Europe</th>\n",
       "      <th>Oceania</th>\n",
       "      <th>femlab</th>\n",
       "      <th>literacy</th>\n",
       "      <th>school</th>\n",
       "    </tr>\n",
       "  </thead>\n",
       "  <tbody>\n",
       "    <tr>\n",
       "      <th>1</th>\n",
       "      <td>Algeria</td>\n",
       "      <td>Africa</td>\n",
       "      <td>1</td>\n",
       "      <td>0</td>\n",
       "      <td>0</td>\n",
       "      <td>0</td>\n",
       "      <td>0</td>\n",
       "      <td>0.4522</td>\n",
       "      <td>72.599998</td>\n",
       "      <td>6.716667</td>\n",
       "    </tr>\n",
       "    <tr>\n",
       "      <th>2</th>\n",
       "      <td>Benin</td>\n",
       "      <td>Africa</td>\n",
       "      <td>1</td>\n",
       "      <td>0</td>\n",
       "      <td>0</td>\n",
       "      <td>0</td>\n",
       "      <td>0</td>\n",
       "      <td>0.8482</td>\n",
       "      <td>41.700001</td>\n",
       "      <td>3.100000</td>\n",
       "    </tr>\n",
       "    <tr>\n",
       "      <th>3</th>\n",
       "      <td>Botswana</td>\n",
       "      <td>Africa</td>\n",
       "      <td>1</td>\n",
       "      <td>0</td>\n",
       "      <td>0</td>\n",
       "      <td>0</td>\n",
       "      <td>0</td>\n",
       "      <td>0.8870</td>\n",
       "      <td>84.099998</td>\n",
       "      <td>8.600000</td>\n",
       "    </tr>\n",
       "    <tr>\n",
       "      <th>4</th>\n",
       "      <td>Burkina Faso</td>\n",
       "      <td>Africa</td>\n",
       "      <td>1</td>\n",
       "      <td>0</td>\n",
       "      <td>0</td>\n",
       "      <td>0</td>\n",
       "      <td>0</td>\n",
       "      <td>0.8584</td>\n",
       "      <td>23.600000</td>\n",
       "      <td>1.300000</td>\n",
       "    </tr>\n",
       "    <tr>\n",
       "      <th>5</th>\n",
       "      <td>Burundi</td>\n",
       "      <td>Africa</td>\n",
       "      <td>1</td>\n",
       "      <td>0</td>\n",
       "      <td>0</td>\n",
       "      <td>0</td>\n",
       "      <td>0</td>\n",
       "      <td>1.0344</td>\n",
       "      <td>66.599998</td>\n",
       "      <td>2.483333</td>\n",
       "    </tr>\n",
       "    <tr>\n",
       "      <th>...</th>\n",
       "      <td>...</td>\n",
       "      <td>...</td>\n",
       "      <td>...</td>\n",
       "      <td>...</td>\n",
       "      <td>...</td>\n",
       "      <td>...</td>\n",
       "      <td>...</td>\n",
       "      <td>...</td>\n",
       "      <td>...</td>\n",
       "      <td>...</td>\n",
       "    </tr>\n",
       "    <tr>\n",
       "      <th>190</th>\n",
       "      <td>Samoa</td>\n",
       "      <td>Oceania</td>\n",
       "      <td>0</td>\n",
       "      <td>0</td>\n",
       "      <td>0</td>\n",
       "      <td>0</td>\n",
       "      <td>1</td>\n",
       "      <td>0.5010</td>\n",
       "      <td>98.800003</td>\n",
       "      <td>10.300000</td>\n",
       "    </tr>\n",
       "    <tr>\n",
       "      <th>191</th>\n",
       "      <td>Solomon Islands</td>\n",
       "      <td>Oceania</td>\n",
       "      <td>0</td>\n",
       "      <td>0</td>\n",
       "      <td>0</td>\n",
       "      <td>0</td>\n",
       "      <td>1</td>\n",
       "      <td>0.4858</td>\n",
       "      <td>NaN</td>\n",
       "      <td>4.500000</td>\n",
       "    </tr>\n",
       "    <tr>\n",
       "      <th>192</th>\n",
       "      <td>Tonga</td>\n",
       "      <td>Oceania</td>\n",
       "      <td>0</td>\n",
       "      <td>0</td>\n",
       "      <td>0</td>\n",
       "      <td>0</td>\n",
       "      <td>1</td>\n",
       "      <td>0.7150</td>\n",
       "      <td>99.000000</td>\n",
       "      <td>10.133333</td>\n",
       "    </tr>\n",
       "    <tr>\n",
       "      <th>193</th>\n",
       "      <td>Tuvalu</td>\n",
       "      <td>Oceania</td>\n",
       "      <td>0</td>\n",
       "      <td>0</td>\n",
       "      <td>0</td>\n",
       "      <td>0</td>\n",
       "      <td>1</td>\n",
       "      <td>NaN</td>\n",
       "      <td>NaN</td>\n",
       "      <td>NaN</td>\n",
       "    </tr>\n",
       "    <tr>\n",
       "      <th>194</th>\n",
       "      <td>Vanuatu</td>\n",
       "      <td>Oceania</td>\n",
       "      <td>0</td>\n",
       "      <td>0</td>\n",
       "      <td>0</td>\n",
       "      <td>0</td>\n",
       "      <td>1</td>\n",
       "      <td>0.8988</td>\n",
       "      <td>82.000000</td>\n",
       "      <td>6.700000</td>\n",
       "    </tr>\n",
       "  </tbody>\n",
       "</table>\n",
       "<p>194 rows × 10 columns</p>\n",
       "</div>"
      ],
      "text/plain": [
       "             country   region  Africa  Americas  Asia  Europe  Oceania  \\\n",
       "1            Algeria   Africa       1         0     0       0        0   \n",
       "2              Benin   Africa       1         0     0       0        0   \n",
       "3           Botswana   Africa       1         0     0       0        0   \n",
       "4       Burkina Faso   Africa       1         0     0       0        0   \n",
       "5            Burundi   Africa       1         0     0       0        0   \n",
       "..               ...      ...     ...       ...   ...     ...      ...   \n",
       "190            Samoa  Oceania       0         0     0       0        1   \n",
       "191  Solomon Islands  Oceania       0         0     0       0        1   \n",
       "192            Tonga  Oceania       0         0     0       0        1   \n",
       "193           Tuvalu  Oceania       0         0     0       0        1   \n",
       "194          Vanuatu  Oceania       0         0     0       0        1   \n",
       "\n",
       "     femlab   literacy     school  \n",
       "1    0.4522  72.599998   6.716667  \n",
       "2    0.8482  41.700001   3.100000  \n",
       "3    0.8870  84.099998   8.600000  \n",
       "4    0.8584  23.600000   1.300000  \n",
       "5    1.0344  66.599998   2.483333  \n",
       "..      ...        ...        ...  \n",
       "190  0.5010  98.800003  10.300000  \n",
       "191  0.4858        NaN   4.500000  \n",
       "192  0.7150  99.000000  10.133333  \n",
       "193     NaN        NaN        NaN  \n",
       "194  0.8988  82.000000   6.700000  \n",
       "\n",
       "[194 rows x 10 columns]"
      ]
     },
     "execution_count": 4,
     "metadata": {},
     "output_type": "execute_result"
    }
   ],
   "source": [
    "#Se crea un nuevo dataframe (\"df_nuevo\") que contiene las regiones, las columnas binarizadas 1 si pertenece el país a la región, y 0 si es que no) y las variables de interés:\n",
    "\n",
    "#En primer lugar se asigna una variable al grupo de columnas para apellido de a hasta m, y de n hasta z. Se usa en este caso el grupo de apellidos de a hasta m:\n",
    "apellidos_a_m = [\"chldmort\", \"adfert\", \"life\"]\n",
    "apellidos_n_z = [\"femlab\", \"literacy\", \"school\"]\n",
    "df_apellido = df[apellidos_n_z]\n",
    "#En segundo lugar se crean 5 columnas en donde se itera sobre la lista regiones, y en caso de que el país pertenezca a la región se asigna 1 y si es que no pertenece un 0:\n",
    "regiones = df.region.unique()\n",
    "df_region = df.loc[:,['country', 'region']]\n",
    "for region in regiones:\n",
    "    df_region[region] = np.where(df['region'] == region, 1, 0)\n",
    "#Finalmente, se arma un nuevo dataframe con el país, regiones, columnas binarizadas y variables correspondientes a apellidos entre a y m:\n",
    "df_nuevo = pd.concat([df_region, df_apellido], axis=1)\n",
    "df_nuevo"
   ]
  },
  {
   "cell_type": "markdown",
   "metadata": {},
   "source": [
    "### Requerimiento 3:  \n",
    "\n",
    "#### Implementar una función de prueba de hipótesis a mano (3 puntos):    \n",
    " \n",
    "- La función debe ingresar los siguientes argumentos:  \n",
    "    * df:La tabla de datos.    \n",
    "    * La variable a analizar.    \n",
    "    * El indicador binario a utilizar.    \n",
    "\n",
    "Tip:  \n",
    "❖ Separe la variable en dos, utilizando el indicador binario. Recuerde eliminar los perdidos con dropna().  \n",
    "❖ Implemente  ttest_ind de scipy.stats y guarde el valor t y pval.  \n",
    "❖ Reporte las medias para cada grupo (0 y 1).  \n",
    "❖ Reporte la diferencia entre las medias.  \n",
    "❖ Reporte los valores t y p.  "
   ]
  },
  {
   "cell_type": "code",
   "execution_count": 5,
   "metadata": {},
   "outputs": [],
   "source": [
    "def test_hipotesis(df, variable, binarize):\n",
    "    \"\"\" \n",
    "    Retorna media, t-statistic y p-value de una columna de interés a partir de una columna de región binarizada.\n",
    "\n",
    "    Parámetros:\n",
    "    df: dataframe a estudiar\n",
    "    variable: columna asignada de estudio.\n",
    "    binarize: columna de región que se encuentra binarizada.\n",
    "    \n",
    "    \"\"\"\n",
    "    region = df.loc[df[binarize]==1,:].dropna(subset=[variable])\n",
    "    not_region = df.loc[df[binarize]==0,:].dropna(subset=[variable])\n",
    "    t, p = ttest_ind(region[variable], not_region[variable]);\n",
    "    print(f\"La media de la variable {variable} en la región {binarize} es {region[variable].mean():.2f}\")\n",
    "    print(f\"La media de la variable {variable} fuera de la región {binarize} es {not_region[variable].mean():.2f}\")\n",
    "    print(f\"La diferencia entre las medias es {abs(region[variable].mean() - not_region[variable].mean()):.2f}\")\n",
    "    print(f\"El p-value es {p*100:.8f}%\")\n",
    "    print(f\"El t-statistic es {t:.8f}\")"
   ]
  },
  {
   "cell_type": "code",
   "execution_count": 6,
   "metadata": {},
   "outputs": [
    {
     "name": "stdout",
     "output_type": "stream",
     "text": [
      "La media de la variable femlab en la región Africa es 0.73\n",
      "La media de la variable femlab fuera de la región Africa es 0.68\n",
      "La diferencia entre las medias es 0.05\n",
      "El p-value es 7.61771840%\n",
      "El t-statistic es 1.78387288\n"
     ]
    }
   ],
   "source": [
    "#Se prueba la función con el df (df_nuevo), una de las variables de interés (\"femlab\") y una región (\"Africa\"):\n",
    "test_hipotesis(df_nuevo,'femlab','Africa');"
   ]
  },
  {
   "cell_type": "markdown",
   "metadata": {},
   "source": [
    "### Requerimiento 4:\n",
    "\n",
    "#### Implementar una función que grafique los histogramas para ambas muestras (3 puntos):   \n",
    "\n",
    "● Genere una función que devuelva un gráfico donde visualice los dos histogramas cuando la variable es 1 y 0, respectivamente.  \n",
    "Tip: Refactorize la función incluyendo el método hist de matplotlib.pyplot. Incluya los argumentos alpha y label.  \n",
    "\n",
    "● Para las tres variables de interés acorde a su grupo, analice las diferencias de medias por cada continente, y   posteriormente grafique. Concluya con los principales resultados al respecto.  "
   ]
  },
  {
   "cell_type": "code",
   "execution_count": 7,
   "metadata": {},
   "outputs": [],
   "source": [
    "def graficar_hist_clase(df, variable, binarize):\n",
    "    \"\"\"   \n",
    "    Retorna gráfico en el que se visualiza dos histogramas cuando la variable es 1 y 0, respectivamente.\n",
    "\n",
    "    Parámetros:\n",
    "    df: dataframe a estudiar\n",
    "    variable: columna asignada de estudio\n",
    "    binarize: columna de región que se encuentra binarizada\n",
    "\n",
    "    \"\"\"\n",
    "    region = df.loc[df[binarize]==1,:].dropna(subset=[variable])\n",
    "    not_region = df.loc[df[binarize]==0,:].dropna(subset=[variable])\n",
    "    sns.displot(x=variable,data=df, kde=False, aspect=2, hue=binarize, bins = 20, alpha=0.5)\n",
    "    plt.title(f\"Histograma de la variable {variable} en la región {binarize}\")    "
   ]
  },
  {
   "cell_type": "code",
   "execution_count": 8,
   "metadata": {},
   "outputs": [
    {
     "data": {
      "image/png": "[encoded data removed]",
      "text/plain": [
       "<Figure size 768.875x360 with 1 Axes>"
      ]
     },
     "metadata": {
      "needs_background": "light"
     },
     "output_type": "display_data"
    }
   ],
   "source": [
    "graficar_hist_clase(df_nuevo,'femlab',region)\n",
    "    "
   ]
  },
  {
   "cell_type": "code",
   "execution_count": 9,
   "metadata": {},
   "outputs": [
    {
     "name": "stdout",
     "output_type": "stream",
     "text": [
      "La media de la variable literacy en la región Africa es 65.31\n",
      "La media de la variable literacy fuera de la región Africa es 90.20\n",
      "La diferencia entre las medias es 24.89\n",
      "El p-value es 0.00000000%\n",
      "El t-statistic es -8.90999117\n",
      "------------\n",
      "\n",
      "La media de la variable literacy en la región Americas es 89.30\n",
      "La media de la variable literacy fuera de la región Americas es 80.18\n",
      "La diferencia entre las medias es 9.12\n",
      "El p-value es 5.28229703%\n",
      "El t-statistic es 1.95380555\n",
      "------------\n",
      "\n",
      "La media de la variable literacy en la región Asia es 87.36\n",
      "La media de la variable literacy fuera de la región Asia es 78.99\n",
      "La diferencia entre las medias es 8.36\n",
      "El p-value es 2.11144608%\n",
      "El t-statistic es 2.33362795\n",
      "------------\n",
      "\n",
      "La media de la variable literacy en la región Europe es 98.18\n",
      "La media de la variable literacy fuera de la región Europe es 78.29\n",
      "La diferencia entre las medias es 19.88\n",
      "El p-value es 0.00059356%\n",
      "El t-statistic es 4.71843150\n",
      "------------\n",
      "\n",
      "La media de la variable literacy en la región Oceania es 81.98\n",
      "La media de la variable literacy fuera de la región Oceania es 81.52\n",
      "La diferencia entre las medias es 0.46\n",
      "El p-value es 95.85176817%\n",
      "El t-statistic es 0.05211195\n",
      "------------\n",
      "\n"
     ]
    }
   ],
   "source": [
    "for region in df_nuevo.region.unique():\n",
    "    test_hipotesis(df_nuevo,'literacy',region)\n",
    "    print('------------\\n')"
   ]
  },
  {
   "cell_type": "code",
   "execution_count": 10,
   "metadata": {},
   "outputs": [
    {
     "data": {
      "image/png": "[encoded data removed]",
      "text/plain": [
       "<Figure size 762.375x360 with 1 Axes>"
      ]
     },
     "metadata": {
      "needs_background": "light"
     },
     "output_type": "display_data"
    },
    {
     "data": {
      "image/png": "[encoded data removed]",
      "text/plain": [
       "<Figure size 774.5x360 with 1 Axes>"
      ]
     },
     "metadata": {
      "needs_background": "light"
     },
     "output_type": "display_data"
    },
    {
     "data": {
      "image/png": "[encoded data removed]",
      "text/plain": [
       "<Figure size 762.375x360 with 1 Axes>"
      ]
     },
     "metadata": {
      "needs_background": "light"
     },
     "output_type": "display_data"
    },
    {
     "data": {
      "image/png": "[encoded data removed]",
      "text/plain": [
       "<Figure size 762.875x360 with 1 Axes>"
      ]
     },
     "metadata": {
      "needs_background": "light"
     },
     "output_type": "display_data"
    },
    {
     "data": {
      "image/png": "[encoded data removed]",
      "text/plain": [
       "<Figure size 768.875x360 with 1 Axes>"
      ]
     },
     "metadata": {
      "needs_background": "light"
     },
     "output_type": "display_data"
    }
   ],
   "source": [
    "for region in df_nuevo.region.unique():\n",
    "    graficar_hist_clase(df_nuevo,'literacy',region)"
   ]
  },
  {
   "cell_type": "code",
   "execution_count": 11,
   "metadata": {},
   "outputs": [
    {
     "data": {
      "image/png": "[encoded data removed]",
      "text/plain": [
       "<Figure size 720x576 with 1 Axes>"
      ]
     },
     "metadata": {
      "needs_background": "light"
     },
     "output_type": "display_data"
    }
   ],
   "source": [
    "plt.figure(figsize=(10,8))\n",
    "plt.title('Relación del promedio de la Tasa de alfabetismo')\n",
    "plt.plot(df_nuevo.groupby('region')['literacy'].mean(),df_nuevo.groupby('region')['literacy'].mean().index , 'o', color = 'blue')\n",
    "plt.axvline(df_nuevo['literacy'].mean(), color = 'tomato', linestyle ='--');"
   ]
  },
  {
   "cell_type": "markdown",
   "metadata": {},
   "source": [
    "La región de África y Europa, si bien son opuestos en su grado de alfabetismo, comparten su equidistancia del promedio mundial de alfabetismo, presentándose como los outlayers de esta métrica. A diferencia de Oceanía que se encuentra muy cercana la media, y las regiones de Asia y las Américas muestran una realidad similar en alfabetismo."
   ]
  }
 ],
 "metadata": {
  "kernelspec": {
   "display_name": "Python 3.9.7 ('base')",
   "language": "python",
   "name": "python3"
  },
  "language_info": {
   "codemirror_mode": {
    "name": "ipython",
    "version": 3
   },
   "file_extension": ".py",
   "mimetype": "text/x-python",
   "name": "python",
   "nbconvert_exporter": "python",
   "pygments_lexer": "ipython3",
   "version": "3.9.7"
  },
  "orig_nbformat": 4,
  "vscode": {
   "interpreter": {
    "hash": "6c2610a395a5d67bf2ffdc7d92a06589a0c2e9e9f5c1d7ea61fd7a261abd2907"
   }
  }
 },
 "nbformat": 4,
 "nbformat_minor": 2
}
