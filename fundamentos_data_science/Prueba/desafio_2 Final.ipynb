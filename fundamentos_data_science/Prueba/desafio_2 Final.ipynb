{
 "cells": [
  {
   "cell_type": "markdown",
   "metadata": {},
   "source": [
    "NOMBRES ETC"
   ]
  },
  {
   "cell_type": "markdown",
   "metadata": {},
   "source": [
    "- Explicitar tipo de problema (clasificación / regresión)\n",
    "- Definición, justificación de uso de métricas para medir el desempeño"
   ]
  },
  {
   "cell_type": "code",
   "execution_count": null,
   "metadata": {},
   "outputs": [],
   "source": [
    "import pandas as pd\n",
    "import numpy as np\n",
    "import matplotlib.pyplot as plt\n",
    "import seaborn as sns\n",
    "\n",
    "import statsmodels.api as sm\n",
    "\n",
    "# FEATURE ENGINE\n",
    "from feature_engine.wrappers import SklearnTransformerWrapper\n",
    "from feature_engine.imputation import CategoricalImputer, MeanMedianImputer\n",
    "#from feature_engine.encoding import OrdinalEncoder\n",
    "\n",
    "# SKLEARN\n",
    "from sklearn.model_selection import train_test_split\n",
    "from sklearn.preprocessing import StandardScaler, OneHotEncoder, OrdinalEncoder\n",
    "from sklearn.pipeline import Pipeline\n",
    "from sklearn.model_selection import train_test_split\n",
    "from sklearn.linear_model import LinearRegression\n",
    "from sklearn.metrics import r2_score, mean_squared_error\n",
    "from sklearn.model_selection import train_test_split, KFold, LeaveOneOut, cross_val_score, cross_validate\n",
    "\n",
    "# FACTOR ANALYZER\n",
    "from factor_analyzer import FactorAnalyzer\n",
    "\n",
    "# OTROS\n",
    "import helpers as hp\n",
    "from IPython.display import HTML \n"
   ]
  },
  {
   "cell_type": "markdown",
   "metadata": {},
   "source": [
    "### Binarias\n",
    "- `school`: Escuela del estudiante. (binaria: 'GP' - Gabriel Pereira o 'MS' - Mousinho da Silveira).\n",
    "- `sex`: Sexo del estudiante. (binaria: 'F' - Mujer o 'M' - Hombre).\n",
    "- `address`: Ubicación de la casa del estudiante. (binaria: 'U' - urbana o 'R' - rural).\n",
    "- `famsize`: Tamaño de la familia. (binaria: 'LE3' - less or equal to 3 or 'GT3' - greater than 3).\n",
    "- `Pstatus`: Estado cohabitacional de los padres. (binaria: 'T' - cohabitando juntos o 'A' - viviendo separados).\n",
    "- `schoolsup`: Apoyo educacional del colegio. (binaria: si o no).\n",
    "- `famsup`: Apoyo educacional familiar. (binaria: si o no).\n",
    "- `paid`: Clases particulares pagadas (matemáticas o portugués) (binaria: sí o no).\n",
    "- `activities`: Actividades extracurriculares. (binaria: si o no).\n",
    "- `nursery`: Asistió a guardería infantil. (binaria: si o no).\n",
    "- `higher`: Desea proseguir estudios superiores (binaria: si o no).\n",
    "- `internet`: Acceso a internet desde el hogar (binaria: si o no).\n",
    "- `romantic`: Relación romántica (binaria: si o no).\n",
    "\n",
    "### Categóricas (Nominales)\n",
    "- `Mjob`: Ocupación de la madre. (nominal: 'teacher' profesora, 'health' relacionada a salud, 'services' (e.g. administración pública o policía), 'at_home' en casa u 'other' otra).\n",
    "- `Fjob`: Ocupación del padre (nominal: 'teacher' profesor, 'health' relacionado a salud, 'services' (e.g. administración pública o policía), 'at_home' en casa u 'other' otra).\n",
    "- `reason`: Razón para escoger la escuela (nominal: 'home' cercano a casa, 'reputation' reputación de la escuela, 'course' preferencia de cursos u 'other' otra).\n",
    "- `guardian`: Apoderado del estudiante (nominal: 'mother' madre, 'father' padre u 'other' otro).\n",
    "\n",
    "### Numéricas\n",
    "- `age`: Edad del estudiante. (numérica: de 15 a 22).\n",
    "- `Medu`: Nivel educacional de la madre. (numérica: 0 - ninguno, 1 - educación básica (4to), 2 - de 5to a 9, 3 - educación media, o 4 - educación superior).\n",
    "- `Fedu`: Nivel educacional del padre. (numérica: 0 - ninguno, 1 - educación básica (4to), 2 - de 5to a 9, 3 - educación media, o 4 - educación superior).\n",
    "- `failures`: Número de clases reprobadas. (numérica: n si 1<=n<3, de lo contrario 4).\n",
    "- `famrel`: Calidad de las relaciones familiares. (numérica: de 1 - muy malas a 5 - excelentes).\n",
    "- `freetime`: Tiempo libre fuera del colegio (numérica: de 1 - muy poco a 5 - mucho).\n",
    "- `goout`: Salidas con amigos (numérica: de 1 - muy pocas a 5 - muchas).\n",
    "- `Dalc`: Consumo de alcohol en día de semana (numérica: de 1 - muy bajo a 5 - muy alto).\n",
    "- `Walc`: Consumo de alcohol en fines de semana (numérica: de 1 - muy bajo a 5 - muy alto).\n",
    "- `health`: Estado de salud actual (numérica: from 1 - muy malo to 5 - muy bueno).\n",
    "- `absences`: Cantidad de ausencias escolares (numérica: de 0 a 93).\n",
    "- `traveltime`: Tiempo de viaje entre hogar y colegio. Se debe codificar como:\n",
    "\t* 1 si es menos de 15 min,\n",
    "\t* 2 si es de 15 a 30 min,\n",
    "\t* 3 si es de 30 min. a 1 hora,\n",
    "\t* 4 - si es más de 1 hora).\n",
    "- `studytime`: Horas semanales dedicadas al estudio. Se debe codificar como:\n",
    "\t* 1 si es menos de 2 horas,\n",
    "\t* 2 si es de 2 a 5 horas,\n",
    "\t* 3 si es de 5 a 10 horas,\n",
    "\t* 4 si es más de 10 horas.\n",
    "\n",
    "### Target (Numérico)\n",
    "- `G1`: Notas durante el primer semestre (numérica: de 0 a 20). Este es uno de sus vectores objetivos para el modelo descriptivo.\n",
    "- `G2`: Notas durante el segundo semestre (numérica: de 0 a 20). Este es uno de sus vectores objetivos para el modelo descriptivo.\n",
    "- `G3`: Promedio final (numérica: de 0 a 20). Este es uno de sus vectores objetivos para el modelo descriptivo y el vector a predecir en el modelo predictivo."
   ]
  },
  {
   "cell_type": "markdown",
   "metadata": {},
   "source": [
    "### Resolución de aspectos adicionales a considerar:\n",
    "### Parte 1: \n",
    " - Importar correctamente la data con separador indicado\n",
    " - Recodificación de valores nulos\n",
    " - Reasignación y limpieza de 3 variables númericas ingresadas como string(\"age\", \"goout\", \"health)\n",
    " - No esta indicado, pero se imputa los nulos en variables categóricas por moda y para variables númericas por la media."
   ]
  },
  {
   "cell_type": "code",
   "execution_count": null,
   "metadata": {},
   "outputs": [],
   "source": [
    "def load_students():\n",
    "        df = pd.read_csv('students.csv',sep='|',index_col = 'Unnamed: 0', na_values=['nulidade', 'sem validade', 'zero'])\n",
    "        df.age=df.age.str.replace('\"','')\n",
    "        df.goout=df.goout.str.replace('\"','')\n",
    "        df.health=df.health.str.replace('\"','')\n",
    "        #df.astype({'age': 'float', 'goout':'float','health':'float'})\n",
    "        df.age = pd.to_numeric(df.age, errors='coerce')\n",
    "        df.goout = pd.to_numeric(df.goout, errors='coerce')\n",
    "        df.health = pd.to_numeric(df.health, errors='coerce')\n",
    "        return df"
   ]
  },
  {
   "cell_type": "code",
   "execution_count": null,
   "metadata": {},
   "outputs": [],
   "source": [
    "df = load_students()\n",
    "df"
   ]
  },
  {
   "cell_type": "code",
   "execution_count": null,
   "metadata": {},
   "outputs": [],
   "source": [
    "hp.describe_variables(df)"
   ]
  },
  {
   "cell_type": "markdown",
   "metadata": {},
   "source": [
    "#### Modelo Explicativo:"
   ]
  },
  {
   "cell_type": "code",
   "execution_count": null,
   "metadata": {},
   "outputs": [],
   "source": [
    "# Definición de dataframes eliminando G1, G2 y G3 según corresponda\n",
    "dfs = {}\n",
    "dfs['G1'] = df.drop([\"G2\", \"G3\"], axis=1)\n",
    "dfs['G2'] = df.drop([\"G1\", \"G3\"], axis=1)\n",
    "dfs['G3'] = df.drop([\"G1\", \"G2\"], axis=1)\n"
   ]
  },
  {
   "cell_type": "code",
   "execution_count": null,
   "metadata": {},
   "outputs": [],
   "source": [
    "varremove = {}\n",
    "varremove['G1'] = [\"traveltime\", \"Pstatus\", \"age\", \"nursery\", \"famrel\", \"school\", \"Dalc\", \"activities\", \"absences\", \"Medu\", \"romantic\", \"internet\", \"guardian\", \"paid\", \"address\", \"reason\", \"Walc\", \"famsize\", \"health\", \"freetime\", \"Fedu\"]\n",
    "varremove['G2'] = [\"absences\",\"Fedu\",\"nursery\",\"activities\",\"Dalc\",\"Walc\",\"famrel\",\"paid\",\"freetime\",\"Pstatus\",\"Mjob\",\"school\",\"health\",\"age\",\"guardian\",\"traveltime\",\"Fjob\",\"higher\",\"internet\",\"famsize\",\"famsup\"]\n",
    "varremove['G3'] = [\"nursery\", \"absences\", \"Mjob\", \"health\", \"Fedu\", \"guardian\", \"paid\", \"traveltime\", \"Pstatus\", \"famrel\", \"age\", \"school\", \"address\", \"Walc\", \"Dalc\", \"freetime\", \"activities\", \"studytime\", \"internet\", \"famsup\", \"Fjob\", \"famsize\", \"higher\", \"schoolsup\"]\n",
    "variables = dfs['G1'].drop(columns='G1').columns.to_list()\n",
    "dicc = {key:[(col in varremove[key]) for col in variables] for key in varremove.keys()}\n",
    "test_df = pd.DataFrame(dicc,index = variables)\n",
    "filtro = (~(test_df.all(axis='columns') | ~test_df.any(axis='columns')))\n",
    "test_df[filtro]"
   ]
  },
  {
   "cell_type": "markdown",
   "metadata": {},
   "source": [
    "Variables Sacadas en G1 que permanecen en G2, G3\n",
    "- Medu\n",
    "\n",
    "Variables Sacadas en G2 y G3 que no se sacaron en G1\n",
    "- famsize\n",
    "- Fedu\n",
    "- Mjob\n",
    "- Fjob\n",
    "- guardian\n",
    "- famsup\n",
    "- paid\n",
    "- higher\n",
    "- internet\n",
    "- freetime\n",
    "- Walc\n",
    "- health\n",
    "\n",
    "Variables \n",
    "- studytime\n",
    "- schoolsup\n",
    "- address"
   ]
  },
  {
   "cell_type": "code",
   "execution_count": null,
   "metadata": {},
   "outputs": [],
   "source": [
    "dfs['G1_r'] = dfs[\"G1\"].drop(columns=varremove[\"G1\"])\n",
    "dfs['G2_r'] = dfs[\"G2\"].drop(columns=varremove[\"G2\"])\n",
    "dfs['G3_r'] = dfs[\"G3\"].drop(columns=varremove[\"G3\"])"
   ]
  },
  {
   "cell_type": "code",
   "execution_count": null,
   "metadata": {},
   "outputs": [],
   "source": [
    "targets = list(dfs.keys())\n",
    "df_t = {}\n",
    "pipes = {}\n",
    "X_f = {}\n",
    "ys = {}\n",
    "x1 = {}\n",
    "models = {}\n",
    "targetsname = {'G1_r': \"G1\",'G2_r': \"G2\", 'G3_r': \"G3\", \"G1\": \"G1\", \"G2\": \"G2\", \"G3\":\"G3\"}\n",
    "\n",
    "for tname in targets:\n",
    "    df_t[tname] = dfs[tname].dropna(axis=0, subset= [targetsname[tname]])\n",
    "    x1[tname] = df_t[tname].drop(columns=[targetsname[tname]])\n",
    "    ys[tname] = df_t[tname][targetsname[tname]]\n",
    "    if tname in ['G1', 'G2', 'G3']:\n",
    "        sns.displot(ys[tname])\n",
    "        plt.title(tname)\n",
    "        plt.show(f'Target: {targetsname[tname]}')\n",
    "    \n"
   ]
  },
  {
   "cell_type": "code",
   "execution_count": null,
   "metadata": {},
   "outputs": [],
   "source": [
    "for tname in targets:\n",
    "    \n",
    "    # Grupos de variables    \n",
    "    x1_cat = x1[tname].select_dtypes(np.object_).columns.to_list()                                                         # Categoricas\n",
    "    x1_catbin = [col for col in x1[tname].select_dtypes(np.object_).columns.to_list() if len(x1[tname][col].value_counts()) == 2] # Categoricas binarias\n",
    "    x1_catnum = [col for col in x1[tname].select_dtypes(np.object_).columns.to_list() if len(x1[tname][col].value_counts()) > 2]  # Categoricas numericas\n",
    "    x1_num = x1[tname].select_dtypes(np.number).columns.to_list()                                                          # Numericas\n",
    "    \n",
    "    # Definición de pipelines\n",
    "    pipes[tname] = Pipeline(steps = [\n",
    "                    (\"mmi\" , MeanMedianImputer(imputation_method='median')),\n",
    "                    (\"ci\" , CategoricalImputer(imputation_method='frequent')),\n",
    "                    ('oe', SklearnTransformerWrapper(OrdinalEncoder(categories=hp.OrdinalEncoderListCategories(x1[tname][x1_catbin], direction='ascending', bin_or_num='bin') + hp.OrdinalEncoderListCategories(x1[tname][x1_catnum], direction='descending', bin_or_num='num') ),variables =  x1_catbin + x1_catnum)),\n",
    "                    (\"sc\" , SklearnTransformerWrapper(StandardScaler(), variables= x1_num))\n",
    "                    ])\n",
    "    # Ajuste\n",
    "    X_f[tname] = pipes[tname].fit_transform(x1[tname],ys[tname]) # Transformo data de acuerdo al pipeline\n",
    "    \n",
    "    # Test para F-Analysis\n",
    "    if tname == \"G1\":\n",
    "        hp.test_factor_analyzer(X_f[tname].loc[:,\"famrel\":\"health\"].values) \n",
    "        fa = FactorAnalyzer()\n",
    "        fa.fit(X_f[tname].loc[:,\"famrel\":\"health\"])\n",
    "        ev, v = fa.get_eigenvalues() \n",
    "        ev.shape\n",
    "        plt.plot(range(1,ev.shape[0]+1), ev, \"-o\")\n",
    "        plt.axhline(y=1,c=\"red\",ls=\"--\")\n",
    "        plt.title(\"Scree Plot\")\n",
    "        plt.show();\n",
    "\n",
    "    \n",
    "    # Modelo descriptivo\n",
    "    X_f[tname] = sm.add_constant(X_f[tname]) # Agrego una columna de 1's para el modelo de regresión lineal\n",
    "    models[tname] = sm.OLS(ys[tname] ,X_f[tname]).fit() # Modelo de regresión lineal\n",
    "    predsg1 = models[tname].predict(X_f[tname]) # Predicciones del modelo de regresión lineal\n",
    "\n",
    "    # Prints\n",
    "    display(HTML(f'<p style=\"padding:20px 30px; background:tomato;font-size:20px;color: white\">Modelo exploratorio para {tname}</p>'))\n",
    "    display(models[tname].summary())\n",
    "    hp.evaluation(models[tname], ys[tname], predsg1)\n",
    "\n",
    "\n"
   ]
  },
  {
   "cell_type": "markdown",
   "metadata": {},
   "source": [
    "#### Modelo Predictivo  (G3)"
   ]
  },
  {
   "cell_type": "code",
   "execution_count": 12,
   "metadata": {},
   "outputs": [
    {
     "name": "stdout",
     "output_type": "stream",
     "text": [
      "\n",
      "Modelo G1: \n",
      "R2: 0.21782856553842733\n",
      "RMSE: 3.14649057238124\n",
      "\n",
      "Modelo G2: \n",
      "R2: 0.21596685924634706\n",
      "RMSE: 3.341242024651787\n",
      "\n",
      "Modelo G3: \n",
      "R2: 0.03775471315120604\n",
      "RMSE: 4.547224395899578\n",
      "\n",
      "Modelo G1_r: \n",
      "R2: 0.2308173655463357\n",
      "RMSE: 3.12025576787068\n",
      "\n",
      "Modelo G2_r: \n",
      "R2: 0.3059197800205178\n",
      "RMSE: 3.1437323118696967\n",
      "\n",
      "Modelo G3_r: \n",
      "R2: 0.12343076687985255\n",
      "RMSE: 4.340068674454519\n"
     ]
    }
   ],
   "source": [
    "#Modelo usando todas las variables (menos G1 y G2):\n",
    "\n",
    "cvs   = {}\n",
    "scorings = {\"r2\":\"r2\", \"neg_root_mean_squared_error\": \"neg_root_mean_squared_error\"}\n",
    "metrics = scorings.keys()\n",
    "\n",
    "for tname in X_f.keys():\n",
    "\n",
    "    X_train, X_test, y_train, y_test = train_test_split (X_f[tname], ys[tname], test_size=0.2, random_state=42)\n",
    "    lr = LinearRegression()\n",
    "    lr.fit(X_train,y_train)\n",
    "\n",
    "    y_pred = lr.predict(X_test)\n",
    "    cv = KFold(n_splits=2, random_state=42, shuffle=True) #LeaveOneOut()\n",
    "    cvs[tname] = cross_validate(lr, X_f[tname], ys[tname], cv=cv, scoring = scorings)\n",
    "\n",
    "    \n",
    "    print(f\"\\nModelo {tname}: \")\n",
    "    print(\"R2:\", r2_score (y_test,y_pred))\n",
    "    print(\"RMSE:\", mean_squared_error(y_test,y_pred,squared=False))"
   ]
  },
  {
   "cell_type": "code",
   "execution_count": 13,
   "metadata": {},
   "outputs": [
    {
     "data": {
      "text/html": [
       "<table><tr><th>Models</th><th>r2</th><th>neg_root_mean_squared_error</th><th>Nº de variables</th><th>fit time</th><th>score time</th></tr><tr><td>G1</td><td>0.0437</td><td>-3.2375</td><td>31</td><td>0.0033</td><td>0.0018</td></tr><tr><td>G2</td><td>0.0481</td><td>-3.6596</td><td>31</td><td>0.0040</td><td>0.0025</td></tr><tr><td>G3</td><td>0.0624</td><td>-4.4103</td><td>31</td><td>0.0022</td><td>0.0020</td></tr><tr><td>G1_r</td><td>0.1956</td><td>-2.9718</td><td>10</td><td>0.0026</td><td>0.0013</td></tr><tr><td>G2_r</td><td>0.1828</td><td>-3.3910</td><td>10</td><td>0.0017</td><td>0.0012</td></tr><tr><td>G3_r</td><td>0.1376</td><td>-4.2283</td><td>7</td><td>0.0016</td><td>0.0018</td></tr>"
      ],
      "text/plain": [
       "<IPython.core.display.HTML object>"
      ]
     },
     "metadata": {},
     "output_type": "display_data"
    }
   ],
   "source": [
    "table_str = '<table><tr><th>Models</th><th>' + '</th><th>'.join(metrics) + '</th><th>Nº de variables</th><th>fit time</th><th>score time</th></tr>'\n",
    "\n",
    "for tname in X_f.keys():\n",
    "    table_str += '<tr>'\n",
    "    table_str += f\"<td>{tname}</td>\"\n",
    "    for metric in metrics:\n",
    "        table_str += f\"<td>{cvs[tname]['test_'+metric].mean():.4f}</td>\"\n",
    "    table_str += f\"<td>{len(X_f[tname].columns.to_list())}</td>\"\n",
    "    table_str += f\"<td>{cvs[tname]['fit_time'].mean():.4f}</td>\"\n",
    "    table_str += f\"<td>{cvs[tname]['score_time'].mean():.4f}</td>\"\n",
    "    table_str += '</tr>'\n",
    "\n",
    "display(HTML(table_str))"
   ]
  }
 ],
 "metadata": {
  "kernelspec": {
   "display_name": "Python 3.10.4 ('dl')",
   "language": "python",
   "name": "python3"
  },
  "language_info": {
   "codemirror_mode": {
    "name": "ipython",
    "version": 3
   },
   "file_extension": ".py",
   "mimetype": "text/x-python",
   "name": "python",
   "nbconvert_exporter": "python",
   "pygments_lexer": "ipython3",
   "version": "3.10.4"
  },
  "orig_nbformat": 4,
  "vscode": {
   "interpreter": {
    "hash": "c9ccd8639d7ac6d8ae46f08631d02de0d1c9f4a08850208985333be71082afd9"
   }
  }
 },
 "nbformat": 4,
 "nbformat_minor": 2
}
