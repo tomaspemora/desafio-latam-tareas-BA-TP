{
 "cells": [
  {
   "cell_type": "markdown",
   "metadata": {},
   "source": [
    "- Que son las variables South y Hong\n",
    "- Variable Private que se hace? `Para los dos casos que mencionas pasen el nombre completo a lowercase. Es decir, private y never-married .`\n",
    "- Asumimos que toda la data es para cross validation? \n",
    "- En el desafio 2 se puede (o es recomendable) usar el G1 para calcular G2.\n",
    " "
   ]
  }
 ],
 "metadata": {
  "kernelspec": {
   "display_name": "Python 3.10.4 ('dl')",
   "language": "python",
   "name": "python3"
  },
  "language_info": {
   "name": "python",
   "version": "3.10.4"
  },
  "orig_nbformat": 4,
  "vscode": {
   "interpreter": {
    "hash": "c9ccd8639d7ac6d8ae46f08631d02de0d1c9f4a08850208985333be71082afd9"
   }
  }
 },
 "nbformat": 4,
 "nbformat_minor": 2
}
